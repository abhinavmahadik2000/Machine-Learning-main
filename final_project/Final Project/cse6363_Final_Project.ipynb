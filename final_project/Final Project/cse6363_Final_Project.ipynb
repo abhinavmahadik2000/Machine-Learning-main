{
  "nbformat": 4,
  "nbformat_minor": 0,
  "metadata": {
    "colab": {
      "name": "cse6363_Final_Project",
      "provenance": []
    },
    "kernelspec": {
      "name": "python3",
      "display_name": "Python 3"
    },
    "language_info": {
      "name": "python"
    }
  },
  "cells": [
    {
      "cell_type": "markdown",
      "source": [
        "#Dataset"
      ],
      "metadata": {
        "id": "1o90w_qsV3bh"
      }
    },
    {
      "cell_type": "code",
      "source": [
        "import pandas as pd\n",
        "import numpy as np\n",
        "import matplotlib.pyplot as plt  \n",
        "import nltk\n",
        "import re"
      ],
      "metadata": {
        "id": "iHdAM85rTnTM"
      },
      "execution_count": null,
      "outputs": []
    },
    {
      "cell_type": "code",
      "execution_count": null,
      "metadata": {
        "id": "-CopHoIap0zF",
        "colab": {
          "base_uri": "https://localhost:8080/"
        },
        "outputId": "609e0c3d-5be7-434b-f7a0-81f6da295ba7"
      },
      "outputs": [
        {
          "output_type": "stream",
          "name": "stdout",
          "text": [
            "--2022-08-10 17:29:07--  https://raw.githubusercontent.com/aadityadamle/Machine_Learning/main/final_project/train.csv\n",
            "Resolving raw.githubusercontent.com (raw.githubusercontent.com)... 185.199.108.133, 185.199.109.133, 185.199.110.133, ...\n",
            "Connecting to raw.githubusercontent.com (raw.githubusercontent.com)|185.199.108.133|:443... connected.\n",
            "HTTP request sent, awaiting response... 200 OK\n",
            "Length: 987712 (965K) [text/plain]\n",
            "Saving to: ‘train.csv.1’\n",
            "\n",
            "\rtrain.csv.1           0%[                    ]       0  --.-KB/s               \rtrain.csv.1         100%[===================>] 964.56K  --.-KB/s    in 0.008s  \n",
            "\n",
            "2022-08-10 17:29:08 (117 MB/s) - ‘train.csv.1’ saved [987712/987712]\n",
            "\n",
            "--2022-08-10 17:29:08--  https://raw.githubusercontent.com/aadityadamle/Machine_Learning/main/final_project/test.csv\n",
            "Resolving raw.githubusercontent.com (raw.githubusercontent.com)... 185.199.109.133, 185.199.108.133, 185.199.111.133, ...\n",
            "Connecting to raw.githubusercontent.com (raw.githubusercontent.com)|185.199.109.133|:443... connected.\n",
            "HTTP request sent, awaiting response... 200 OK\n",
            "Length: 420783 (411K) [text/plain]\n",
            "Saving to: ‘test.csv.1’\n",
            "\n",
            "test.csv.1          100%[===================>] 410.92K  --.-KB/s    in 0.008s  \n",
            "\n",
            "2022-08-10 17:29:08 (47.2 MB/s) - ‘test.csv.1’ saved [420783/420783]\n",
            "\n"
          ]
        }
      ],
      "source": [
        "#Download the dataset\n",
        "!wget https://raw.githubusercontent.com/aadityadamle/Machine_Learning/main/final_project/train.csv\n",
        "!wget https://raw.githubusercontent.com/aadityadamle/Machine_Learning/main/final_project/test.csv"
      ]
    },
    {
      "cell_type": "code",
      "source": [
        "#Create dataframe\n",
        "train = pd.read_csv(\"/content/train.csv\")\n",
        "test = pd.read_csv(\"/content/test.csv\")"
      ],
      "metadata": {
        "id": "TEsN4l4KTehY"
      },
      "execution_count": null,
      "outputs": []
    },
    {
      "cell_type": "code",
      "source": [
        "#Examine data\n",
        "train"
      ],
      "metadata": {
        "id": "5oG3sQCpUDf5",
        "colab": {
          "base_uri": "https://localhost:8080/",
          "height": 424
        },
        "outputId": "af881dfb-7111-4506-8c2e-e530de13e914"
      },
      "execution_count": null,
      "outputs": [
        {
          "output_type": "execute_result",
          "data": {
            "text/plain": [
              "         id keyword location  \\\n",
              "0         1     NaN      NaN   \n",
              "1         4     NaN      NaN   \n",
              "2         5     NaN      NaN   \n",
              "3         6     NaN      NaN   \n",
              "4         7     NaN      NaN   \n",
              "...     ...     ...      ...   \n",
              "7608  10869     NaN      NaN   \n",
              "7609  10870     NaN      NaN   \n",
              "7610  10871     NaN      NaN   \n",
              "7611  10872     NaN      NaN   \n",
              "7612  10873     NaN      NaN   \n",
              "\n",
              "                                                   text  target  \n",
              "0     Our Deeds are the Reason of this #earthquake M...       1  \n",
              "1                Forest fire near La Ronge Sask. Canada       1  \n",
              "2     All residents asked to 'shelter in place' are ...       1  \n",
              "3     13,000 people receive #wildfires evacuation or...       1  \n",
              "4     Just got sent this photo from Ruby #Alaska as ...       1  \n",
              "...                                                 ...     ...  \n",
              "7608  Two giant cranes holding a bridge collapse int...       1  \n",
              "7609  @aria_ahrary @TheTawniest The out of control w...       1  \n",
              "7610  M1.94 [01:04 UTC]?5km S of Volcano Hawaii. htt...       1  \n",
              "7611  Police investigating after an e-bike collided ...       1  \n",
              "7612  The Latest: More Homes Razed by Northern Calif...       1  \n",
              "\n",
              "[7613 rows x 5 columns]"
            ],
            "text/html": [
              "\n",
              "  <div id=\"df-7c944d99-7328-4ade-ac9e-b1d78baec64d\">\n",
              "    <div class=\"colab-df-container\">\n",
              "      <div>\n",
              "<style scoped>\n",
              "    .dataframe tbody tr th:only-of-type {\n",
              "        vertical-align: middle;\n",
              "    }\n",
              "\n",
              "    .dataframe tbody tr th {\n",
              "        vertical-align: top;\n",
              "    }\n",
              "\n",
              "    .dataframe thead th {\n",
              "        text-align: right;\n",
              "    }\n",
              "</style>\n",
              "<table border=\"1\" class=\"dataframe\">\n",
              "  <thead>\n",
              "    <tr style=\"text-align: right;\">\n",
              "      <th></th>\n",
              "      <th>id</th>\n",
              "      <th>keyword</th>\n",
              "      <th>location</th>\n",
              "      <th>text</th>\n",
              "      <th>target</th>\n",
              "    </tr>\n",
              "  </thead>\n",
              "  <tbody>\n",
              "    <tr>\n",
              "      <th>0</th>\n",
              "      <td>1</td>\n",
              "      <td>NaN</td>\n",
              "      <td>NaN</td>\n",
              "      <td>Our Deeds are the Reason of this #earthquake M...</td>\n",
              "      <td>1</td>\n",
              "    </tr>\n",
              "    <tr>\n",
              "      <th>1</th>\n",
              "      <td>4</td>\n",
              "      <td>NaN</td>\n",
              "      <td>NaN</td>\n",
              "      <td>Forest fire near La Ronge Sask. Canada</td>\n",
              "      <td>1</td>\n",
              "    </tr>\n",
              "    <tr>\n",
              "      <th>2</th>\n",
              "      <td>5</td>\n",
              "      <td>NaN</td>\n",
              "      <td>NaN</td>\n",
              "      <td>All residents asked to 'shelter in place' are ...</td>\n",
              "      <td>1</td>\n",
              "    </tr>\n",
              "    <tr>\n",
              "      <th>3</th>\n",
              "      <td>6</td>\n",
              "      <td>NaN</td>\n",
              "      <td>NaN</td>\n",
              "      <td>13,000 people receive #wildfires evacuation or...</td>\n",
              "      <td>1</td>\n",
              "    </tr>\n",
              "    <tr>\n",
              "      <th>4</th>\n",
              "      <td>7</td>\n",
              "      <td>NaN</td>\n",
              "      <td>NaN</td>\n",
              "      <td>Just got sent this photo from Ruby #Alaska as ...</td>\n",
              "      <td>1</td>\n",
              "    </tr>\n",
              "    <tr>\n",
              "      <th>...</th>\n",
              "      <td>...</td>\n",
              "      <td>...</td>\n",
              "      <td>...</td>\n",
              "      <td>...</td>\n",
              "      <td>...</td>\n",
              "    </tr>\n",
              "    <tr>\n",
              "      <th>7608</th>\n",
              "      <td>10869</td>\n",
              "      <td>NaN</td>\n",
              "      <td>NaN</td>\n",
              "      <td>Two giant cranes holding a bridge collapse int...</td>\n",
              "      <td>1</td>\n",
              "    </tr>\n",
              "    <tr>\n",
              "      <th>7609</th>\n",
              "      <td>10870</td>\n",
              "      <td>NaN</td>\n",
              "      <td>NaN</td>\n",
              "      <td>@aria_ahrary @TheTawniest The out of control w...</td>\n",
              "      <td>1</td>\n",
              "    </tr>\n",
              "    <tr>\n",
              "      <th>7610</th>\n",
              "      <td>10871</td>\n",
              "      <td>NaN</td>\n",
              "      <td>NaN</td>\n",
              "      <td>M1.94 [01:04 UTC]?5km S of Volcano Hawaii. htt...</td>\n",
              "      <td>1</td>\n",
              "    </tr>\n",
              "    <tr>\n",
              "      <th>7611</th>\n",
              "      <td>10872</td>\n",
              "      <td>NaN</td>\n",
              "      <td>NaN</td>\n",
              "      <td>Police investigating after an e-bike collided ...</td>\n",
              "      <td>1</td>\n",
              "    </tr>\n",
              "    <tr>\n",
              "      <th>7612</th>\n",
              "      <td>10873</td>\n",
              "      <td>NaN</td>\n",
              "      <td>NaN</td>\n",
              "      <td>The Latest: More Homes Razed by Northern Calif...</td>\n",
              "      <td>1</td>\n",
              "    </tr>\n",
              "  </tbody>\n",
              "</table>\n",
              "<p>7613 rows × 5 columns</p>\n",
              "</div>\n",
              "      <button class=\"colab-df-convert\" onclick=\"convertToInteractive('df-7c944d99-7328-4ade-ac9e-b1d78baec64d')\"\n",
              "              title=\"Convert this dataframe to an interactive table.\"\n",
              "              style=\"display:none;\">\n",
              "        \n",
              "  <svg xmlns=\"http://www.w3.org/2000/svg\" height=\"24px\"viewBox=\"0 0 24 24\"\n",
              "       width=\"24px\">\n",
              "    <path d=\"M0 0h24v24H0V0z\" fill=\"none\"/>\n",
              "    <path d=\"M18.56 5.44l.94 2.06.94-2.06 2.06-.94-2.06-.94-.94-2.06-.94 2.06-2.06.94zm-11 1L8.5 8.5l.94-2.06 2.06-.94-2.06-.94L8.5 2.5l-.94 2.06-2.06.94zm10 10l.94 2.06.94-2.06 2.06-.94-2.06-.94-.94-2.06-.94 2.06-2.06.94z\"/><path d=\"M17.41 7.96l-1.37-1.37c-.4-.4-.92-.59-1.43-.59-.52 0-1.04.2-1.43.59L10.3 9.45l-7.72 7.72c-.78.78-.78 2.05 0 2.83L4 21.41c.39.39.9.59 1.41.59.51 0 1.02-.2 1.41-.59l7.78-7.78 2.81-2.81c.8-.78.8-2.07 0-2.86zM5.41 20L4 18.59l7.72-7.72 1.47 1.35L5.41 20z\"/>\n",
              "  </svg>\n",
              "      </button>\n",
              "      \n",
              "  <style>\n",
              "    .colab-df-container {\n",
              "      display:flex;\n",
              "      flex-wrap:wrap;\n",
              "      gap: 12px;\n",
              "    }\n",
              "\n",
              "    .colab-df-convert {\n",
              "      background-color: #E8F0FE;\n",
              "      border: none;\n",
              "      border-radius: 50%;\n",
              "      cursor: pointer;\n",
              "      display: none;\n",
              "      fill: #1967D2;\n",
              "      height: 32px;\n",
              "      padding: 0 0 0 0;\n",
              "      width: 32px;\n",
              "    }\n",
              "\n",
              "    .colab-df-convert:hover {\n",
              "      background-color: #E2EBFA;\n",
              "      box-shadow: 0px 1px 2px rgba(60, 64, 67, 0.3), 0px 1px 3px 1px rgba(60, 64, 67, 0.15);\n",
              "      fill: #174EA6;\n",
              "    }\n",
              "\n",
              "    [theme=dark] .colab-df-convert {\n",
              "      background-color: #3B4455;\n",
              "      fill: #D2E3FC;\n",
              "    }\n",
              "\n",
              "    [theme=dark] .colab-df-convert:hover {\n",
              "      background-color: #434B5C;\n",
              "      box-shadow: 0px 1px 3px 1px rgba(0, 0, 0, 0.15);\n",
              "      filter: drop-shadow(0px 1px 2px rgba(0, 0, 0, 0.3));\n",
              "      fill: #FFFFFF;\n",
              "    }\n",
              "  </style>\n",
              "\n",
              "      <script>\n",
              "        const buttonEl =\n",
              "          document.querySelector('#df-7c944d99-7328-4ade-ac9e-b1d78baec64d button.colab-df-convert');\n",
              "        buttonEl.style.display =\n",
              "          google.colab.kernel.accessAllowed ? 'block' : 'none';\n",
              "\n",
              "        async function convertToInteractive(key) {\n",
              "          const element = document.querySelector('#df-7c944d99-7328-4ade-ac9e-b1d78baec64d');\n",
              "          const dataTable =\n",
              "            await google.colab.kernel.invokeFunction('convertToInteractive',\n",
              "                                                     [key], {});\n",
              "          if (!dataTable) return;\n",
              "\n",
              "          const docLinkHtml = 'Like what you see? Visit the ' +\n",
              "            '<a target=\"_blank\" href=https://colab.research.google.com/notebooks/data_table.ipynb>data table notebook</a>'\n",
              "            + ' to learn more about interactive tables.';\n",
              "          element.innerHTML = '';\n",
              "          dataTable['output_type'] = 'display_data';\n",
              "          await google.colab.output.renderOutput(dataTable, element);\n",
              "          const docLink = document.createElement('div');\n",
              "          docLink.innerHTML = docLinkHtml;\n",
              "          element.appendChild(docLink);\n",
              "        }\n",
              "      </script>\n",
              "    </div>\n",
              "  </div>\n",
              "  "
            ]
          },
          "metadata": {},
          "execution_count": 4
        }
      ]
    },
    {
      "cell_type": "code",
      "source": [
        "#Remove id column\n",
        "train = train.iloc[:,1:]\n",
        "train"
      ],
      "metadata": {
        "id": "kUmbYX_nUG54",
        "colab": {
          "base_uri": "https://localhost:8080/",
          "height": 424
        },
        "outputId": "5cc578d6-644e-4567-ee19-ab89fe838a88"
      },
      "execution_count": null,
      "outputs": [
        {
          "output_type": "execute_result",
          "data": {
            "text/plain": [
              "     keyword location                                               text  \\\n",
              "0        NaN      NaN  Our Deeds are the Reason of this #earthquake M...   \n",
              "1        NaN      NaN             Forest fire near La Ronge Sask. Canada   \n",
              "2        NaN      NaN  All residents asked to 'shelter in place' are ...   \n",
              "3        NaN      NaN  13,000 people receive #wildfires evacuation or...   \n",
              "4        NaN      NaN  Just got sent this photo from Ruby #Alaska as ...   \n",
              "...      ...      ...                                                ...   \n",
              "7608     NaN      NaN  Two giant cranes holding a bridge collapse int...   \n",
              "7609     NaN      NaN  @aria_ahrary @TheTawniest The out of control w...   \n",
              "7610     NaN      NaN  M1.94 [01:04 UTC]?5km S of Volcano Hawaii. htt...   \n",
              "7611     NaN      NaN  Police investigating after an e-bike collided ...   \n",
              "7612     NaN      NaN  The Latest: More Homes Razed by Northern Calif...   \n",
              "\n",
              "      target  \n",
              "0          1  \n",
              "1          1  \n",
              "2          1  \n",
              "3          1  \n",
              "4          1  \n",
              "...      ...  \n",
              "7608       1  \n",
              "7609       1  \n",
              "7610       1  \n",
              "7611       1  \n",
              "7612       1  \n",
              "\n",
              "[7613 rows x 4 columns]"
            ],
            "text/html": [
              "\n",
              "  <div id=\"df-be51aee0-aace-424d-bea2-8000bfedae64\">\n",
              "    <div class=\"colab-df-container\">\n",
              "      <div>\n",
              "<style scoped>\n",
              "    .dataframe tbody tr th:only-of-type {\n",
              "        vertical-align: middle;\n",
              "    }\n",
              "\n",
              "    .dataframe tbody tr th {\n",
              "        vertical-align: top;\n",
              "    }\n",
              "\n",
              "    .dataframe thead th {\n",
              "        text-align: right;\n",
              "    }\n",
              "</style>\n",
              "<table border=\"1\" class=\"dataframe\">\n",
              "  <thead>\n",
              "    <tr style=\"text-align: right;\">\n",
              "      <th></th>\n",
              "      <th>keyword</th>\n",
              "      <th>location</th>\n",
              "      <th>text</th>\n",
              "      <th>target</th>\n",
              "    </tr>\n",
              "  </thead>\n",
              "  <tbody>\n",
              "    <tr>\n",
              "      <th>0</th>\n",
              "      <td>NaN</td>\n",
              "      <td>NaN</td>\n",
              "      <td>Our Deeds are the Reason of this #earthquake M...</td>\n",
              "      <td>1</td>\n",
              "    </tr>\n",
              "    <tr>\n",
              "      <th>1</th>\n",
              "      <td>NaN</td>\n",
              "      <td>NaN</td>\n",
              "      <td>Forest fire near La Ronge Sask. Canada</td>\n",
              "      <td>1</td>\n",
              "    </tr>\n",
              "    <tr>\n",
              "      <th>2</th>\n",
              "      <td>NaN</td>\n",
              "      <td>NaN</td>\n",
              "      <td>All residents asked to 'shelter in place' are ...</td>\n",
              "      <td>1</td>\n",
              "    </tr>\n",
              "    <tr>\n",
              "      <th>3</th>\n",
              "      <td>NaN</td>\n",
              "      <td>NaN</td>\n",
              "      <td>13,000 people receive #wildfires evacuation or...</td>\n",
              "      <td>1</td>\n",
              "    </tr>\n",
              "    <tr>\n",
              "      <th>4</th>\n",
              "      <td>NaN</td>\n",
              "      <td>NaN</td>\n",
              "      <td>Just got sent this photo from Ruby #Alaska as ...</td>\n",
              "      <td>1</td>\n",
              "    </tr>\n",
              "    <tr>\n",
              "      <th>...</th>\n",
              "      <td>...</td>\n",
              "      <td>...</td>\n",
              "      <td>...</td>\n",
              "      <td>...</td>\n",
              "    </tr>\n",
              "    <tr>\n",
              "      <th>7608</th>\n",
              "      <td>NaN</td>\n",
              "      <td>NaN</td>\n",
              "      <td>Two giant cranes holding a bridge collapse int...</td>\n",
              "      <td>1</td>\n",
              "    </tr>\n",
              "    <tr>\n",
              "      <th>7609</th>\n",
              "      <td>NaN</td>\n",
              "      <td>NaN</td>\n",
              "      <td>@aria_ahrary @TheTawniest The out of control w...</td>\n",
              "      <td>1</td>\n",
              "    </tr>\n",
              "    <tr>\n",
              "      <th>7610</th>\n",
              "      <td>NaN</td>\n",
              "      <td>NaN</td>\n",
              "      <td>M1.94 [01:04 UTC]?5km S of Volcano Hawaii. htt...</td>\n",
              "      <td>1</td>\n",
              "    </tr>\n",
              "    <tr>\n",
              "      <th>7611</th>\n",
              "      <td>NaN</td>\n",
              "      <td>NaN</td>\n",
              "      <td>Police investigating after an e-bike collided ...</td>\n",
              "      <td>1</td>\n",
              "    </tr>\n",
              "    <tr>\n",
              "      <th>7612</th>\n",
              "      <td>NaN</td>\n",
              "      <td>NaN</td>\n",
              "      <td>The Latest: More Homes Razed by Northern Calif...</td>\n",
              "      <td>1</td>\n",
              "    </tr>\n",
              "  </tbody>\n",
              "</table>\n",
              "<p>7613 rows × 4 columns</p>\n",
              "</div>\n",
              "      <button class=\"colab-df-convert\" onclick=\"convertToInteractive('df-be51aee0-aace-424d-bea2-8000bfedae64')\"\n",
              "              title=\"Convert this dataframe to an interactive table.\"\n",
              "              style=\"display:none;\">\n",
              "        \n",
              "  <svg xmlns=\"http://www.w3.org/2000/svg\" height=\"24px\"viewBox=\"0 0 24 24\"\n",
              "       width=\"24px\">\n",
              "    <path d=\"M0 0h24v24H0V0z\" fill=\"none\"/>\n",
              "    <path d=\"M18.56 5.44l.94 2.06.94-2.06 2.06-.94-2.06-.94-.94-2.06-.94 2.06-2.06.94zm-11 1L8.5 8.5l.94-2.06 2.06-.94-2.06-.94L8.5 2.5l-.94 2.06-2.06.94zm10 10l.94 2.06.94-2.06 2.06-.94-2.06-.94-.94-2.06-.94 2.06-2.06.94z\"/><path d=\"M17.41 7.96l-1.37-1.37c-.4-.4-.92-.59-1.43-.59-.52 0-1.04.2-1.43.59L10.3 9.45l-7.72 7.72c-.78.78-.78 2.05 0 2.83L4 21.41c.39.39.9.59 1.41.59.51 0 1.02-.2 1.41-.59l7.78-7.78 2.81-2.81c.8-.78.8-2.07 0-2.86zM5.41 20L4 18.59l7.72-7.72 1.47 1.35L5.41 20z\"/>\n",
              "  </svg>\n",
              "      </button>\n",
              "      \n",
              "  <style>\n",
              "    .colab-df-container {\n",
              "      display:flex;\n",
              "      flex-wrap:wrap;\n",
              "      gap: 12px;\n",
              "    }\n",
              "\n",
              "    .colab-df-convert {\n",
              "      background-color: #E8F0FE;\n",
              "      border: none;\n",
              "      border-radius: 50%;\n",
              "      cursor: pointer;\n",
              "      display: none;\n",
              "      fill: #1967D2;\n",
              "      height: 32px;\n",
              "      padding: 0 0 0 0;\n",
              "      width: 32px;\n",
              "    }\n",
              "\n",
              "    .colab-df-convert:hover {\n",
              "      background-color: #E2EBFA;\n",
              "      box-shadow: 0px 1px 2px rgba(60, 64, 67, 0.3), 0px 1px 3px 1px rgba(60, 64, 67, 0.15);\n",
              "      fill: #174EA6;\n",
              "    }\n",
              "\n",
              "    [theme=dark] .colab-df-convert {\n",
              "      background-color: #3B4455;\n",
              "      fill: #D2E3FC;\n",
              "    }\n",
              "\n",
              "    [theme=dark] .colab-df-convert:hover {\n",
              "      background-color: #434B5C;\n",
              "      box-shadow: 0px 1px 3px 1px rgba(0, 0, 0, 0.15);\n",
              "      filter: drop-shadow(0px 1px 2px rgba(0, 0, 0, 0.3));\n",
              "      fill: #FFFFFF;\n",
              "    }\n",
              "  </style>\n",
              "\n",
              "      <script>\n",
              "        const buttonEl =\n",
              "          document.querySelector('#df-be51aee0-aace-424d-bea2-8000bfedae64 button.colab-df-convert');\n",
              "        buttonEl.style.display =\n",
              "          google.colab.kernel.accessAllowed ? 'block' : 'none';\n",
              "\n",
              "        async function convertToInteractive(key) {\n",
              "          const element = document.querySelector('#df-be51aee0-aace-424d-bea2-8000bfedae64');\n",
              "          const dataTable =\n",
              "            await google.colab.kernel.invokeFunction('convertToInteractive',\n",
              "                                                     [key], {});\n",
              "          if (!dataTable) return;\n",
              "\n",
              "          const docLinkHtml = 'Like what you see? Visit the ' +\n",
              "            '<a target=\"_blank\" href=https://colab.research.google.com/notebooks/data_table.ipynb>data table notebook</a>'\n",
              "            + ' to learn more about interactive tables.';\n",
              "          element.innerHTML = '';\n",
              "          dataTable['output_type'] = 'display_data';\n",
              "          await google.colab.output.renderOutput(dataTable, element);\n",
              "          const docLink = document.createElement('div');\n",
              "          docLink.innerHTML = docLinkHtml;\n",
              "          element.appendChild(docLink);\n",
              "        }\n",
              "      </script>\n",
              "    </div>\n",
              "  </div>\n",
              "  "
            ]
          },
          "metadata": {},
          "execution_count": 5
        }
      ]
    },
    {
      "cell_type": "code",
      "source": [
        "#check for null\n",
        "train.isna().sum()"
      ],
      "metadata": {
        "id": "Z4z6DUORUqfl",
        "colab": {
          "base_uri": "https://localhost:8080/"
        },
        "outputId": "6417dadf-d6bc-40c2-90db-a61334e1188f"
      },
      "execution_count": null,
      "outputs": [
        {
          "output_type": "execute_result",
          "data": {
            "text/plain": [
              "keyword       61\n",
              "location    2533\n",
              "text           0\n",
              "target         0\n",
              "dtype: int64"
            ]
          },
          "metadata": {},
          "execution_count": 6
        }
      ]
    },
    {
      "cell_type": "code",
      "source": [
        "#remove na values \n",
        "train = train.dropna()\n",
        "train"
      ],
      "metadata": {
        "id": "WtCbNbSrU4yK",
        "colab": {
          "base_uri": "https://localhost:8080/",
          "height": 424
        },
        "outputId": "4d78b1aa-0585-471a-a9f6-84d61ab3f6ec"
      },
      "execution_count": null,
      "outputs": [
        {
          "output_type": "execute_result",
          "data": {
            "text/plain": [
              "      keyword                       location  \\\n",
              "31     ablaze                     Birmingham   \n",
              "32     ablaze  Est. September 2012 - Bristol   \n",
              "33     ablaze                         AFRICA   \n",
              "34     ablaze               Philadelphia, PA   \n",
              "35     ablaze                     London, UK   \n",
              "...       ...                            ...   \n",
              "7575  wrecked                             TN   \n",
              "7577  wrecked         #NewcastleuponTyne #UK   \n",
              "7579  wrecked              Vancouver, Canada   \n",
              "7580  wrecked                        London    \n",
              "7581  wrecked                        Lincoln   \n",
              "\n",
              "                                                   text  target  \n",
              "31    @bbcmtd Wholesale Markets ablaze http://t.co/l...       1  \n",
              "32    We always try to bring the heavy. #metal #RT h...       0  \n",
              "33    #AFRICANBAZE: Breaking news:Nigeria flag set a...       1  \n",
              "34                   Crying out for more! Set me ablaze       0  \n",
              "35    On plus side LOOK AT THE SKY LAST NIGHT IT WAS...       0  \n",
              "...                                                 ...     ...  \n",
              "7575  On the bright side I wrecked http://t.co/uEa0t...       0  \n",
              "7577  @widda16 ... He's gone. You can relax. I thoug...       0  \n",
              "7579  Three days off from work and they've pretty mu...       0  \n",
              "7580  #FX #forex #trading Cramer: Iger's 3 words tha...       0  \n",
              "7581  @engineshed Great atmosphere at the British Li...       0  \n",
              "\n",
              "[5080 rows x 4 columns]"
            ],
            "text/html": [
              "\n",
              "  <div id=\"df-72f5fce7-9a34-4dba-8823-34b182a7e342\">\n",
              "    <div class=\"colab-df-container\">\n",
              "      <div>\n",
              "<style scoped>\n",
              "    .dataframe tbody tr th:only-of-type {\n",
              "        vertical-align: middle;\n",
              "    }\n",
              "\n",
              "    .dataframe tbody tr th {\n",
              "        vertical-align: top;\n",
              "    }\n",
              "\n",
              "    .dataframe thead th {\n",
              "        text-align: right;\n",
              "    }\n",
              "</style>\n",
              "<table border=\"1\" class=\"dataframe\">\n",
              "  <thead>\n",
              "    <tr style=\"text-align: right;\">\n",
              "      <th></th>\n",
              "      <th>keyword</th>\n",
              "      <th>location</th>\n",
              "      <th>text</th>\n",
              "      <th>target</th>\n",
              "    </tr>\n",
              "  </thead>\n",
              "  <tbody>\n",
              "    <tr>\n",
              "      <th>31</th>\n",
              "      <td>ablaze</td>\n",
              "      <td>Birmingham</td>\n",
              "      <td>@bbcmtd Wholesale Markets ablaze http://t.co/l...</td>\n",
              "      <td>1</td>\n",
              "    </tr>\n",
              "    <tr>\n",
              "      <th>32</th>\n",
              "      <td>ablaze</td>\n",
              "      <td>Est. September 2012 - Bristol</td>\n",
              "      <td>We always try to bring the heavy. #metal #RT h...</td>\n",
              "      <td>0</td>\n",
              "    </tr>\n",
              "    <tr>\n",
              "      <th>33</th>\n",
              "      <td>ablaze</td>\n",
              "      <td>AFRICA</td>\n",
              "      <td>#AFRICANBAZE: Breaking news:Nigeria flag set a...</td>\n",
              "      <td>1</td>\n",
              "    </tr>\n",
              "    <tr>\n",
              "      <th>34</th>\n",
              "      <td>ablaze</td>\n",
              "      <td>Philadelphia, PA</td>\n",
              "      <td>Crying out for more! Set me ablaze</td>\n",
              "      <td>0</td>\n",
              "    </tr>\n",
              "    <tr>\n",
              "      <th>35</th>\n",
              "      <td>ablaze</td>\n",
              "      <td>London, UK</td>\n",
              "      <td>On plus side LOOK AT THE SKY LAST NIGHT IT WAS...</td>\n",
              "      <td>0</td>\n",
              "    </tr>\n",
              "    <tr>\n",
              "      <th>...</th>\n",
              "      <td>...</td>\n",
              "      <td>...</td>\n",
              "      <td>...</td>\n",
              "      <td>...</td>\n",
              "    </tr>\n",
              "    <tr>\n",
              "      <th>7575</th>\n",
              "      <td>wrecked</td>\n",
              "      <td>TN</td>\n",
              "      <td>On the bright side I wrecked http://t.co/uEa0t...</td>\n",
              "      <td>0</td>\n",
              "    </tr>\n",
              "    <tr>\n",
              "      <th>7577</th>\n",
              "      <td>wrecked</td>\n",
              "      <td>#NewcastleuponTyne #UK</td>\n",
              "      <td>@widda16 ... He's gone. You can relax. I thoug...</td>\n",
              "      <td>0</td>\n",
              "    </tr>\n",
              "    <tr>\n",
              "      <th>7579</th>\n",
              "      <td>wrecked</td>\n",
              "      <td>Vancouver, Canada</td>\n",
              "      <td>Three days off from work and they've pretty mu...</td>\n",
              "      <td>0</td>\n",
              "    </tr>\n",
              "    <tr>\n",
              "      <th>7580</th>\n",
              "      <td>wrecked</td>\n",
              "      <td>London</td>\n",
              "      <td>#FX #forex #trading Cramer: Iger's 3 words tha...</td>\n",
              "      <td>0</td>\n",
              "    </tr>\n",
              "    <tr>\n",
              "      <th>7581</th>\n",
              "      <td>wrecked</td>\n",
              "      <td>Lincoln</td>\n",
              "      <td>@engineshed Great atmosphere at the British Li...</td>\n",
              "      <td>0</td>\n",
              "    </tr>\n",
              "  </tbody>\n",
              "</table>\n",
              "<p>5080 rows × 4 columns</p>\n",
              "</div>\n",
              "      <button class=\"colab-df-convert\" onclick=\"convertToInteractive('df-72f5fce7-9a34-4dba-8823-34b182a7e342')\"\n",
              "              title=\"Convert this dataframe to an interactive table.\"\n",
              "              style=\"display:none;\">\n",
              "        \n",
              "  <svg xmlns=\"http://www.w3.org/2000/svg\" height=\"24px\"viewBox=\"0 0 24 24\"\n",
              "       width=\"24px\">\n",
              "    <path d=\"M0 0h24v24H0V0z\" fill=\"none\"/>\n",
              "    <path d=\"M18.56 5.44l.94 2.06.94-2.06 2.06-.94-2.06-.94-.94-2.06-.94 2.06-2.06.94zm-11 1L8.5 8.5l.94-2.06 2.06-.94-2.06-.94L8.5 2.5l-.94 2.06-2.06.94zm10 10l.94 2.06.94-2.06 2.06-.94-2.06-.94-.94-2.06-.94 2.06-2.06.94z\"/><path d=\"M17.41 7.96l-1.37-1.37c-.4-.4-.92-.59-1.43-.59-.52 0-1.04.2-1.43.59L10.3 9.45l-7.72 7.72c-.78.78-.78 2.05 0 2.83L4 21.41c.39.39.9.59 1.41.59.51 0 1.02-.2 1.41-.59l7.78-7.78 2.81-2.81c.8-.78.8-2.07 0-2.86zM5.41 20L4 18.59l7.72-7.72 1.47 1.35L5.41 20z\"/>\n",
              "  </svg>\n",
              "      </button>\n",
              "      \n",
              "  <style>\n",
              "    .colab-df-container {\n",
              "      display:flex;\n",
              "      flex-wrap:wrap;\n",
              "      gap: 12px;\n",
              "    }\n",
              "\n",
              "    .colab-df-convert {\n",
              "      background-color: #E8F0FE;\n",
              "      border: none;\n",
              "      border-radius: 50%;\n",
              "      cursor: pointer;\n",
              "      display: none;\n",
              "      fill: #1967D2;\n",
              "      height: 32px;\n",
              "      padding: 0 0 0 0;\n",
              "      width: 32px;\n",
              "    }\n",
              "\n",
              "    .colab-df-convert:hover {\n",
              "      background-color: #E2EBFA;\n",
              "      box-shadow: 0px 1px 2px rgba(60, 64, 67, 0.3), 0px 1px 3px 1px rgba(60, 64, 67, 0.15);\n",
              "      fill: #174EA6;\n",
              "    }\n",
              "\n",
              "    [theme=dark] .colab-df-convert {\n",
              "      background-color: #3B4455;\n",
              "      fill: #D2E3FC;\n",
              "    }\n",
              "\n",
              "    [theme=dark] .colab-df-convert:hover {\n",
              "      background-color: #434B5C;\n",
              "      box-shadow: 0px 1px 3px 1px rgba(0, 0, 0, 0.15);\n",
              "      filter: drop-shadow(0px 1px 2px rgba(0, 0, 0, 0.3));\n",
              "      fill: #FFFFFF;\n",
              "    }\n",
              "  </style>\n",
              "\n",
              "      <script>\n",
              "        const buttonEl =\n",
              "          document.querySelector('#df-72f5fce7-9a34-4dba-8823-34b182a7e342 button.colab-df-convert');\n",
              "        buttonEl.style.display =\n",
              "          google.colab.kernel.accessAllowed ? 'block' : 'none';\n",
              "\n",
              "        async function convertToInteractive(key) {\n",
              "          const element = document.querySelector('#df-72f5fce7-9a34-4dba-8823-34b182a7e342');\n",
              "          const dataTable =\n",
              "            await google.colab.kernel.invokeFunction('convertToInteractive',\n",
              "                                                     [key], {});\n",
              "          if (!dataTable) return;\n",
              "\n",
              "          const docLinkHtml = 'Like what you see? Visit the ' +\n",
              "            '<a target=\"_blank\" href=https://colab.research.google.com/notebooks/data_table.ipynb>data table notebook</a>'\n",
              "            + ' to learn more about interactive tables.';\n",
              "          element.innerHTML = '';\n",
              "          dataTable['output_type'] = 'display_data';\n",
              "          await google.colab.output.renderOutput(dataTable, element);\n",
              "          const docLink = document.createElement('div');\n",
              "          docLink.innerHTML = docLinkHtml;\n",
              "          element.appendChild(docLink);\n",
              "        }\n",
              "      </script>\n",
              "    </div>\n",
              "  </div>\n",
              "  "
            ]
          },
          "metadata": {},
          "execution_count": 7
        }
      ]
    },
    {
      "cell_type": "code",
      "source": [
        "#Target variable\n",
        "classes = train.iloc[:,-1]\n",
        "print(classes.value_counts())\n",
        "\n",
        "#visualize\n",
        "classes.hist()\n",
        "plt.xlabel(\"Number of classes\")\n",
        "plt.ylabel(\"Number of records\")\n",
        "plt.title(\"Target Variable\")\n",
        "plt.show()"
      ],
      "metadata": {
        "id": "0AVZyZKEfhaf",
        "colab": {
          "base_uri": "https://localhost:8080/",
          "height": 347
        },
        "outputId": "ab0be302-23b4-451e-c105-3d821034f6f6"
      },
      "execution_count": null,
      "outputs": [
        {
          "output_type": "stream",
          "name": "stdout",
          "text": [
            "0    2884\n",
            "1    2196\n",
            "Name: target, dtype: int64\n"
          ]
        },
        {
          "output_type": "display_data",
          "data": {
            "text/plain": [
              "<Figure size 432x288 with 1 Axes>"
            ],
            "image/png": "[encoded data removed]"
          },
          "metadata": {
            "needs_background": "light"
          }
        }
      ]
    },
    {
      "cell_type": "markdown",
      "source": [
        "#Pre-processing of text"
      ],
      "metadata": {
        "id": "MK1Ix2CUWMSM"
      }
    },
    {
      "cell_type": "code",
      "source": [
        "#make a series of all tweets\n",
        "tweets = train[\"text\"]\n",
        "tweets"
      ],
      "metadata": {
        "id": "ipvRV9cXizTu",
        "colab": {
          "base_uri": "https://localhost:8080/"
        },
        "outputId": "0613a477-6186-4fb2-dd06-29cf24e009f0"
      },
      "execution_count": null,
      "outputs": [
        {
          "output_type": "execute_result",
          "data": {
            "text/plain": [
              "31      @bbcmtd Wholesale Markets ablaze http://t.co/l...\n",
              "32      We always try to bring the heavy. #metal #RT h...\n",
              "33      #AFRICANBAZE: Breaking news:Nigeria flag set a...\n",
              "34                     Crying out for more! Set me ablaze\n",
              "35      On plus side LOOK AT THE SKY LAST NIGHT IT WAS...\n",
              "                              ...                        \n",
              "7575    On the bright side I wrecked http://t.co/uEa0t...\n",
              "7577    @widda16 ... He's gone. You can relax. I thoug...\n",
              "7579    Three days off from work and they've pretty mu...\n",
              "7580    #FX #forex #trading Cramer: Iger's 3 words tha...\n",
              "7581    @engineshed Great atmosphere at the British Li...\n",
              "Name: text, Length: 5080, dtype: object"
            ]
          },
          "metadata": {},
          "execution_count": 9
        }
      ]
    },
    {
      "cell_type": "code",
      "source": [
        "#remove hyperlinks\n",
        "tweets = tweets.str.replace(r'http\\S+', ' ')\n",
        "tweets"
      ],
      "metadata": {
        "id": "d9TFMZIokWJf",
        "colab": {
          "base_uri": "https://localhost:8080/"
        },
        "outputId": "d1efdc8f-73a9-4ebe-ff62-3a62d482eaee"
      },
      "execution_count": null,
      "outputs": [
        {
          "output_type": "stream",
          "name": "stderr",
          "text": [
            "/usr/local/lib/python3.7/dist-packages/ipykernel_launcher.py:2: FutureWarning: The default value of regex will change from True to False in a future version.\n",
            "  \n"
          ]
        },
        {
          "output_type": "execute_result",
          "data": {
            "text/plain": [
              "31                     @bbcmtd Wholesale Markets ablaze  \n",
              "32         We always try to bring the heavy. #metal #RT  \n",
              "33      #AFRICANBAZE: Breaking news:Nigeria flag set a...\n",
              "34                     Crying out for more! Set me ablaze\n",
              "35      On plus side LOOK AT THE SKY LAST NIGHT IT WAS...\n",
              "                              ...                        \n",
              "7575                       On the bright side I wrecked  \n",
              "7577    @widda16 ... He's gone. You can relax. I thoug...\n",
              "7579    Three days off from work and they've pretty mu...\n",
              "7580    #FX #forex #trading Cramer: Iger's 3 words tha...\n",
              "7581    @engineshed Great atmosphere at the British Li...\n",
              "Name: text, Length: 5080, dtype: object"
            ]
          },
          "metadata": {},
          "execution_count": 10
        }
      ]
    },
    {
      "cell_type": "code",
      "source": [
        "#remove punctuations\n",
        "tweets = tweets.str.replace(r'[^\\w\\d\\s]',' ')\n",
        "tweets"
      ],
      "metadata": {
        "id": "gD5j6H4xnYYw",
        "colab": {
          "base_uri": "https://localhost:8080/"
        },
        "outputId": "6cf33ecf-319d-4f51-e67a-aabe20ccbe3f"
      },
      "execution_count": null,
      "outputs": [
        {
          "output_type": "stream",
          "name": "stderr",
          "text": [
            "/usr/local/lib/python3.7/dist-packages/ipykernel_launcher.py:2: FutureWarning: The default value of regex will change from True to False in a future version.\n",
            "  \n"
          ]
        },
        {
          "output_type": "execute_result",
          "data": {
            "text/plain": [
              "31                      bbcmtd Wholesale Markets ablaze  \n",
              "32         We always try to bring the heavy   metal  RT  \n",
              "33       AFRICANBAZE  Breaking news Nigeria flag set a...\n",
              "34                     Crying out for more  Set me ablaze\n",
              "35      On plus side LOOK AT THE SKY LAST NIGHT IT WAS...\n",
              "                              ...                        \n",
              "7575                       On the bright side I wrecked  \n",
              "7577     widda16     He s gone  You can relax  I thoug...\n",
              "7579    Three days off from work and they ve pretty mu...\n",
              "7580     FX  forex  trading Cramer  Iger s 3 words tha...\n",
              "7581     engineshed Great atmosphere at the British Li...\n",
              "Name: text, Length: 5080, dtype: object"
            ]
          },
          "metadata": {},
          "execution_count": 11
        }
      ]
    },
    {
      "cell_type": "code",
      "source": [
        "#lower text\n",
        "tweets = tweets.str.lower()\n",
        "tweets"
      ],
      "metadata": {
        "id": "2z_G9D8Ixi9h",
        "colab": {
          "base_uri": "https://localhost:8080/"
        },
        "outputId": "920b3af2-31c5-4c63-8f18-7638e6d24525"
      },
      "execution_count": null,
      "outputs": [
        {
          "output_type": "execute_result",
          "data": {
            "text/plain": [
              "31                      bbcmtd wholesale markets ablaze  \n",
              "32         we always try to bring the heavy   metal  rt  \n",
              "33       africanbaze  breaking news nigeria flag set a...\n",
              "34                     crying out for more  set me ablaze\n",
              "35      on plus side look at the sky last night it was...\n",
              "                              ...                        \n",
              "7575                       on the bright side i wrecked  \n",
              "7577     widda16     he s gone  you can relax  i thoug...\n",
              "7579    three days off from work and they ve pretty mu...\n",
              "7580     fx  forex  trading cramer  iger s 3 words tha...\n",
              "7581     engineshed great atmosphere at the british li...\n",
              "Name: text, Length: 5080, dtype: object"
            ]
          },
          "metadata": {},
          "execution_count": 12
        }
      ]
    },
    {
      "cell_type": "code",
      "source": [
        "nltk.download(\"stopwords\")"
      ],
      "metadata": {
        "id": "p3kRGTLr1f3U",
        "colab": {
          "base_uri": "https://localhost:8080/"
        },
        "outputId": "c430c522-5e5e-4a96-e615-14a1ec69ea72"
      },
      "execution_count": null,
      "outputs": [
        {
          "output_type": "stream",
          "name": "stderr",
          "text": [
            "[nltk_data] Downloading package stopwords to /root/nltk_data...\n",
            "[nltk_data]   Package stopwords is already up-to-date!\n"
          ]
        },
        {
          "output_type": "execute_result",
          "data": {
            "text/plain": [
              "True"
            ]
          },
          "metadata": {},
          "execution_count": 13
        }
      ]
    },
    {
      "cell_type": "code",
      "source": [
        "#stopwords\n",
        "from nltk.corpus import stopwords\n",
        "stop_words = set(stopwords.words(\"english\"))"
      ],
      "metadata": {
        "id": "OuKnbfMjx5YE"
      },
      "execution_count": null,
      "outputs": []
    },
    {
      "cell_type": "code",
      "source": [
        "#removing common words\n",
        "tweets = tweets.apply(lambda x: \" \".join(word for word in x.split()\n",
        "                                          if word not in stop_words))\n",
        "tweets"
      ],
      "metadata": {
        "id": "GsnFIuAMywpu",
        "colab": {
          "base_uri": "https://localhost:8080/"
        },
        "outputId": "2c6a215f-8110-4fc6-9081-b278d09fb7bb"
      },
      "execution_count": null,
      "outputs": [
        {
          "output_type": "execute_result",
          "data": {
            "text/plain": [
              "31                        bbcmtd wholesale markets ablaze\n",
              "32                        always try bring heavy metal rt\n",
              "33      africanbaze breaking news nigeria flag set abl...\n",
              "34                                      crying set ablaze\n",
              "35                   plus side look sky last night ablaze\n",
              "                              ...                        \n",
              "7575                                  bright side wrecked\n",
              "7577    widda16 gone relax thought wife wrecked cake g...\n",
              "7579    three days work pretty much wrecked hahaha sho...\n",
              "7580    fx forex trading cramer iger 3 words wrecked d...\n",
              "7581    engineshed great atmosphere british lion gig t...\n",
              "Name: text, Length: 5080, dtype: object"
            ]
          },
          "metadata": {},
          "execution_count": 15
        }
      ]
    },
    {
      "cell_type": "code",
      "source": [
        "#Remove affixes to give stems using Porter Stemmer\n",
        "ps = nltk.PorterStemmer()\n",
        "tweets = tweets.apply(lambda x: ' '.join(ps.stem(word)\n",
        "                      for word in x.split()))\n",
        "tweets"
      ],
      "metadata": {
        "id": "IzGIYZTj2nwS",
        "colab": {
          "base_uri": "https://localhost:8080/"
        },
        "outputId": "d5a17c50-cf3e-451e-91ac-78d522baa666"
      },
      "execution_count": null,
      "outputs": [
        {
          "output_type": "execute_result",
          "data": {
            "text/plain": [
              "31                           bbcmtd wholesal market ablaz\n",
              "32                         alway tri bring heavi metal rt\n",
              "33       africanbaz break news nigeria flag set ablaz aba\n",
              "34                                          cri set ablaz\n",
              "35                     plu side look sky last night ablaz\n",
              "                              ...                        \n",
              "7575                                    bright side wreck\n",
              "7577    widda16 gone relax thought wife wreck cake gon...\n",
              "7579    three day work pretti much wreck hahaha shouto...\n",
              "7580    fx forex trade cramer iger 3 word wreck disney...\n",
              "7581    enginesh great atmospher british lion gig toni...\n",
              "Name: text, Length: 5080, dtype: object"
            ]
          },
          "metadata": {},
          "execution_count": 16
        }
      ]
    },
    {
      "cell_type": "markdown",
      "source": [
        "#Feature Generation"
      ],
      "metadata": {
        "id": "Rqhr-tfFWVLo"
      }
    },
    {
      "cell_type": "code",
      "source": [
        "#Generating features\n",
        "from sklearn.feature_extraction.text import CountVectorizer\n",
        "vect = CountVectorizer()  "
      ],
      "metadata": {
        "id": "V6tthLSG47SH"
      },
      "execution_count": null,
      "outputs": []
    },
    {
      "cell_type": "code",
      "source": [
        "#learn all the tweets and transform into vectors\n",
        "X = vect.fit_transform(tweets)"
      ],
      "metadata": {
        "id": "KT5aYZdz5NER"
      },
      "execution_count": null,
      "outputs": []
    },
    {
      "cell_type": "code",
      "source": [
        "print(vect.get_feature_names())"
      ],
      "metadata": {
        "id": "jEzohQhE7Fmz",
        "colab": {
          "base_uri": "https://localhost:8080/"
        },
        "outputId": "eba93f76-e106-482b-9501-085ddb5e2a0c"
      },
      "execution_count": null,
      "outputs": [
        {
          "output_type": "stream",
          "name": "stdout",
          "text": [
            "['00', '000', '0000', '00pm', '01', '02', '0215', '02pm', '03', '030', '034', '04', '05', '05th', '06', '060', '061', '06jst', '07', '08', '087809233445', '0880', '09', '10', '100', '1000', '10000', '100bn', '100mb', '100nd', '101', '1028', '103', '105', '106', '1061thetwist', '107', '109', '10k', '10m', '10new', '10pm', '10th', '10x', '11', '11000', '11000000', '114', '1141', '115', '119000', '11am', '12', '1200', '12000', '120000', '1200000', '1236', '124', '125', '129', '12am', '12hr', '12jst', '12m', '12pm', '12th', '12u', '12v', '13', '130', '13000', '133', '138', '139055', '13pm', '14', '140', '14000', '149', '14th', '15', '150', '159', '15901', '15km', '15moferadio', '15pm', '15th', '16', '160', '1600', '1620', '163', '16550', '166', '16yr', '17', '1700', '17000', '1716', '17th', '18', '180', '1800', '1843', '1862', '1880', '1890', '18jst', '18th', '18w', '19', '1921', '1935', '1942', '1943', '1945', '1952', '1960', '1965', '1967', '1974', '1976', '1979', '198', '1980', '1984', '1986', '1998', '1999', '19th', '19yr', '1a', '1acd4900c1424d1', '1km', '1m', '1rockstar62', '1st', '20', '200', '2000', '200000', '20000k', '2005', '2006', '2007', '2008', '2009', '2010', '2011', '2013', '2014', '2015', '20150613', '2016', '2017', '2019', '202', '2030', '203rd', '2065', '20k', '20min', '20skyhawkmm20', '20yr', '21', '210', '214904', '21st', '22', '22day', '22pm', '23', '2327564d', '238', '23928835', '23km', '23rd', '24', '24v', '25', '2500', '2500fp', '26', '260th', '263789f4', '263chat', '27', '27w', '28', '28700', '28pm', '29', '293', '295ss', '29pm', '2a', '2day', '2fast2furi', '2k13', '2k15', '2leezi', '2minutemix', '2nd', '2pc', '2pm', '2slow2report', '30', '300', '300000', '300m', '300w', '30a', '30bst', '30m', '30p', '30pm', '30stm', '30th', '31', '311', '32', '320', '33', '33333', '33pm', '34', '3460', '35', '350', '358', '36', '360', '360wisenew', '365disast', '367', '37', '370', '375', '37592', '38', '38pm', '39', '390', '3934', '3939', '3941', '3942', '3945', '3967', '3_6_12', '3a', '3am', '3g', '3la', '3m', '3novic', '3other', '3p', '3rd', '3x', '3x5', '40', '4000', '400000', '400dr', '400t', '401k', '405', '40mln', '40pm', '40w', '41', '4103', '415', '419', '420', '43', '43rd', '45', '450', '4500', '452', '459', '45pm', '46', '4608ìñ2474', '47km', '48', '49', '4head', '4k', '4km', '4ku', '4playthursday', '4regionåêåênear', '4th', '4the', '4wd', '4x4', '50', '500', '5000', '500th', '501', '516', '52', '52k', '53', '53inch', '54', '54000', '55', '56', '57', '58', '582', '58hif', '5c', '5hvzlaradio', '5km', '5pm', '5s', '5so', '5sosfam', '5th', '60', '600', '60000', '60km', '60mph', '61', '615', '616', '61st', '629', '63rd', '64', '64oz', '65', '65000', '662', '666', '666canberra', '68', '688', '6aug', '6bn', '6c', '6pm', '6th', '70', '7000', '70000', '70th', '70year', '72w', '737', '73km', '73rd', '75', '751', '752', '75k', '77', '78', '7a', '7aal', '7amdollela', '7k', '7newsadl', '80', '800', '8000', '800000', '8015', '80m', '82', '82ndabndiv', '83', '8392', '8400', '8437150124', '85885473', '8591', '87', '877', '88', '89x', '8km', '8m', '8th', '90', '9000', '905', '91', '911', '911bomb', '91å', '92', '928', '94', '95', '950', '95root', '96', '966', '96km', '97', '98', '99', '999', '999day', '9am', '9newsbrisban', '9newsgoldcoast', '9newsmorn', '9pm', '9tarbox', '_301dc', '__', '__scrambledegg', '__srajapakse__', '_ashj', '_asianshawtyy', '_bookofdaniel', '_chelsdelong12', '_dangdaddi', '_dangerousbean', '_doofus_', '_edvinnn', '_explicitpretti', '_freemarket', '_gaabyx', '_itsdanie_', '_itsmegss_', '_jeesss_', '_keit', '_minimehh', '_ohhsehun', '_oliviaann_', '_one', '_onlyftf', '_pokemoncards_', '_rosewel', '_stiiilo', '_wildfire__', 'a1', 'a10', 'a1a', 'a2', 'a3', 'a40', 'a5', 'a7', 'aa', 'aaaa', 'aaaaaaallll', 'aaaaaand', 'aannnnd', 'aar', 'aaronthefm', 'aashiqui', 'aba', 'abandon', 'abbott', 'abbruchsimul', 'abbswinston', 'abbyairshow', 'abc', 'abc7', 'abc7chicago', 'abc7eyewit', 'abcnew', 'abcnorio', 'abe', 'aberdeen', 'aberdeenfanpag', 'aberdeenfc', 'aberystwyth', 'abha', 'abia', 'abil', 'abject', 'abl', 'ablaz', 'ableg', 'abninfvet', 'abomb', 'abomin', 'abort', 'abq', 'absolut', 'absolut_sumya15', 'abstorm', 'abstract', 'absurd', 'absurdli', 'abus', 'abysmaljoin', 'ac', 'acarewornheart', 'acc', 'accept', 'access', 'accid', 'accident', 'accidentalpropheci', 'accompani', 'accord', 'account', 'accuraci', 'accus', 'accustom', 'acebab', 'acebreakingnew', 'acess', 'ach', 'achedin', 'achiev', 'acid', 'acoust', 'acquir', 'acquisit', 'acr', 'acronym', 'across', 'act', 'actavi', 'actin', 'action', 'activ', 'activist', 'actor', 'actress', 'actual', 'acut', 'ad', 'adam', 'adamantli', 'adamniblo', 'adamtuss', 'adani', 'adanne___', 'add', 'addict', 'addit', 'address', 'addtexastonext1dtour', 'adelaid', 'adhd', 'adiossuperbacteria', 'adjust', 'admin', 'administr', 'admit', 'adopt', 'ador', 'adorableapppl', 'adrian_peel', 'adriasimon_', 'adult', 'adultblackmal', 'adumbbb', 'advanc', 'advers', 'advertis', 'advic', 'advis', 'advisori', 'adweek', 'aeg', 'aerospac', 'aesop', 'af', 'afc', 'affair', 'affect', 'affili', 'affleck', 'afflict', 'afghan', 'afghanistan', 'afghetc', 'afloat', 'afp', 'afraid', 'africa', 'african', 'africanbaz', 'africansinsf', 'africaå', 'afrikaan', 'afrin', 'afterhaiyan', 'afterlif', 'afternoon', 'aftershock', 'aftershock_delo', 'afterward', 'afycso', 'ag', 'agalloch', 'agdq', 'age', 'ageekyfangirl14', 'agenc', 'agent', 'aggarw', 'aggress', 'aggressif', 'agnivesh', 'ago', 'agoni', 'agre', 'agw', 'ah', 'ahead', 'ahh', 'ahhhh', 'ahhhhh', 'ahhtheenikki', 'aid', 'aidan', 'aiginsur', 'aiii', 'aim', 'aintsheperti', 'air', 'air1bullet', 'aircraft', 'airhead', 'airhorn', 'airlift', 'airlin', 'airplan', 'airplaneåê', 'airport', 'airwav', 'aisl', 'aisumag', 'aitchkayce', 'ajabrown', 'ajw', 'ak', 'aka', 'akam', 'akarb74', 'akcsl', 'akilah', 'akito', 'akram', 'akumareisu', 'akwa', 'akxbskdn', 'al', 'ala', 'alabama', 'aladdin', 'alameda', 'alamodc', 'alarm', 'alaska', 'alaskan', 'alba', 'albani', 'albeit', 'alberta', 'albertan', 'albertson', 'album', 'alchemist', 'alcohol', 'aldridg', 'alec', 'aleisstok', 'alert', 'alex', 'alexandrapullin', 'alexandrian', 'alexbelloli', 'alexhammerston', 'alexi', 'alexis_sanchez', 'alexjacobsonpf', 'alextuck', 'algeria', 'alhaji', 'ali', 'alien', 'alifaditha', 'align', 'alipap', 'alisonannyoung', 'aliv', 'aliveafter5', 'allah', 'allahsfinest12', 'allay', 'alleg', 'allegedli', 'allegi', 'allerg', 'alley', 'alli', 'alllivesmatt', 'alloc', 'alloosh', 'allot', 'allow', 'alloy', 'allthekidneybeansandsorbet4misha', 'allthenew', 'allyinwondrland', 'almighti', 'almost', 'almusafirah_', 'aloi', 'alon', 'along', 'alot', 'alp', 'alpha', 'alrasyid448iturasya', 'alreadi', 'alright', 'also', 'alt', 'altamont', 'altern', 'although', 'alton', 'alv', 'alvinnelson07', 'alway', 'alwsl', 'alwx', 'ama', 'amageddon', 'amali', 'amateur', 'amateurnest', 'amaz', 'amazing', 'amazon', 'amazond', 'ambit', 'amblesid', 'ambul', 'amcx', 'ameenshaikh3', 'amen', 'amend', 'ameribag', 'america', 'american', 'americanlegion', 'amico', 'amicospizzato', 'amid', 'amiibo', 'aminespn', 'amirit', 'amman', 'amo', 'among', 'amongst', 'amp', 'amplifi', 'amritsar', 'amsal', 'amssumm', 'amsterdam', 'amumumux', 'amznfavorit', 'an247', 'ana', 'analog', 'analysi', 'anarchi', 'anarchic_teapot', 'anathemazhiv', 'anatomi', 'anchor', 'anchorag', 'ancient', 'ancop', 'and', 'ander', 'anderson', 'andi', 'andr', 'andrea', 'andrew', 'andygild', 'andåêchina', 'anellatulip', 'anew', 'angel', 'angelheartnight', 'angelina', 'anger', 'angharadjames16', 'angri', 'angusmacneilsnp', 'ani', 'anim', 'animallog', 'animalrescu', 'animatron', 'aniston', 'anjem', 'ankl', 'anna', 'annaciclismo', 'annajhm', 'annihil', 'anniversari', 'annmarieronan', 'annouc', 'announc', 'annoy', 'annual', 'anonym', 'anoth', 'answer', 'ant', 'antholog', 'anthoni', 'anthrax', 'anthxvi', 'anti', 'antioch', 'antiochhickoryhollow', 'antiochu', 'antonio', 'antpips67', 'anu', 'anxieti', 'anxietyproblem', 'anxiou', 'any1', 'anybodi', 'anymor', 'anyon', 'anyth', 'anytim', 'anyway', 'anywher', 'anza', 'aogashima', 'aom', 'ap', 'apano55', 'apart', 'apaz', 'apc', 'apch', 'apcåêpdp', 'apd', 'apga', 'aphl', 'apiec', 'apocalyps', 'apocalypt', 'apollo', 'apollobrown', 'apolog', 'apologis', 'app', 'appal', 'appar', 'appeal', 'appear', 'appetit', 'appl', 'applaud', 'appleofficl', 'appli', 'applic', 'appoint', 'appreci', 'appreciativeinquiri', 'approach', 'appropri', 'approv', 'appx', 'april', 'apt', 'aqua', 'aquariu', 'aquarium', 'ar', 'ara', 'arab', 'arabia', 'arabian', 'arachi', 'arcad', 'archipelagowolv', 'architect', 'architectur', 'area', 'arena', 'arent', 'arfur', 'argent', 'argentina', 'argh', 'argument', 'argus_99', 'ari', 'ariabrisard', 'ariana', 'arianagrand', 'arianareed11', 'arin', 'arizona', 'arizonadot', 'arizzo44', 'arkan', 'arkansa', 'arlington', 'arm', 'armageddon', 'armi', 'armori', 'arnhem', 'arobotlegion', 'around', 'arovolturi3000', 'arrang', 'arreat', 'arrest', 'arrestpastornganga', 'arriv', 'arrog', 'arsen', 'arson', 'arsonist', 'arsonistmus', 'art', 'art_brut_', 'arti', 'artic', 'articl', 'artifici', 'artist', 'artisteoftheweekfact', 'artistsunit', 'artwork', 'arwx', 'asae15', 'asap', 'asb', 'ascend', 'aseer', 'asf', 'ash', 'ashayo', 'ashdod', 'ashenforest', 'ashes2015', 'ashes2ash', 'ashestoash', 'ashley', 'ashrafiyah', 'ashton5so', 'ashvil', 'asia', 'asian', 'asic', 'asimtanvir', 'ask', 'askcharley', 'askh3cz', 'askin', 'asleep', 'asphalt', 'ass', 'assassin', 'assassinkpg', 'assault', 'assembl', 'asshol', 'assist', 'assnchat', 'associ', 'assum', 'assur', 'astonish', 'astound', 'astro', 'astrologian', 'astroturf', 'asukag', 'asylum', 'asymbina', 'atamathon', 'atc', 'atgrannyshous', 'atheistic_1', 'athen', 'athlet', 'atk', 'atl', 'atl_ev', 'atla', 'atlant', 'atlanta', 'atlarnxx', 'atlbizchron', 'atm', 'atmospher', 'atom', 'atombomb', 'att', 'attack', 'attackonstil', 'attain', 'attempt', 'attend', 'attent', 'attic', 'attitud', 'attjcdemo', 'attract', 'atv', 'atåêcinema', 'au', 'aubrey', 'auburn', 'auction', 'audienc', 'audio', 'audit', 'audreyp77', 'aug', 'august', 'aul', 'aunt', 'auntiedot', 'aurora', 'ausinstarchitect', 'auspol', 'aussi', 'aust', 'austin', 'australia', 'australian', 'austrian', 'auth', 'author', 'author_mik', 'autism', 'auto', 'autoam', 'automat', 'autumn', 'auz', 'av', 'avail', 'avalanch', 'avbronstein', 'ave', 'avenu', 'averag', 'avert', 'aviat', 'aviationaddict', 'avigdorliberman', 'avoid', 'avysss', 'aw', 'awadgolf', 'await', 'awak', 'awaken', 'awar', 'award', 'awash', 'away', 'awesom', 'awesomeeeeeee', 'awesomelov', 'awesomesauc', 'awickedassassin', 'awkward', 'awn', 'awol', 'awwww', 'ayhhhhhdjjfjrjjrdjjek', 'ayhoka_', 'ayyy', 'az', 'azimel', 'azusa', 'azwx', 'aåêmiddl', 'b1g', 'b1grego', 'b24fowler', 'b2b', 'b2bagenc', 'b4', 'ba', 'baan', 'babal', 'babalmao', 'babe', 'babi', 'babri', 'babybackreev', 'babysweet420', 'bachmann', 'back', 'background', 'backlash', 'backpack', 'backup', 'backyard', 'bad', 'badastronom', 'badkitti', 'badli', 'badu', 'baekhyun', 'baffl', 'bag', 'baggag', 'bahrain', 'bail', 'baileysmsteach', 'bailout', 'bak', 'bake', 'bakeofffriend', 'bal', 'balanc', 'balconi', 'bald', 'bali', 'ball', 'baltimor', 'bamenda', 'ban', 'banana', 'bancodeseri', 'band', 'banditregina', 'bandoli', 'banerje', 'bang', 'bangalor', 'bangin', 'bangladesh', 'bangladeshaffect', 'bangladeshflood', 'bangtan', 'bank', 'banki', 'banksi', 'bankstown', 'bannist', 'bannuk', 'banquet', 'bar', 'barack', 'barackobama', 'barak', 'barbar', 'barcelona', 'bardo', 'bare', 'barfield', 'bargain', 'bark', 'barkevi', 'barn', 'barra', 'barrack', 'barri', 'barrier', 'basalt', 'base', 'basebal', 'based_georgi', 'baseman', 'basement', 'bash', 'basi', 'basic', 'basildudin', 'baskgod', 'bass', 'bastard', 'bat', 'batfanuk', 'bath', 'bathroom', 'batter', 'batteri', 'battl', 'battle_dom', 'battlefield', 'battlerapchri', 'battleship', 'bay', 'bayarea', 'bayelsa', 'bayelsaåêst', 'bayonet', 'bb17', 'bb4sp', 'bbc', 'bbc5live', 'bbcengland', 'bbcintroduc', 'bbcmtd', 'bbcnew', 'bbctalkback', 'bbctm', 'bblogger', 'bbm', 'bbshelli', 'bbsnew', 'bc', 'bc19', 'bck', 'bcpoli', 'bcuz', 'bcz', 'bday', 'bdisgust', 'be_ram0', 'beach', 'beacon', 'beam', 'bean', 'bear', 'beard', 'bearer', 'beastin', 'beastli', 'beat', 'beatdown', 'beaten', 'beatz', 'beaumont', 'beauti', 'beautiful_juic1', 'beaverton', 'bebacksoon', 'becam', 'becarefulharri', 'beckon', 'beckyfeigin', 'beclearoncanc', 'becom', 'bed', 'bedroom', 'bee', 'beef', 'beenghost', 'beer', 'beet', 'beetroot', 'beezersun', 'beg', 'began', 'begin', 'behalf', 'behavior', 'behead', 'behind', 'behindashield', 'behold', 'beig', 'beinart', 'beisbol', 'bel', 'beli', 'belief', 'believ', 'bell', 'bella', 'belli', 'belliger', 'belong', 'belt', 'belter', 'beluga', 'ben', 'benaffleck', 'bend', 'bene', 'beneath', 'benedict', 'benefit', 'benew', 'bengal', 'bengali', 'bengston', 'benignovito', 'benitez', 'benjamin', 'benjbeckwith', 'benji_devo', 'benjm1', 'bennycapricon', 'benoth', 'benstraci', 'bentley', 'bentossel', 'benzema', 'bernard', 'bernardino', 'berri', 'besid', 'best', 'bestcomedyvin', 'besti', 'bestia', 'bestiv', 'bestnaijamad', 'bestsel', 'besttalkradio', 'bet', 'beth', 'bethlehem', 'betray', 'better', 'bettyfreedom', 'betz', 'bewar', 'beyond', 'beyondgp', 'beyondthebomb', 'bff', 'bfore', 'bg', 'bhavana', 'bhp', 'bhramabul', 'bhusa', 'bi', 'bi_video', 'bia', 'biblestudi', 'biblic', 'bicentenni', 'bicep', 'bickleton', 'bicycl', 'bicyclist', 'bid', 'bieber', 'big', 'bigamist', 'bigburgerboi55', 'biggangvh1', 'biggar', 'bigger', 'biggest', 'biggi', 'bigperm28', 'bigrigradio', 'bigsbi', 'bigsim50', 'bigstar', 'bigåêconsequ', 'bike', 'biker', 'bill', 'bill_roos', 'billboard', 'biller', 'billgat', 'billharris_tv', 'billion', 'billionair', 'billiton', 'billneelynbc', 'billy_hodg', 'bilsen', 'bilsko', 'bin', 'bind', 'binellithresa', 'bing', 'binladen', 'bio', 'biolab', 'biolog', 'bioter', 'bioterror', 'birb', 'bird', 'birmingham', 'birth', 'birthday', 'biryani', 'bishopfr', 'bistro', 'bit', 'bitch', 'bitchl0vecannon', 'bite', 'bitter', 'biz', 'biztip', 'bjp', 'bk', 'bkn025', 'bkn032', 'blaaaaaaa', 'black', 'blackberri', 'blackburn', 'blackcat', 'blacken', 'blackinamerica', 'blacklivesmatt', 'blackmail', 'blackpool', 'blair', 'blairmcdougal', 'blais', 'blake', 'blakeschmidt', 'blame', 'blanket', 'blanksocietyx', 'blanktgt', 'blast', 'blaze', 'blazerfan', 'blazing_ben', 'blazingelwood', 'bldrcosheriff', 'bleacher', 'bleed', 'blend', 'bless', 'blew', 'blight', 'blind', 'blink', 'blinker', 'blizzard', 'blizzard_draco', 'blizzard_gamin', 'blizzardc', 'blizzhero', 'blk', 'block', 'blog', 'blogger', 'blood', 'bloodbath_tv', 'bloodbound', 'bloodi', 'bloodymonday', 'bloomberg', 'bloopandablast', 'bloor', 'blossom', 'blow', 'blower', 'blowjob', 'blowltan', 'blown', 'blowout', 'blue', 'bluebel', 'bluebirddenv', 'bluedio', 'bluejay', 'blueprint', 'bluetooth', 'bluff', 'blunt', 'bluntedjayt', 'blvd', 'bmurph1019', 'bn', 'bo', 'board', 'boast', 'boat', 'bobbyofhomewood', 'bobbyxfish', 'bobcat', 'bodi', 'boe', 'boi', 'boironusa', 'bois', 'boko', 'bokoharam', 'bokuto', 'bolasi', 'bolster', 'boltåêcyclon', 'bomairing', 'bomb', 'bomber', 'bomd', 'bona', 'bone', 'bong', 'bonhomme37', 'bonn1egr', 'bonnieg434', 'bonsai', 'bonu', 'book', 'bookboost', 'bookmobil', 'booksbyrog', 'bookslast', 'booktubeathon', 'boom', 'boomerangtim', 'boon', 'booradleyvancullen', 'boot', 'bordento', 'border', 'bore', 'born', 'bornverifi', 'boss', 'boston', 'bot', 'bother', 'bottl', 'bottom', 'bought', 'boulder', 'bounc', 'bound', 'boundari', 'bounti', 'bout', 'bouta', 'boutta', 'bovin', 'bow', 'boweri', 'bowknot', 'bowl', 'box', 'boxer', 'boy', 'boyd', 'boyfriend', 'boyhau', 'boyinahorsemask', 'bp', 'br', 'brace', 'bracelet', 'bracket', 'bradi', 'bradley', 'bradleybrad47', 'brahman', 'brain', 'brainless', 'brake', 'branch', 'brand', 'brandonmulcahi', 'brant', 'brave', 'braveri', 'brazil', 'brazilian', 'brb', 'bre_morrow', 'breach', 'bread', 'break', 'breakdanc', 'breakdown', 'breakfast', 'breakfaston', 'breaking411', 'breakingnew', 'breakth', 'breast', 'breath', 'breed', 'breitbartnew', 'breivik', 'brena', 'brew', 'brian', 'brianboru67', 'briannafrost', 'brick', 'bride', 'bridg', 'bridgeport', 'bridgeportspe', 'brief', 'brig', 'brigad', 'bright', 'brighten', 'brighton', 'brinco', 'bring', 'brisban', 'brisk', 'brit', 'britain', 'british', 'britishbakeoff', 'britney', 'brixton', 'bro', 'broad', 'broadcast', 'broadli', 'broadway', 'brobread', 'brochur', 'brock', 'brockton', 'broke', 'broken', 'bromleyth', 'bronwynbishop', 'bronx', 'brook', 'brooklyn', 'brooktekle_', 'broseidonrex', 'brother', 'brought', 'brown', 'browser', 'browseråêhijack', 'brrookkllyynnr', 'bruh', 'bruis', 'brunt', 'brush', 'brut', 'brutal', 'bs', 'bsg', 'bt', 'btw', 'btwn', 'bu', 'bubbl', 'bubblycuteon', 'buck', 'buckl', 'buckley', 'buddha', 'buddi', 'buddz', 'budget', 'buff', 'buffalo', 'buffer', 'buffoonmik', 'bug', 'build', 'builder', 'buildup', 'built', 'bukidnon', 'bullet', 'bulletin', 'bulli', 'bullpen', 'bullsey', 'bullshit', 'bummer', 'bump', 'bumper', 'bumpin', 'bunch', 'bundi', 'bundl', 'bungi', 'burberry', 'buren', 'burglar', 'buri', 'burn', 'burnfat', 'burnt', 'burp', 'burst', 'burton', 'burundi', 'buscemi', 'buse', 'busey', 'bush', 'bushman', 'busi', 'businessman', 'businessmen', 'bust', 'but', 'butch', 'butter', 'butterlondon', 'button', 'buy', 'buyout', 'bv', 'bwp', 'bye', 'byebyesoundcloud', 'bypass', 'byproduct', 'byr', 'bytorrecilla', 'byuwnbeki', 'c4new', 'c_pinto001', 'ca', 'caaaaaall', 'cab', 'cabbag', 'cabin', 'cabl', 'cabramatta', 'cabrillo', 'cacheadv', 'cackl', 'cad', 'cadenadeseguidor', 'cadrought', 'caesar', 'cafe', 'cafetier', 'cafì', 'cage', 'cai', 'cain', 'cairo', 'caitlin', 'caitsrobert', 'caixxum5so', 'cake', 'cal', 'calai', 'calam', 'calcul', 'calest', 'calfir', 'calgari', 'calgarian', 'calgaryfring', 'calhoun', 'cali74142290', 'calif', 'california', 'californian', 'call', 'calm', 'calmli', 'calori', 'calum36chamb', 'calum5so', 'calumet', 'cam', 'cambridg', 'camden', 'came', 'cameo', 'camera', 'cameroon', 'camilacabello97', 'camilla_33', 'camp', 'campaign', 'campbel', 'campfir', 'campu', 'can', 'canaanit', 'canada', 'canadian', 'canag', 'cancel', 'cancer', 'candace_dx', 'candi', 'candl', 'candylit', 'cannabi', 'cannib', 'cannot', 'cano', 'canonbringit', 'canontattoo', 'canonusaimag', 'canpoli', 'cant', 'cantar', 'cantmakeitup', 'cantmisskid', 'canva', 'canyon', 'cap', 'capac', 'cape', 'capeann', 'capit', 'capitalist', 'capitul', 'capoeira', 'capsiz', 'captain', 'captiv', 'captor', 'captur', 'car', 'cara', 'caraccidentlawy', 'carajdeievingnc', 'caravan', 'carbondal', 'carcinoma', 'card', 'cardboard', 'care', 'careemerg', 'career', 'careless', 'cargo', 'carhot', 'cari', 'caribbean', 'carl', 'carlachamorro', 'carlilescanoeliveri', 'carlo', 'carlsbadbugkil1', 'carmi', 'carnag', 'carnegi', 'carneross', 'carolin', 'carolinaåêablaz', 'carpet', 'carpool', 'carr', 'carri', 'carriag', 'carsonrex', 'cart', 'cartel', 'cartervil', 'cartooni', 'cascada', 'case', 'casewrit', 'cash', 'casper', 'casper_rmg', 'cast', 'castl', 'casual', 'casualti', 'cat', 'cataclysm', 'catalina', 'catastroph', 'catch', 'categori', 'catfish', 'catfishmtv', 'catoinstitut', 'catovitch', 'catsandsyrup', 'catwoman1775', 'cau', 'caught', 'caus', 'causat', 'caution', 'cautiou', 'cave', 'cawx', 'cbc', 'cbccalgari', 'cbcto', 'cbplawyer', 'cbs29', 'cbs3', 'cbsbigbroth', 'cbsdenver', 'cc', 'ccot', 'cd', 'cdc', 'cdcgov', 'cdnpoli', 'cdt', 'cecanf', 'cech', 'cecil', 'cecilthelion', 'cedarglade2015', 'celebr', 'celesti', 'cell', 'celtic', 'cement', 'cena', 'censorship', 'censu', 'center', 'centiped', 'centr', 'central', 'ceo', 'cereal', 'cern', 'certain', 'certainli', 'certainti', 'certif', 'cervix', 'cessna', 'cest', 'cfc', 'cgi', 'ch', 'chaboyyhd', 'chachi', 'chain', 'chainsaw', 'chair', 'chairman', 'chalk', 'challeng', 'chambered_blood', 'champ', 'champion', 'championsblackfoot', 'championship', 'chanc', 'chandane', 'chandrababu', 'chane', 'chang', 'changepilipina', 'channel', 'chao', 'chaosmagician97', 'chapouti', 'chapter', 'char', 'charact', 'charcoal', 'charg', 'charger', 'chariti', 'charl', 'charlesdagnal', 'charleston', 'charli', 'charlieputh', 'charliz', 'charlott', 'charminar', 'charstevens97', 'chart', 'chartreus', 'chase', 'chaselabsport', 'chaser', 'chat', 'chattanooga', 'cheat', 'check', 'cheeki', 'chees', 'chef', 'chelsea', 'chelsea_dog', 'chem', 'chemic', 'chernobyl', 'cheroke', 'cherri', 'cheryl', 'chest', 'chester', 'chestertweetsuk', 'chevi', 'chew', 'cheyenn', 'chiasson', 'chibi877', 'chicago', 'chicagoscann', 'chick', 'chicken', 'chief', 'chieftain', 'child', 'childcar', 'childfund', 'childhood', 'children', 'childsexabus', 'chile', 'chill', 'chillin', 'china', 'chinadotcom', 'chines', 'chippewa', 'chitral', 'chloeunguyen', 'chocol', 'choctaw', 'choic', 'chojo', 'choke', 'chonc', 'choos', 'choosegod', 'chop', 'chopperg', 'chord', 'chore', 'chose', 'chosen', 'choudari', 'chowchilla', 'chp', 'chpsre', 'chr3lyc', 'chri', 'chriscesq', 'chrisdanielshow', 'chrisdyson16', 'chrisman528', 'chrisroth98', 'chrissi', 'christ', 'christi', 'christian', 'christianvalu', 'christiec733', 'christielinford', 'christinalavv', 'christinartnd', 'christma', 'christopherszen', 'christycroley', 'chromsuck', 'chronicil', 'chrysler', 'chubbysquirrel_', 'chuck', 'chucker', 'chunk', 'church', 'chxrmingprinc', 'ci', 'cia', 'cigarett', 'cilla', 'cin', 'cindi', 'cindynoonan', 'cinema', 'cinla1964', 'cipinang', 'circl', 'circu', 'circuit', 'circular', 'cisladi', 'citat', 'cite', 'citi', 'citizen', 'citru', 'citylink', 'cityofcalgari', 'cityofhummu', 'cityofkamloop', 'cityofmemphi', 'cityporn', 'civil', 'civilian', 'cjoyner', 'ckosova', 'cl', 'clad', 'claiborn', 'claim', 'clair', 'clap', 'clash', 'class', 'classic', 'claw', 'claytonbry', 'cld', 'cle', 'clean', 'cleanest', 'cleanup', 'clear', 'clearli', 'cleav', 'cleavag', 'clelli', 'cleric', 'cleveland', 'clever', 'clicca', 'click', 'clico', 'client', 'cliff', 'climat', 'climatechang', 'climb', 'clinton', 'clip', 'cliptv', 'clipuri', 'cllrraymogford', 'clnv_', 'clock', 'clog', 'close', 'closest', 'closur', 'clot', 'cloth', 'cloud', 'cloudi', 'cloudy_goldrush', 'clown', 'cloydriv', 'club', 'clubbang', 'clue', 'clutch', 'clyde', 'cm', 'cm_nevalisti', 'cmcsa', 'cmon', 'cnbc', 'cndpoli', 'cnewsliv', 'cnmi', 'cnn', 'cnnbrk', 'cnni', 'cnv', 'co', 'co2', 'coach', 'coahuila', 'coal', 'coalit', 'coast', 'coast2coastdj', 'coastal', 'coastguard', 'coat', 'cobe', 'cocain', 'cochran', 'cock', 'cocki', 'cockpit', 'cocktail', 'cocoa', 'cod', 'code', 'codemew', 'codythompson25', 'coeffici', 'coerc', 'coercion', 'coffe', 'cogxbox', 'coif', 'coil', 'coincid', 'coke', 'col', 'cold', 'colder', 'coldmpress', 'cole', 'coleslaw', 'collab', 'collabor', 'collaps', 'collar', 'collater', 'collect', 'colleenmnelson', 'colleg', 'collegeradi', 'colli', 'collid', 'collideworship_', 'collis', 'colnharun', 'coloiccarn', 'colombia', 'colombian', 'color', 'colorado', 'coloradoavalanch', 'colorect', 'colt', 'columbia', 'columbu', 'column', 'com', 'combat', 'combin', 'combo', 'combust', 'comcastcar', 'comdev', 'come', 'comedi', 'comeeee', 'cometh', 'comfort', 'comic', 'comin', 'comingsoon', 'comma', 'command', 'commenc', 'comment', 'commerci', 'commiss', 'commit', 'commod', 'commoditiesåêar', 'common', 'commonwealth', 'commun', 'commut', 'como', 'comp', 'compani', 'companionship', 'comparison', 'compass', 'compel', 'compens', 'compet', 'competit', 'competitor', 'complain', 'complaint', 'complet', 'complex', 'complianc', 'compliant', 'compon', 'compound', 'comprehens', 'compulsori', 'comput', 'con', 'concept', 'concern', 'concert', 'conclud', 'conclus', 'concret', 'concur', 'concuss', 'condemn', 'condit', 'conditionspriv', 'condo', 'condol', 'conduct', 'conf', 'confeder', 'confer', 'confess', 'confirm', 'conflict', 'confus', 'congest', 'congrat', 'congress', 'connect', 'connecticut', 'connector', 'connor', 'connormidd', 'conquest', 'conscious', 'consent', 'consequ', 'conserv', 'consid', 'consist', 'consol', 'conspiraci', 'constant', 'constantli', 'constel', 'constitut', 'construct', 'consum', 'consumerist', 'cont', 'contact', 'contactenergi', 'contain', 'contempl', 'content', 'contentmarket', 'contest', 'context', 'contig', 'continu', 'contr', 'contract', 'contrast', 'contri', 'contribut', 'control', 'convect', 'conven', 'convent', 'convers', 'convert', 'convinc', 'cook', 'cool', 'cooler', 'coolest', 'cooper', 'cooperstown', 'cop', 'copa', 'cope', 'copi', 'copper', 'copperfield', 'copycat', 'coquitlam', 'cor4', 'coral', 'cord', 'corey', 'coreyash', 'corleonedaboss', 'corn', 'corner', 'coronet', 'corp', 'correct', 'correl', 'correspond', 'corrupt', 'cortezera', 'cosm', 'cosmet', 'cosponsor', 'cost', 'costli', 'costlier', 'cottag', 'cotton', 'cougar', 'could', 'coulda', 'couldnt', 'coun', 'councilscc', 'counselor', 'count', 'counter', 'counterstrik', 'counti', 'countless', 'countri', 'countynew', 'coupl', 'courag', 'cours', 'court', 'cousin', 'cover', 'coverag', 'cow', 'cowardli', 'cowboy', 'cowgirllawy', 'cowork', 'cowx', 'coxytown', 'coya', 'coyi', 'coyot', 'cozmo23', 'cqnow', 'cr', 'crack', 'crackdown', 'cracker', 'crackin', 'cramer', 'cramp', 'cranboonitz', 'crane', 'crap', 'crapgam', 'crash', 'crash_______', 'crater', 'crave', 'crawl', 'craykain', 'crayon', 'crazi', 'crazier', 'crazydoctorladi', 'crazyweath', 'cream', 'creamfield', 'creat', 'createdunique23', 'creationmin', 'creativ', 'creatur', 'credenti', 'credit', 'cree', 'creek', 'creel', 'creep', 'creepiest', 'crematoria', 'crept', 'crescent', 'crew', 'cri', 'cricket', 'crime', 'crimin', 'crimsonfuckingv', 'cring', 'crippl', 'criscyborg', 'crisi', 'cristiano', 'critic', 'critter', 'croat', 'croatian', 'crobscarla', 'crockeri', 'crocodil', 'crook', 'cross', 'crow', 'crowd', 'crowdtapp', 'crown', 'crowtherjohn', 'croze', 'crude', 'cruis', 'crumbl', 'crunchi', 'crusad', 'crush', 'crusti', 'cruz', 'cryibg', 'crystal', 'crystal_blaz', 'cs', 'csaresu', 'cst', 'cstsmith', 'csx', 'ct', 'cta', 'ctafail', 'ctaztrophe31', 'cte', 'cti', 'ctr', 'cu', 'cuana', 'cub', 'cuban', 'cubstalk', 'cucumb', 'cuddl', 'cuddlesforjen', 'cue', 'cuf', 'cultiv', 'cultsierr', 'cultur', 'cum', 'cumberbatch', 'cummerbund', 'cunayyh', 'cunt', 'cup', 'cupcak', 'curb', 'cure', 'curfew', 'curios', 'currensi', 'current', 'curri', 'curs', 'curv', 'custer', 'custom', 'cut', 'cute', 'cutest', 'cutleri', 'cuyahoga', 'cuz', 'cvinch_waow', 'cw500', 'cw_hoop', 'cwheat', 'cya', 'cyber', 'cyberdemon531', 'cycl', 'cyclist', 'cyclon', 'cyclone_reizei', 'cyhi', 'cyhitheprync', 'cypru', 'd1ff3r3nt1sg00d', 'd_lac', 'd_pagexxi', 'da', 'dab', 'daborsch', 'dacherryontop13', 'dad', 'daddi', 'daesh', 'daewony0406', 'dagger', 'daili', 'dailyko', 'dailyliber', 'dailytimesngr', 'daisi', 'daisycuttertz', 'dak', 'dalailama', 'dalinthanelan', 'dalla', 'dallascowboy', 'dalroy', 'dam', 'damag', 'damascu', 'damatu', 'damaturu', 'dambisa', 'dame', 'damidnight', 'damiengayl', 'damn', 'damp', 'dampen', 'dan', 'danagould', 'danc', 'dancefloor', 'dancer', 'danemillar1', 'danger', 'dangl', 'danharmon', 'danhrothschild', 'dani_riot', 'daniel', 'danielkemp6', 'danielsahyouni', 'daniglasgow45', 'danni', 'dannyjohnjul', 'dannyonpc', 'dantmatrafajlo', 'dantwitty52', 'daorcey', 'dapurplesharpi', 'darchambau', 'dare', 'dark', 'darkest', 'darkhorsecom', 'darkndtat', 'darkread', 'darryl_brook', 'darrylb1979', 'darud', 'darwin', 'dat', 'data', 'date', 'dateswhitecoat', 'datingtip', 'dattomm', 'daughter', 'daughterofnai', 'dauntedpsych', 'david', 'david_cameron', 'davidcovucci', 'davidduchovni', 'davidjordan88', 'davidlabrava', 'davidolszak', 'davidson', 'davidvonderhaar', 'daviesmutia', 'daviskawalya', 'dawg', 'dawson', 'day', 'dayton', 'dazzl', 'db5', 'dc', 'dcclotheslin', 'dccomic', 'dcfd', 'ddnt', 'de', 'deactiv', 'dead', 'dead_dreamer15', 'deadgirltalk', 'deadgrassandflow', 'deadli', 'deadliest', 'deadlydemi', 'deal', 'dealbreak', 'dear', 'death', 'death2usa', 'deathmul', 'deb117', 'debacl', 'debat', 'debatequestionswewanttohear', 'debri', 'debt', 'decad', 'decal', 'deccgovuk', 'deceas', 'decemb', 'decent', 'decid', 'decis', 'deck', 'declar', 'declin', 'deco', 'deconstruct', 'decor', 'decreas', 'decrimin', 'dedic', 'deduct', 'dee', 'deed', 'deedee_casey', 'deeeznvtzzz', 'deejayempiresound', 'deem', 'deep', 'deepli', 'deepthought', 'deepwat', 'deezercolombia', 'def', 'default', 'defeat', 'defect', 'defenc', 'defend', 'defens', 'defin', 'definit', 'deflateg', 'degre', 'dehydr', 'del', 'delani', 'delay', 'deldryden', 'deliber', 'delici', 'deliv', 'delmont', 'delta', 'deltachildren', 'delud', 'delug', 'delus', 'delux', 'dem', 'demand', 'demeanor', 'demetae12', 'demi', 'demis', 'demo', 'democraci', 'democrat', 'demolish', 'demolit', 'demon', 'demonstr', 'denali', 'deni', 'denial', 'denier', 'denim', 'deniseromano', 'densiti', 'dent', 'dental', 'denton', 'denver', 'depart', 'depend', 'deploy', 'depot', 'depress', 'dept', 'depth', 'deputi', 'der', 'derail', 'derailed_benchmark', 'derbi', 'dere', 'deriv', 'derma', 'descend', 'describ', 'descript', 'desert', 'deserv', 'design', 'desir', 'desk', 'desol', 'desolationofsmaug', 'despair', 'desper', 'despic', 'despit', 'dessic', 'destiel', 'destin', 'destini', 'destinythegam', 'destroy', 'destroyd', 'destruct', 'detail', 'detain', 'determin', 'detkenlang', 'deton', 'detour', 'detroit', 'detroitnew', 'detroitpl', 'deutsch', 'devast', 'develop', 'devereaux', 'devi', 'devic', 'devis', 'devot', 'devour', 'devpeac', 'dew', 'dewdney', 'dfir', 'dfr', 'dh', 'dhalgren', 'di', 'diablo', 'diageo', 'diagnosi', 'dial', 'diamond', 'diamondkesawn', 'diamorfiend', 'dianneg', 'diaporama', 'diari', 'diarrhea', 'diaspora', 'dibang', 'dice', 'dicehatem', 'dick', 'dickhead', 'dicki', 'dickson', 'didnt', 'die', 'dieanpink95', 'diebold', 'dierk', 'diesel', 'diet', 'diff', 'differ', 'difficult', 'difficulti', 'dig', 'diggin', 'digit', 'digitalhealth', 'digniti', 'dilawri', 'dill', 'dilut', 'dimens', 'dinallyhot', 'dinner', 'dinosaurdracula', 'dip', 'diplomaci', 'diplomat', 'direct', 'direction', 'directli', 'director', 'directori', 'dirt', 'dirumah', 'disabledveteran', 'disagr', 'disappear', 'disappoint', 'disarm', 'disast', 'disasterrecoveri', 'disciplinari', 'disclo', 'disclos', 'disco', 'discov', 'discoveri', 'discuss', 'disdain', 'disea', 'diseas', 'disembark', 'disgrac', 'disgust', 'disillus', 'dislik', 'disloc', 'dismiss', 'disney', 'disneyland', 'disord', 'disown', 'dispatch', 'dispensari', 'dispers', 'displac', 'display', 'displeas', 'disput', 'disrespect', 'disrupt', 'diss', 'dissuad', 'distanc', 'distinct', 'distribut', 'district', 'ditch', 'ditto', 'dive', 'divers', 'diversif', 'diversifi', 'divert', 'divestitur', 'divis', 'dix', 'dixi', 'dixon', 'diyala', 'dj', 'djcoreygrand', 'djeddygnj', 'djicemoon', 'djiglob', 'djjohnblaz', 'djknyce', 'djoneplustwo', 'djryanwolf', 'dk', 'dl', 'dlc', 'dlh', 'dlin71', 'dmassa5', 'dmoneydemi', 'dmpl', 'dmt', 'dnb', 'dnbheaven', 'doc', 'dock', 'doco', 'doctor', 'doctordryadma', 'doctorfluxx', 'document', 'documentari', 'dodg', 'doe', 'doesnt', 'doessnt', 'dog', 'dogger', 'dojo', 'doll', 'dollar', 'dolphin', 'dom', 'domain', 'domest', 'domin', 'dominicana', 'donald', 'donat', 'done', 'donington', 'doningtondash', 'donjazzi', 'dont', 'dontexpectnoth', 'donthat', 'donzilla', 'donå', 'doom', 'doomsday', 'doon', 'door', 'dope', 'dopest', 'dopey', 'doppler', 'dorett', 'dori', 'dorismatsui', 'dorret', 'dorrian', 'dose', 'dotish', 'doubl', 'doublecup', 'doubleghat', 'doubt', 'douchebag', 'doug', 'dougkessl', 'dougmartin17', 'dove', 'down', 'downfal', 'downgrad', 'download', 'downpour', 'downright', 'downsid', 'downstair', 'downtim', 'downtown', 'doylech', 'dozen', 'dq', 'dr', 'dr_baseball41', 'draft', 'drag', 'drag0nking0201', 'dragneel', 'drago', 'dragon', 'drake', 'drako', 'drama', 'dramat', 'drank', 'dratomic420', 'dravet', 'draw', 'drawn', 'drayesha4', 'dream', 'dreami', 'dreamoforgonon', 'dredougi', 'dren', 'dress', 'drew', 'drewwtaylor', 'drfriedencdc', 'dri', 'dribbl', 'drift', 'drill', 'drink', 'drive', 'driven', 'driver', 'drjustinmazur', 'drmartyfox', 'drob', 'droid', 'drone', 'drool', 'drop', 'droppd', 'drothvad', 'drought', 'droughtgov', 'droughtmonitor', 'drove', 'drown', 'drphil', 'drrichardbess', 'drug', 'drum', 'drummond', 'drumpf', 'drumstep', 'drunk', 'drvox', 'dryer', 'dserialpcilp', 'dt', 'dtb', 'dtn', 'dtop77', 'du19', 'dual', 'dualcom', 'dub', 'dubai', 'dubbo', 'dublin', 'dubloadz', 'dubstep', 'duchovbutt', 'duck', 'dude', 'due', 'duh', 'duke', 'dull', 'dum', 'dumb', 'dumbass', 'dumbfound', 'dummi', 'dump', 'dumuzid', 'dunbar', 'dunde', 'dune', 'dungeon', 'dunk', 'duo', 'dupe', 'dupre', 'durabl', 'durban', 'durban_knight', 'durham', 'durrellb', 'dust', 'dustpig', 'dustpiggi', 'duststorm', 'duststormfilm', 'dutch', 'duti', 'dutton', 'dvc', 'dvd', 'dw', 'dw_english', 'dwarfonjetpack', 'dwarv', 'dwight', 'dwilliams313', 'dyamiplotk', 'dyannbridg', 'dylanmcclure55', 'dynast', 'dysfunct', 'dystopian', 'dzafic_hari', 'eac4au', 'eagl', 'ear', 'earbud', 'earl', 'earli', 'earlier', 'early__may', 'earn', 'earnest', 'earth', 'earthquak', 'earths_voic', 'easi', 'easier', 'easili', 'east', 'eastbound', 'easter', 'eastern', 'eastward', 'eat', 'eaten', 'eau', 'eb', 'ebay', 'ebola', 'ebolatrend', 'ebrointheam', 'echo', 'eco11c', 'ecolog', 'econom', 'economi', 'ect', 'ed', 'eddi', 'eden', 'edfring', 'edg', 'edinburgh', 'edison', 'edit', 'editaxohaz', 'editor', 'edm', 'edmond', 'edmund', 'edna', 'edsheeran', 'edt', 'educ', 'edward', 'edwin', 'ee', 'eeenice221', 'eep', 'eeri', 'efak', 'effect', 'effiedean', 'effort', 'eganator2000', 'egg', 'ego_resolut', 'egypt', 'eh', 'ehek', 'eight', 'eighth', 'eisenhow', 'either', 'ekiti', 'el', 'el_torro_loco', 'elanorofrohan', 'elat', 'elbow', 'elderli', 'elecman', 'elect', 'electr', 'electro', 'electrocut', 'electrocutedboil', 'electron', 'electrostat', 'elem', 'element', 'eleph', 'elephantintheroom', 'elev', 'elgato', 'elgeotaofeeq', 'elianaraquel', 'elielcruz', 'elig', 'elijah', 'elimin', 'elisagxrcia', 'elit', 'elitesportsni', 'elitist', 'elizabeth', 'elk', 'elkhorn', 'ella', 'elli', 'elliott', 'elreynetwork', 'els', 'elsa', 'elutranscend', 'elven', 'elvi', 'elvia', 'elwood', 'elxn42', 'em', 'email', 'embarrass', 'ember', 'emblem', 'embra', 'embrac', 'embroid', 'emerg', 'emergencymgtmag', 'emi', 'emil', 'emile', 'emilio', 'emiliorivera48', 'emilymcfcheslop', 'emittin', 'emmanuel', 'emmerdal', 'emmi', 'emmychappi', 'emo', 'emot', 'emp', 'empathi', 'empir', 'employ', 'employe', 'empow', 'empti', 'emptiv', 'ems1', 'emsc', 'emsn', 'emt', 'en', 'enabl', 'enact', 'encor', 'encount', 'encourag', 'end', 'endconflict', 'ender', 'endless', 'endlessli', 'endoccup', 'endors', 'endur', 'enem', 'enemi', 'energi', 'enew', 'engag', 'engin', 'enginesh', 'engl', 'england', 'english', 'engulf', 'engvau', 'enhanc', 'enjoy', 'enkelbiljett', 'enolagay', 'enough', 'enrout', 'enrt', 'ensu', 'ensur', 'enter', 'enterpris', 'entershikari', 'entertain', 'entir', 'entiti', 'entretenimento', 'enugu', 'enviroment', 'environ', 'environment', 'envw98', 'envyseven', 'eo', 'eonlinechat', 'ep', 'ep016', 'ep03', 'epa', 'epcotexplor', 'epic', 'epic_insan', 'epicentr', 'epidem', 'epilepsi', 'epilept', 'epiphan', 'episcop', 'episod', 'epl', 'epoch', 'epsom', 'eq', 'equal', 'equat', 'equestrian', 'equip', 'er', 'era', 'eral', 'erasuter', 'ercjmnea', 'erdogan', 'erect', 'ergo', 'eri', 'eric_bulak', 'erinmariefishi', 'erker', 'ermac', 'erod', 'error', 'errrr', 'erupt', 'erykah', 'es', 'escap', 'escort', 'esh', 'esn', 'esoter', 'esp', 'especi', 'espn', 'esport', 'esquireattir', 'ess', 'essenceofm', 'establish', 'estat', 'esteem', 'estellasreveng', 'estim', 'et', 'etc', 'etern', 'ether', 'ethereal_7', 'ethic', 'etisalat', 'eto', 'etp', 'etribun', 'eu', 'eudrylantiqua', 'eunice_njoki', 'euro', 'eurocrisi', 'europ', 'european', 'euroquak', 'eurotunnel', 'ev', 'evaaasr', 'evac', 'evacid', 'evacu', 'evahanderek', 'evangel', 'evanston', 'evansvil', 'eve', 'evebrigid', 'even', 'event', 'eventspalmbeach', 'eventu', 'ever', 'everest', 'everi', 'everwh', 'everybodi', 'everyday', 'everydaynaija', 'everyon', 'everyth', 'everytim', 'everywher', 'evid', 'evil', 'evilempir', 'evolv', 'ex', 'exacerb', 'exact', 'exactli', 'exagger', 'exam', 'examin', 'examinercom', 'exampl', 'exc', 'excel', 'except', 'excess', 'exchang', 'excit', 'exclam', 'exclus', 'excus', 'exec', 'execut', 'exercis', 'exhaust', 'exhibit', 'exhibitor', 'exist', 'exit', 'exo', 'exofficio', 'exp', 'exp0s', 'expand', 'expans', 'expect', 'expens', 'experi', 'experienc', 'expert', 'expirehc', 'explain', 'explan', 'explicitli', 'explod', 'exploit', 'explor', 'explos', 'expo', 'exponenti', 'export', 'expos', 'exposur', 'express', 'extend', 'extens', 'extent', 'extermin', 'extern', 'extinct', 'extra', 'extrem', 'eye', 'eyebal', 'eyecut', 'eyefact', 'eyewit', 'eytay', 'ezralev', 'fa07af174a71408', 'faan', 'fab', 'fabric', 'face', 'facebook', 'faceless', 'faceåê', 'facil', 'fact', 'factor', 'factori', 'factsheet', 'faculti', 'fadc', 'fade', 'fadelurk', 'fahlo', 'fail', 'failur', 'faintli', 'fair', 'fairfax', 'fairground', 'fairi', 'fairli', 'fairx818x', 'faith', 'fake', 'falcon', 'fall', 'fallaci', 'fallen', 'falmer', 'falphil', 'fals', 'fam', 'fame', 'famili', 'familia', 'familiar', 'famin', 'famineåêmemori', 'famou', 'fan', 'fanbas', 'fandom', 'fang', 'fangirl', 'fant4stic', 'fantabul', 'fantasi', 'fantast', 'fantasticfour', 'fantosex', 'far', 'farc', 'fari', 'farm', 'farmland', 'farmr', 'faroeisland', 'farrakhan', 'fart', 'fartanxieti', 'farther', 'fascin', 'fashion', 'fast', 'faster', 'fat', 'fatal', 'fatality_u', 'fatburn', 'fate', 'father', 'faulti', 'faux', 'fav', 'fave', 'favor', 'favorit', 'favorita', 'favourit', 'faze_rain', 'fb', 'fb100', 'fbi', 'fci', 'fcked', 'fco', 'fd', 'fdni', 'fdx', 'fe', 'fear', 'feast', 'feat', 'featur', 'fed', 'feder', 'fedex', 'fedporn', 'fee', 'feed', 'feel', 'feelin', 'feelingmanli', 'feet', 'feinstein', 'fel', 'fell', 'fella', 'felon', 'felt', 'fem', 'fema', 'femal', 'femalegilgamesh', 'feminist', 'femnism', 'fenc', 'fennovoima', 'fentanyl', 'ferguson', 'ferno', 'ferrel', 'ferri', 'ferrochrom', 'fest', 'festac', 'festiv', 'fettilootch', 'fevwarrior', 'fez', 'ffa', 'fforecast', 'ffvii', 'fi', 'fiasco', 'fiat', 'fiction', 'fiddl', 'fide', 'fieg', 'field', 'fieldston', 'fierc', 'fieri', 'fifa16', 'fife', 'fifth', 'fifti', 'fight', 'fighter', 'fighterdena', 'fightin', 'figur', 'file', 'fill', 'film', 'film4', 'filmmak', 'filter', 'final', 'finalis', 'financ', 'financi', 'financialreview', 'find', 'fine', 'finer', 'finger', 'fingerrockfir', 'finish', 'finn', 'finna', 'finnish', 'finsup', 'fiona', 'fionagilbert_', 'fir', 'fire', 'firefight', 'firefightr', 'firefigth', 'fireman', 'firemen', 'firenew', 'firetruck', 'firewis', 'firework', 'firey', 'firmli', 'first', 'firstnat', 'fish', 'fist', 'fit', 'fitba', 'fitz', 'fitzgerald', 'five', 'fix', 'fiya', 'fizzi', 'fkhanag', 'flag', 'flake', 'flame', 'flames_n', 'flamethrow', 'flash', 'flashback', 'flashflood', 'flat', 'flatlin', 'flatt', 'flatten', 'flavafraz21', 'flavor', 'flaw', 'flawless', 'flechada', 'fled', 'flee', 'fleet', 'fleetwood', 'flesh', 'fletcher', 'flew', 'flex', 'flgovscott', 'fli', 'flickershowel', 'flight', 'flint', 'flip', 'float', 'flood', 'floor', 'floorburnt', 'floored4', 'flop', 'florida', 'floridian', 'florin', 'flow', 'flower', 'flowri', 'floyd', 'fluid', 'flunki', 'flynn', 'flyopinemonkey', 'fm', 'fn', 'focu', 'focus', 'fog', 'foil', 'fold', 'foliag', 'folieacat', 'folk', 'follow', 'followback', 'followlasg', 'followm', 'fond', 'font', 'food', 'foodborn', 'foodscar', 'foodstand', 'fool', 'foolish', 'foot', 'footag', 'footbal', 'foragesecret', 'forb', 'forbath', 'forbesasia', 'forbid', 'forc', 'forebod', 'forecast', 'forest', 'forev', 'forex', 'forfeit', 'forget', 'forgiv', 'forgiven', 'forgot', 'forgotten', 'form', 'format', 'former', 'formula', 'forreal', 'forrest', 'forrestmankin', 'forse', 'forsur', 'forsyth', 'fort', 'forth', 'fortun', 'fortworth', 'forward', 'fossil', 'foster', 'foto', 'fotofil', 'fotoset', 'foul', 'found', 'foundat', 'founder', 'four', 'fourth', 'fowler', 'fox', 'fox5newsdc', 'foxa', 'foxdebatequest', 'foxnew', 'foxtrot', 'foxy__siren', 'fpine', 'fr', 'frackfree_eu', 'frackfreelanc', 'fraction', 'fragil', 'fragranc', 'frail', 'frame', 'fran', 'franc', 'franci', 'francisco', 'francisunderwood', 'frank', 'frankli', 'franklin', 'franta', 'fraud', 'freak', 'freakiest', 'freddi', 'freddiedebo', 'fredolsencruis', 'fredosantana300', 'free', 'freebesieg', 'freed', 'freedom', 'freedomoutpost', 'freefromwolv', 'freegeezy17', 'freekashmir', 'freemurphi', 'freespeech', 'freestyl', 'freeview', 'freeway', 'freez', 'freezer', 'freiza', 'french', 'frenzi', 'fresh', 'freshli', 'freshman', 'fresno', 'freya', 'fri', 'fricken', 'friday', 'friend', 'friend50', 'friend59', 'friendli', 'friendship', 'friggin', 'frighten', 'frisco', 'frobeus_n', 'frofrofro', 'frog', 'front', 'frontin', 'frontlin', 'frontpag', 'frost', 'frothi', 'froze', 'frozen', 'frp', 'fruit', 'frusciant', 'frustrat', 'frvrgrate', 'ft', 'fte', 'ftsn', 'ftsnnewsdesk', 'fuck', 'fuckboy', 'fuckfac', 'fuckin', 'fucktard', 'fuckyeahcarey', 'fuel', 'fujiwara', 'fukurodani', 'fukushima', 'fulfil', 'full', 'fulli', 'fullscreen', 'fun', 'fund', 'fundament', 'fundrais', 'fundwhen', 'funkflex', 'funkylilshack', 'funni', 'funniest', 'funnydadcoach', 'funtenna', 'funtim', 'furi', 'furiosoxv', 'furiou', 'furtrix', 'fusion', 'futur', 'futurea', 'fwi', 'fwo', 'fx', 'fyi', 'fyld', 'g20', 'g7', 'g90', 'ga', 'gabon', 'gadget', 'gag', 'gaia', 'gail', 'gain', 'gainesvil', 'gal', 'galact', 'galifianaki', 'gallipoli', 'galloway4mayor', 'galvnew', 'gambit', 'game', 'gameplay', 'gamer', 'gamerg', 'gamescom', 'gamma', 'gander', 'gang', 'gangstermail', 'gansey', 'ganseyman', 'gape', 'garag', 'garbag', 'garbanzobean23', 'gard', 'garden', 'garfield', 'gargoyl', 'gargron', 'gari', 'garza', 'gasolin', 'gasp', 'gasparc', 'gassymexican', 'gastric', 'gate', 'gateau', 'gave', 'gawx', 'gay', 'gaynor', 'gaza', 'gazan', 'gazebo', 'gazett', 'gbay99', 'gbbo', 'gbbo2015', 'gbonyin', 'gc', 'gd', 'gear', 'gecko', 'gel', 'geller', 'gem', 'gemma', 'gemmast', 'gen', 'gene', 'gener', 'generalnew', 'geneva', 'genisi', 'genit', 'geniu', 'genocid', 'gentl', 'gentlemen', 'gentli', 'genuin', 'geoffrickli', 'geometr', 'georg', 'georgecol', 'georgefoster72', 'georgegalloway', 'georgia', 'georgous__', 'geotech', 'germ', 'german', 'germani', 'gerryconnolli', 'gesserit', 'gestur', 'get', 'gettin', 'gettinglost', 'geyser', 'gf', 'gfe', 'gfrost1985', 'gfz', 'gg', 'gg_keeponrockin', 'ggindependencmessag', 'gh', 'ghetto', 'ghostoftheav', 'ghostwrit', 'ghoul', 'ghul', 'gi', 'giant', 'giantgiantsound', 'gibraltar', 'gidiexclusix', 'gif', 'gift', 'gig', 'gigant', 'gigawatt', 'giggl', 'gilderoy', 'gilgit', 'gillibrand', 'gilmanrocks7', 'gin', 'ginga', 'gio', 'giorgio', 'girardeau', 'girl', 'girlfriend', 'girlthatsrio', 'gisuserpr', 'give', 'giveaway', 'given', 'glacier', 'glad', 'glander', 'glass', 'glassanim', 'glaucoma', 'glean', 'glen', 'glenn', 'glide', 'glimps', 'glitch', 'glitter', 'global', 'globalwarm', 'globe', 'globi_inclus', 'glononium', 'gloomi', 'glori', 'gloria', 'gloriavelez', 'gloriou', 'gloucest', 'glove', 'glue', 'gm', 'gmt', 'gn', 'gnwt', 'go', 'goal', 'goat', 'goblu', 'god', 'godli', 'godof_mischief_', 'godsfirstson1', 'godslov', 'goe', 'gofundm', 'goggl', 'gohan', 'goin', 'gokitgo', 'goku', 'gold', 'golem', 'golf', 'gon', 'gone', 'goner', 'gonna', 'good', 'goodby', 'goodel', 'goodluck', 'goodnight', 'goodread', 'goof', 'goofbal', 'googl', 'googlemap', 'goonda', 'gooneratheist', 'goooooooo', 'gop', 'gopdeb', 'gordon', 'gordon_r74', 'gore', 'gorgeou', 'gorpuazikinak', 'gosh', 'goshen', 'gospel', 'gostei', 'got', 'gotham', 'gotriangl', 'gotta', 'gotten', 'gotthard', 'goulburn', 'gould', 'gov', 'govegan', 'govern', 'governor', 'govt', 'govwalk', 'goz', 'gp', 'gpaulista5', 'gpm', 'gpv', 'grab', 'grabakahitman', 'grabber', 'grace', 'grade', 'grain', 'grand', 'grandad', 'grandeur', 'grandfath', 'grandma', 'grandpa', 'grant', 'grant_factori', 'grantgordi', 'granttamane8', 'grape', 'graph', 'grass', 'grate', 'gratia', 'grave', 'gravel', 'graveyard', 'gravi', 'graviti', 'gravitychat', 'gravitymovi', 'gray', 'graywarden', 'graze', 'greasi', 'great', 'greatbritishbakeoff', 'greater', 'greatest', 'greatli', 'greec', 'greed', 'greedi', 'greek', 'green', 'greenbuildermag', 'greenharvard', 'greenlacey', 'greenspac', 'greenway', 'greer', 'greet', 'greg', 'greggmair', 'gregori', 'greink', 'grenad', 'grew', 'grey', 'greyjoy', 'greyston', 'gridlock', 'grief', 'griffin', 'grill', 'grimrail', 'grind', 'grindhous', 'gritti', 'grizzli', 'groceri', 'grogparti', 'groin', 'groom', 'gross', 'ground', 'group', 'groupon_uk', 'grove', 'grow', 'growingupblack', 'growingupincolorado', 'grown', 'growth', 'grrrr', 'grudg', 'grummz', 'grumpout', 'grupdat', 'gt', 'gta', 'guag', 'guam', 'guarante', 'guard', 'guardian', 'guatemala', 'guatemalan', 'gucci', 'guess', 'guest', 'guild', 'guillermo', 'guilti', 'guiltygearxxacp', 'guimara', 'gulf', 'gulfport', 'gull', 'gum', 'gummi', 'gun', 'gunfail', 'gunfight', 'gunfir', 'gunman', 'gunmen', 'gunner', 'gunnersfan89', 'gunsens', 'gunshot', 'guo', 'gurion', 'gurmeetramrahim', 'gust', 'gusti', 'gut', 'guthri', 'guy', 'gv', 'gwatt', 'gwfraze', 'gym', 'gymflow', 'gymtim', 'gyp', 'gyrsi', 'ha', 'haaaaaa', 'habbo', 'habit', 'hack', 'hacker', 'hagerstown', 'hah', 'haha', 'hahah', 'hahaha', 'hahahah', 'hahahaha', 'hai', 'hail', 'hail_youtsey', 'hail_zel', 'hailstorm', 'hair', 'haircut', 'hairdryer', 'haiyan', 'haji_hunter762', 'hakogaku', 'haley', 'haley_whaley', 'half', 'halfway', 'halifax', 'hall', 'halljh1720', 'halloikbenwil', 'halsey', 'halt', 'ham', 'hamburg', 'hamilton', 'hamper', 'hampshir', 'hamptonroadsfor', 'hamstr', 'hana', 'hand', 'handbag', 'handicap', 'handl', 'handsid', 'handsom', 'hang', 'hangin', 'hank', 'hanna', 'hannaph', 'hanov', 'hao', 'hap', 'hapa', 'happen', 'happi', 'happili', 'har', 'hara', 'haram', 'harass', 'harbhajan_singh', 'harbor', 'hard', 'harda', 'hardbal', 'hardcor', 'harden', 'harder', 'hardest', 'hardi', 'hardli', 'hardlin', 'hardsid', 'hardstyl', 'harlan', 'harm', 'harman', 'harmoni', 'harper', 'harperanetflixshow', 'harri', 'harrisgl', 'harrow', 'harrybecar', 'harrystyl', 'hartford', 'harvest', 'harveymain', 'harwich', 'hasbro', 'hashtag', 'hashtagteaclub', 'hassanrouhani', 'hastl', 'hasåêarriv', 'hat', 'hatchet', 'hate', 'hatman', 'hatr', 'hatzolah', 'haunt', 'hav', 'havnt', 'haw', 'hawaii', 'hawk', 'hay', 'haydnexist', 'hazard', 'hazelannmac', 'hazmat', 'hcsm', 'hd', 'he', 'hea', 'head', 'headdesk', 'headlin', 'headlinelik', 'headphon', 'headquart', 'headset', 'heal', 'health', 'healthcar', 'healthi', 'healthweekly1', 'hear', 'heard', 'hearitfrompa', 'hearitfrompatti', 'heart', 'heartach', 'heartbeat', 'heartbreak', 'hearth', 'heartland', 'heartless', 'heartwarm', 'heat', 'heaven', 'heavenli', 'heavi', 'heavybag201', 'heavydirtysoul', 'hebron', 'hebrooon', 'heel', 'hehe', 'heidia1438', 'height', 'heir', 'held', 'helen', 'helene_yancey', 'helicopt', 'helio', 'hell', 'hella', 'hellfir', 'hello', 'hellonwheelsamc', 'hellotybeeren', 'helo', 'help', 'helplin', 'helpm', 'helsinki', 'hempoil', 'henderson', 'hendrick', 'hendrixonfir', 'hendy_21', 'henley', 'henri', 'hereticofeth', 'herman', 'hermancranston', 'hermitag', 'hero', 'heroin', 'hexagon', 'hey', 'heyitsepark', 'heywood', 'hgf52611', 'hhahaha', 'hi', 'hiatt', 'hickson', 'hicksvil', 'hidden', 'hide', 'hideou', 'hienshi', 'hieroglyph', 'high', 'higher', 'highest', 'highli', 'highqualitybird', 'highsmith', 'highway', 'higuain', 'hijack', 'hijinks1967', 'hikagezero', 'hike', 'hiker', 'hilari', 'hilda', 'hill', 'hillari', 'hillarymass', 'hilli', 'hillsid', 'hilversum', 'himalaya', 'himeruisu', 'hinata', 'hinatobot', 'hindustan', 'hint', 'hinterestin', 'hinton', 'hip', 'hiphop', 'hipster', 'hire', 'hirochii0', 'hiroshima', 'hiroshima70', 'hirsch', 'hisao', 'hist', 'histor', 'histori', 'historicalmag', 'hit', 'hitchhik', 'hitter', 'hlongwan', 'hlportal', 'hm', 'hmm', 'hoax', 'hobbi', 'hobbit', 'hobo', 'hoc', 'hoe', 'hog', 'hogan', 'hoist', 'hold', 'holdin', 'hole', 'holi', 'holiday', 'holist', 'holland', 'holli', 'hollyorange8', 'hollywarnexx', 'hollywood', 'holm', 'holmgren', 'holodomor', 'holt', 'hom', 'home', 'home2', 'homealone2', 'homecom', 'homeimprov', 'homeless', 'homemad', 'homeown', 'homer', 'hometown', 'hometownglori', 'homeworldgym', 'homi', 'homosexu', 'hond', 'honduran', 'honest', 'honestli', 'honey', 'honeybunzgem', 'honor', 'honshu', 'hoo', 'hood', 'hoof', 'hooligan', 'hoop', 'hop', 'hope', 'hopefulbatgirl', 'hopeinchrist', 'horiikawa', 'horizon', 'horn', 'horndal', 'horno', 'horoscop', 'horowitz', 'horrend', 'horribl', 'horrif', 'horrifi', 'horror', 'horrormovi', 'hors', 'horsetalknz', 'hospit', 'host', 'hostag', 'hot', 'hotbox', 'hotboy', 'hotel', 'hotnewscak', 'hotspot', 'hotter', 'hottest', 'hough_jeff', 'hour', 'hous', 'household', 'houston', 'how_fan', 'howel', 'howev', 'hr', 'href', 'hronlinetweet', 'hrsto', 'hs', 'hs2', 'hse', 'hsjb215', 'hsu', 'http', 'hudhud', 'hue', 'huebel', 'huffman', 'huffpostuk', 'hug', 'huge', 'hugh', 'hughes1128', 'hugomatz', 'huh', 'human', 'humanconsumpt', 'humanitarian', 'humanright', 'humaza', 'humbl', 'humboldt', 'humid', 'humofthec', 'humor', 'hump', 'hunchback', 'hundr', 'hunger', 'hungri', 'hungrier', 'hunk', 'hunt', 'hunter', 'hunterlove1995', 'hunterston', 'huntington', 'hunwx', 'hurl', 'hurri', 'hurrican', 'hurricane_dam', 'hurricane_surg', 'hurt', 'husband', 'hush', 'hutch', 'huzzah', 'hvnewsnetwork', 'hw', 'hw18', 'hwi', 'hwo', 'hwy401', 'hyderabad', 'hyider_ghost2', 'hype', 'hypo', 'hypocrisi', 'hysteria', 'i10', 'i15', 'i405', 'i5', 'i580', 'i77', 'i_amtalia', 'iaff36', 'iamdowntown', 'iamrrsb', 'iamtonyn', 'ian', 'ian_bartlett', 'ian_hellfir', 'ianokavo96', 'iartg', 'iateyourfood', 'ibaraki', 'ibeto', 'ibeyioffici', 'ibiza', 'ibom', 'ibooklov', 'ibrahimmisau', 'icaru', 'icc_realckt', 'ice', 'icemoon', 'icequeenfrosla', 'ici', 'icicl', 'iclown', 'icon', 'icrc', 'ictyosaur', 'icymagistr', 'icymi', 'id', 'idaho', 'idc', 'idea', 'ideal', 'idek', 'ident', 'identitytheft', 'idgaf', 'idiot', 'idk', 'idlenomor', 'idm', 'idol', 'idp', 'idwpublish', 'idwx', 'ieansquad', 'iembot_hfo', 'if', 'ifak', 'ig', 'iger', 'ight', 'igmpj', 'ignit', 'ignor', 'ignorancesh', 'iheartradio', 'ihhen', 'ii', 'iii', 'iiii', 'iinet', 'iit', 'ijetalert', 'ijourn', 'ik', 'ikpeazu', 'ilford', 'ill', 'illeg', 'illinoi', 'illog', 'illus', 'illusoria', 'illustr', 'ilnewsflash', 'im', 'im2ad', 'im_raz', 'ima', 'imag', 'imagecom', 'imagin', 'imagini', 'imam', 'imdb', 'ime', 'imeshika', 'imkeepingmydayjob', 'immedi', 'immens', 'immigr', 'immortaltech', 'imo', 'imouto', 'impact', 'impend', 'imperfect', 'imperi', 'impli', 'implic', 'implicit', 'implod', 'implor', 'import', 'impos', 'imposit', 'imposs', 'impress', 'imprison', 'improv', 'impuls', 'imtariik', 'inbound', 'inc', 'incap', 'incas', 'incess', 'inch', 'incid', 'incident', 'incit', 'inciweb', 'includ', 'incom', 'incompet', 'increas', 'increasingli', 'incred', 'incredul', 'increment', 'ind', 'inde', 'indecis', 'independ', 'indepth', 'indi', 'india', 'indiakomuntorjawabdo', 'indian', 'indiana', 'indiannew', 'indiepopmom', 'indiffer', 'indigo6', 'indistinguish', 'individu', 'indo', 'indonesia', 'indoor', 'indot', 'induc', 'industri', 'inec', 'ineedexposur', 'inevit', 'infact', 'infam', 'infantri', 'infect', 'infectiousdiseas', 'inferno', 'infest', 'infiltr', 'infin', 'infinit', 'infinitegrace7', 'inflict', 'influenc', 'info', 'infograph', 'infomerci', 'inform', 'infosec', 'infowar', 'infrastructur', 'initi', 'inj', 'inject', 'injur', 'injuri', 'injustic', 'ink', 'inmat', 'inner', 'inning', 'innit', 'innoc', 'innov', 'insan', 'insanelimit', 'insect', 'insid', 'insight', 'insomnia', 'insomniac', 'inspect', 'inspi', 'inspir', 'inst', 'instagram', 'instal', 'instant', 'instantli', 'instapundit', 'instaquot', 'instead', 'instinct', 'institut', 'institution', 'instruct', 'insult', 'insur', 'insurers163', 'int', 'intact', 'integr', 'intellig', 'intelligencebar', 'intend', 'intens', 'intensifi', 'intent', 'interest', 'interestrateris', 'interlaken', 'interlock', 'intern', 'internet', 'internetradio', 'interpret', 'interraci', 'interrupt', 'intersect', 'intersectio', 'interspers', 'interst', 'intertwin', 'interv', 'interven', 'interview', 'intl', 'intox', 'intrigu', 'intro', 'introduc', 'inund', 'invad', 'invalid', 'invas', 'invent', 'invest', 'investig', 'invinc', 'invis', 'invit', 'involv', 'inw', 'inåêchao', 'io', 'iot', 'iowa', 'ip', 'ipa', 'ipad', 'iphon', 'iphooey', 'iphoto', 'ipo', 'ipod', 'ir', 'iran', 'irand', 'iranian', 'iraq', 'iraqi', 'iredel', 'ireland', 'ireport', 'irish', 'irishirr', 'irishspi', 'iron', 'ironi', 'ironmanå', 'irvin', 'isai', 'isea2015', 'isi', 'isl', 'isla', 'islam', 'islamaphob', 'islamist', 'island', 'isnt', 'iso', 'isol', 'isra', 'israel', 'issu', 'istg', 'itali', 'italian', 'italianåêalp', 'item', 'itinerari', 'itsjustinstuart', 'itsnasb', 'itss_selenaluna', 'itun', 'itz', 'ivanberroa', 'ive', 'iwk', 'iwontmakeit', 'izi_garcia', 'j3lyon', 'ja', 'jacinta', 'jack', 'jackass', 'jacket', 'jackhol', 'jackman', 'jackson', 'jacksonvil', 'jackwilsher', 'jaclynsonn', 'jacqu', 'jacqui', 'jadehelm15', 'jagexsupport', 'jagm', 'jaiden', 'jail', 'jailbreak', 'jak', 'jakartapost', 'jake', 'jake_adavi', 'jakeåê', 'jam', 'jamaica', 'jamaicaobserv', 'jame', 'james_justu', 'jamesmelvil', 'jami', 'jamiegriff97', 'jamieny', 'jamilazzaini', 'jammu', 'jan', 'janata', 'janeenorman', 'janic', 'janiethekillr', 'jannet2208', 'januari', 'japan', 'japanes', 'japton', 'jar', 'jarmusch', 'jasalhad', 'jasmin', 'jason', 'jason_floyd', 'jasoncundy05', 'jasonpope2', 'jaureguiswisdom', 'java', 'jax', 'jay', 'jaycootchi', 'jaydennotjar', 'jaylenejoybeligan', 'jazz', 'jcomans', 'jdabe80', 'jealou', 'jean', 'jeb', 'jedi', 'jeep', 'jeepåêsunk', 'jeff', 'jefferson', 'jeffpalmer16', 'jen', 'jengriffinfnc', 'jenna', 'jennasjem', 'jennellensbb', 'jenner', 'jennif', 'jennife29916207', 'jenniferarri_', 'jeromekem', 'jerri', 'jersey', 'jesu', 'jet', 'jetengin', 'jetixrestor', 'jetstar', 'jewel', 'jewelri', 'jewish', 'jez', 'jfb', 'jiahahahha', 'jihad', 'jihadi', 'jim', 'jimin', 'jimmozel', 'jimmyfallon', 'jimskiv92', 'jinx', 'jishin_', 'jitsu', 'jiwonl', 'jj_dirti', 'jkl', 'jlabuz', 'jlester34', 'jmcwrite', 'job', 'joe', 'joedawg42', 'joel', 'joestrong', 'joeybats19', 'jogger', 'johannesburg', 'john', 'johndcgow', 'johnejefferson', 'johnfromcranb', 'johnfugelsang', 'johngreen', 'johnjcampbel', 'johnni', 'johnson', 'join', 'joint', 'joinvroom', 'joke', 'jokin', 'joli', 'jolly_jinu', 'jon', 'jona', 'jonathan', 'jonathanferrel', 'jone', 'jones94kyl', 'jones_luna', 'jonesboro', 'jonvoyag', 'joonma_', 'jordan', 'jose', 'josebasedgod', 'joseph', 'josephjett', 'josephu', 'josh', 'josh_lado', 'joshacagan', 'joshcorman', 'joshsternberg', 'joshua', 'joshuaassaraf', 'jota', 'journal', 'journalist', 'journey', 'joxroundt', 'joy', 'jp', 'jpanzar', 'jr', 'jrlallo', 'jrowah', 'js', 'jsdf', 'jtw', 'ju', 'juan', 'juanmthompson', 'juanni', 'juda', 'judg', 'judgement', 'judici', 'juic', 'jul', 'juli', 'julian', 'julian_lag', 'juliechen', 'juliedicaro', 'juliekragt', 'juliet', 'jump', 'june', 'jungl', 'junk', 'junko', 'junsuisengen', 'jupit', 'juri', 'juror', 'jusstdoitgirl', 'justaguess', 'justic', 'justifi', 'justin', 'justin_l', 'justinbieb', 'justintrudeau', 'justjon', 'justsay', 'k3', 'k_matako_bot', 'kaboom', 'kabwandi_', 'kadiegrr', 'kaduna', 'kai', 'kainyusanagi', 'kaiseiw', 'kaiser', 'kakajambori', 'kakeru', 'kaldi', 'kall', 'kallemattson', 'kamayani', 'kamchatka', 'kamindoz', 'kamkasteiiano', 'kamloop', 'kamon', 'kane', 'kanglaonlin', 'kany', 'kaotix_blaz', 'kaputt21', 'karachi', 'karen', 'karlsruh', 'karnakarank', 'karnythia', 'karymski', 'kasab', 'kasabw', 'kash', 'kashmir', 'kashmirconflict', 'kasiakosek', 'kasich', 'kathrynschulz', 'katiecool447', 'katiekatcub', 'katramsland', 'katrina', 'katunew', 'kay', 'kayla', 'kaylak369', 'kbak', 'kbeastx', 'kca', 'kcarosawmur', 'kcrw', 'ke', 'keegan', 'keegan172', 'keen', 'keep', 'keepingtheviginaclean', 'keith', 'keithboykin', 'keithyy', 'keithyyl', 'kelbi', 'kelbytomlinson', 'kelli', 'kellkan', 'kellogg', 'kellyannwx', 'kelworldpeac', 'kemal_atlay', 'kenai', 'kendal', 'kendra_leigh13', 'kenji', 'kennel', 'kenneth', 'kenya', 'kept', 'keratin', 'keren_serpa', 'kern', 'kerri', 'kerricktri', 'kerrykatona7', 'kessili', 'kessler', 'keurig', 'kevin', 'kevinbacon', 'kevr_7', 'key', 'kezi9', 'kfvs12', 'kg4vaal', 'khaki', 'khalidkkazi', 'khan', 'khq', 'khqa', 'khuzdar', 'ki', 'kia', 'kick', 'kid', 'kiddi', 'kiddo', 'kidicalmassdc', 'kidnap', 'kidney', 'kidscompani', 'kidstheseday', 'kierannicholson', 'kiernan', 'kijan', 'kijangbank', 'kijima_matako', 'kill', 'killer', 'killhard', 'killin', 'kimkardashian', 'kind', 'kinda', 'kinder', 'kinder_morgan', 'kindl', 'kindlecountdown', 'kindli', 'kindof', 'kinesiolog', 'king', 'king_naruto_', 'kingdom', 'kinggerudo_', 'kingmyth1999', 'kinkyconnor', 'kirafrog', 'kircut1', 'kiri', 'kiro7seattl', 'kirsten', 'kisii', 'kiss', 'kit', 'kith', 'kitten', 'kiwi_karyn', 'kjforday', 'klarajoelsson', 'klavierstuk', 'klitschko', 'klondik', 'km', 'kmactwn', 'knee', 'kneel', 'kneelbot', 'knew', 'knife', 'knive', 'kno', 'knob', 'knobhead', 'knock', 'knott', 'know', 'knowledg', 'known', 'knox', 'knoxvil', 'knw', 'knx1070', 'kodiak', 'koin6new', 'kombat', 'komen', 'komo', 'kontrol', 'kook', 'kopiteluke1892', 'korea', 'kororinpa', 'korzhonov', 'kosciusko', 'kotaweath', 'kotolily_', 'kotowsa', 'kow', 'kp', 'kpcc', 'kraft', 'krefeld', 'kristenkoin6', 'kristindavi', 'kristyleemus', 'ks', 'ksbynew', 'kshllcenterpri1', 'ktfounder', 'kttape', 'kulli', 'kunalkapoor', 'kurd', 'kurdish', 'kurokobot', 'kurt', 'kurtschlicht', 'kushwush', 'kuualohax', 'kuwait', 'kuznetsova', 'kwaaaaa', 'kwislo', 'kwwwkwwwk', 'ky', 'kyle', 'kylekrenek', 'kylewappl', 'la', 'la_siren', 'lab', 'label', 'labour', 'labourleadership', 'lace', 'lack', 'laden', 'ladi', 'ladin', 'ladyfleur', 'laevantin', 'lafayett', 'lag', 'laid', 'laighign', 'lake', 'lakeeffect', 'lakeisabella', 'lalaloopsi', 'lamarcu', 'lamb', 'lambast', 'lame', 'lamha', 'lamp', 'lana', 'lanc', 'lancast', 'lancasteronlin', 'land', 'landfal', 'landi', 'landolina', 'landown', 'landscap', 'landsli', 'landslid', 'lane', 'lanford', 'langata', 'langley', 'langtre', 'languag', 'languish', 'lanjut', 'lansdown', 'lao', 'laoi', 'lap', 'laphamsquart', 'lara', 'larg', 'larger', 'largest', 'lash', 'lassic', 'last', 'lasvegasloc', 'late', 'later', 'latest', 'latestnew', 'latim', 'latin', 'latino', 'latinoand', 'laud', 'laugh', 'laughtrad', 'launch', 'laundri', 'laura', 'lauradeholanda', 'lauren', 'laurensicl', 'lava', 'lavapixcom', 'lavatori', 'lavenderpoetrycaf', 'law', 'lawfulsurvivor', 'lawrenc', 'lawsuit', 'lawx', 'lay', 'layout', 'lbr', 'lcb', 'ld', 'le', 'lead', 'leader', 'leadership', 'leagu', 'leak', 'lean', 'leandotorg', 'learn', 'leashless', 'least', 'leather', 'leav', 'lebanon', 'led', 'ledofficial1', 'lee', 'leed', 'leedsroug', 'leejasp', 'left', 'leftwich', 'leg', 'legaci', 'legacyofthesith', 'legal', 'legend', 'legendari', 'legio', 'legion', 'legionna', 'legionnair', 'legionnairesdiseas', 'legionstrackandfield', 'legisl', 'legit', 'legitim', 'leiaorganasolo', 'leicester_merc', 'leisur', 'leitchfield', 'lemairele', 'lembra', 'lemm', 'lemon', 'lemonad', 'len', 'lender', 'length', 'lenn_len', 'lennox', 'leo', 'leoblakecart', 'leon', 'leonalewi', 'leonardvil', 'lesbian', 'lesley_mariie', 'lesnar', 'less', 'lesson', 'lessonforlif', 'lest', 'let', 'lethal', 'lethbridg', 'letsfootbal', 'letter', 'level', 'levi', 'lewi', 'lexi', 'lez', 'lga', 'lgbt', 'lgm', 'liabil', 'liabl', 'liar', 'lib', 'libbi', 'liber', 'libertarianluk', 'liberti', 'libertybell1000', 'libertygeek83', 'librari', 'libraryeliza', 'libya', 'licens', 'lich', 'lie', 'lieu', 'life', 'lifehack', 'lifeit', 'lifelettercaf', 'lifelin', 'lifelong', 'lifestyl', 'lifetim', 'lift', 'light', 'lightbulb', 'lighten', 'lightli', 'lightman', 'lightn', 'lightning_ooc', 'lightning_wolf_', 'lightningstrik', 'lightumupbeast', 'liguist', 'like', 'likeavillasboa', 'liken', 'lil', 'lilitan', 'lilithsaintcrow', 'lilreese300', 'lima', 'limeston', 'limit', 'limpar33', 'lincoln', 'lindasocvat', 'lindenow', 'lindsay_wynn3', 'line', 'linerless', 'link', 'linkedin', 'linkuri', 'lion', 'lionel', 'lip', 'liquid', 'lisatoddsutton', 'lisowski', 'list', 'listen', 'listenl', 'listeria', 'listia', 'lit', 'litani', 'liter', 'literarycak', 'literatur', 'lithium', 'littl', 'littlebitofbass', 'liva_gotta', 'live', 'liveleak', 'livelihood', 'livemint', 'liveonk2', 'liveonkbak', 'liveonstream', 'liverpool', 'livesci', 'livestream', 'livin', 'liy', 'lizard', 'lizbon', 'lizhphoto', 'lizzie363', 'llegast', 'llf', 'lmao', 'lmaov', 'lmfao', 'lmfaoooo', 'ln', 'lnp', 'lo', 'load', 'loaf', 'loan', 'lobbi', 'lobo_paranoico', 'local', 'local_arsonist', 'locat', 'lock', 'lockdown', 'locke_wiggin', 'locker', 'locomot', 'lodisilverado', 'log', 'logan', 'logic', 'logist', 'logo', 'loki', 'lol', 'lolatjesu', 'lolgop', 'lolla', 'lolly_knick', 'lolo', 'lolol', 'lomasvisto', 'london', 'london3', 'lone', 'lonely', 'lonepin', 'loner', 'lonewolffur', 'long', 'longer', 'longest', 'longev', 'loo', 'look', 'lookg', 'lookss', 'looney', 'looooooooooool', 'loop', 'loos', 'looser', 'loot', 'looter', 'lopezandthelion', 'lord', 'lordbrathwait', 'lordofbetray', 'lordrsbiscuit', 'lore', 'lorri', 'losangel', 'losdelsonido', 'lose', 'loseit', 'loser', 'loss', 'lost', 'lot', 'lotg', 'lou', 'loud', 'louder', 'loudest', 'loughe', 'loui', 'louis_tomlinson', 'loupascal', 'love', 'lovefood', 'loveislov', 'lovemyjob', 'lovemywife1983', 'lover', 'loveyouuuu', 'low', 'lower', 'lowli', 'lownd', 'loyalti', 'lrt', 'lt', 'lt3dave', 'lu', 'lubbock', 'lubric', 'luchaunderground', 'lucif', 'luck', 'lucki', 'lucymayoffici', 'lucysforsal', 'luhan', 'lui', 'luiz', 'lujo', 'luka', 'luke', 'luke5so', 'luke_winki', 'lulgzimbestpict', 'lulu', 'lume', 'lumixusa', 'lunasagal', 'lunch', 'lung', 'lungcanc', 'lure', 'luv', 'luzukokoti', 'lvg', 'lyf', 'lyme', 'lynchonsport', 'lyric', 'lyrium', 'lzk', 'lzktjnox', 'm00nf00l', 'm1', 'm27329', 'm5', 'm8', 'ma', 'ma3rout', 'maatmhi', 'mac', 'maca', 'machida', 'machin', 'machinegunkelli', 'machismo', 'macia', 'mackayim', 'mackinnon08', 'macon', 'mad', 'madara', 'maddddd', 'maddi', 'made', 'madhya', 'madinah', 'madison', 'madmakni', 'madonnamk', 'mafia', 'mafireem', 'mag', 'magazin', 'mage', 'mageavexi', 'magellan', 'magginoodl', 'magic', 'magichairbump', 'magist', 'magner', 'magnet', 'magnific', 'magnitud', 'magnitudeåêåêml', 'magnum', 'magu', 'maiga', 'mail', 'main', 'mainland', 'mainli', 'mainlin', 'mainstag', 'maintain', 'mainten', 'maj', 'major', 'make', 'maker', 'makewaterwork', 'makinmemori', 'malaysia', 'malaysian', 'male', 'malistkiss', 'mall', 'mallord', 'malt', 'mama', 'mamata', 'man', 'manag', 'manchest', 'manchesterlit', 'mandat', 'mandatori', 'mandela', 'mandem', 'mane', 'manga', 'manhood', 'mani', 'mania', 'mankind', 'manli', 'mannequin', 'manner', 'manor', 'mansehra', 'manserv', 'mansion', 'manslaught', 'mantra', 'manual', 'manuel', 'manufactur', 'manur', 'manutd', 'manzanita', 'manåêarm', 'map', 'mapl', 'mapleridg', 'mar', 'maratha', 'marbl', 'marc_hol', 'march', 'marcoar', 'marek', 'marek1330', 'marg', 'margarita', 'mari', 'maria', 'mariaf30', 'mariah', 'mariahcarey', 'marian', 'mariankey', 'mariasherwood2', 'marijuana', 'marin', 'marinad', 'marinelin', 'mariomaraczi', 'mark', 'mark_arg', 'marker', 'market', 'marketforc', 'marketingåêmediocr', 'markoturn', 'marksmaponyan', 'markwschaef', 'marleyknysh', 'marlon', 'marquei', 'marr', 'marri', 'marshal', 'mart', 'martial', 'martinmj22', 'martynwait', 'martyr', 'marvel', 'marxism', 'maryland', 'marynmck', 'mash', 'mashup', 'mask', 'masochisticmag', 'mason', 'masonit', 'mass', 'massacr', 'massag', 'massiv', 'master', 'master0fsloth', 'masterchef', 'masturb', 'mat', 'matako_3', 'matako_milk', 'match', 'matchwood', 'mate', 'mateo', 'materi', 'mathew_is_angri', 'matt_bez', 'matt_kroschel', 'mattburgen', 'mattcohen4fak', 'matter', 'matthew', 'mattingli', 'mattmosley', 'mattress', 'mattson', 'mattytalk', 'mauds99', 'maui', 'mauryn143', 'max', 'maxi', 'maximum', 'maxsi', 'may', 'mayan', 'mayb', 'mayflow', 'mayhem', 'mayhem_114', 'mayoroflondon', 'mayweath', 'maze', 'mb', 'mbataweel', 'mc', 'mccainenl', 'mccauleysdesign', 'mcconnel', 'mccormick', 'mcdonald', 'mcfadden', 'mcgsecur', 'mcgwire', 'mchapmanwsaz', 'mchenri', 'mcilroy', 'mclaughlin', 'mcmahon', 'mcnabbych', 'md', 'mdt', 'mead', 'meaganerd', 'meal', 'mean', 'meant', 'meanwhil', 'measur', 'meat', 'mechamacgyv', 'mechan', 'med', 'medal', 'meddl', 'media', 'medic', 'medicin', 'mediev', 'medinah', 'mediterran', 'mediterranean', 'medium', 'meek', 'meekmil', 'meellltt', 'meet', 'meetkakarotto', 'meg', 'mega', 'megadeth', 'megalpoli', 'megan', 'meganbee92', 'megaquak', 'megatronafc', 'megynkelli', 'meinlcymb', 'melani', 'mello', 'melt', 'meltdown', 'member', 'meme', 'memenaar', 'memor', 'memori', 'memphi', 'men', 'menciu', 'menolippu', 'mental', 'mentalhealthgov', 'mention', 'meow', 'merci', 'mercuri', 'mere', 'merg', 'merl', 'mesh', 'meshnewsdesk', 'mesick', 'mesmer', 'mess', 'messag', 'messeng', 'messeymetoo', 'messi', 'messnermatthew', 'met', 'metal', 'metallica', 'metastat', 'meteoearth', 'meter', 'method', 'metlif', 'metr', 'metric', 'metro', 'metrobu', 'metrofmtalk', 'metroid', 'metropoli', 'metropolitan', 'mexican', 'mexico', 'meyerbjoern', 'mezcal', 'mf', 'mfalcon21', 'mfrwauthor', 'mgm', 'mgr', 'mgs2', 'mgtab', 'mh', 'mh370', 'mhmmm', 'mht', 'mi', 'mi_country_hick', 'mia', 'miami', 'mic', 'michael', 'michael5so', 'michaelwestbiz', 'michel', 'michele_nfpa', 'michelebachman', 'michelleell', 'michigan', 'mickinyman', 'micom', 'microb', 'microchip', 'microlight', 'microphon', 'microsoft', 'mid', 'middl', 'middleeastey', 'mideast', 'midfield', 'midget', 'midnight', 'mido', 'midst', 'midsumm', 'midweek', 'midwest', 'might', 'migrant', 'migrat', 'mike', 'mikecroninwmur', 'mikeparractor', 'mil', 'mild', 'mile', 'mileena', 'milioooo_', 'milit', 'milita', 'militar', 'militari', 'militia', 'milk', 'milkshak', 'mill', 'millcityio', 'milledgevil', 'millennium', 'million', 'miln', 'milwauke', 'min', 'mina', 'minaj', 'minamisoma', 'mind', 'mindless', 'mindset', 'mine', 'minecraft', 'miner', 'mingo', 'minhazmerch', 'mini', 'miniatur', 'minim', 'minimum', 'minion', 'minist', 'ministri', 'mink', 'mino', 'minor', 'minsuwoong', 'minu', 'minuscul', 'minut', 'mipasho', 'miprv', 'mir', 'miracl', 'mirag', 'mirkwood', 'mirmanda11', 'misdirect', 'miseri', 'misfit', 'misfitrar', 'misguid', 'misha', 'mishacollin', 'mishap', 'misl', 'miss', 'miss_homasttopa', 'misscharleywebb', 'missdaoh', 'missi', 'missil', 'mission', 'missionhil', 'mississauga', 'mississippi', 'missjadebrown', 'missleylaha', 'misstep', 'mistak', 'mistaken', 'misti', 'mistreat', 'mistrust', 'mitig', 'mitt', 'mix', 'mixifi', 'mixtap', 'mizuta', 'mk', 'ml', 'mlb', 'mlk', 'mlstransfer', 'mm', 'mma', 'mmchale13', 'mmda', 'mmk', 'mmmm', 'mmmmmm', 'mn', 'mnpdnashvil', 'mo', 'moan', 'mobil', 'moblin', 'mochichiiiii', 'mock', 'mockingpanem', 'mod', 'mode', 'model', 'modelbubbl', 'moder', 'modern', 'modi', 'modibo', 'modifi', 'modoc', 'moe', 'mofo', 'mogacola', 'moir', 'moist', 'molav', 'mold', 'mole', 'molecularli', 'moli', 'molloy', 'molly_the_tanz', 'mom', 'moment', 'mommyisbomb', 'momneedscoffe', 'mon', 'monarchi', 'monday', 'monetari', 'money', 'monica', 'monitor', 'monkey', 'monogram', 'monologu', 'monoton', 'monsoon', 'monster', 'monstros', 'montalbanoni', 'montana', 'montego', 'montetjwitter11', 'montgomeri', 'month', 'monthli', 'montroseband', 'monwabisi', 'mood', 'moon', 'moonlight', 'moor', 'mooresvil', 'moorlandschmbr', 'mophem', 'moral', 'morbidmovi', 'morebut', 'morel', 'moreland', 'morethan', 'morevoic', 'morgan', 'morganlawgrp', 'mormon', 'morn', 'morocco', 'moron', 'mortal', 'mortar', 'morti', 'mortifi', 'moscow', 'mosebi', 'mosh', 'mosqu', 'moth', 'mother', 'mothernatur', 'mothernaturenetwork', 'motion', 'motiv', 'motley', 'motor', 'motorcycl', 'motorcyclist', 'motordom', 'motorist', 'mount', 'mount_wario', 'mountain', 'mourn', 'mous', 'mouss', 'mouth', 'move', 'moveit', 'movement', 'movi', 'movietheatr', 'movt', 'moyo', 'mp', 'mpc', 'mph', 'mpp', 'mr', 'mrc', 'mre', 'mrrobinson', 'mrsbinker', 'mrtophypup', 'ms', 'msf', 'msgdoing111welfarework', 'msmiggi', 'msmigot', 'msnbc', 'msoreo_', 'mt', 'mta', 'mtgrotto', 'mtsalert', 'mtvhottest', 'mtvsummerstar', 'muaytai', 'much', 'mud', 'mudslid', 'mueller', 'mufc', 'muffl', 'mulan', 'mullah', 'mullin', 'multi', 'multipl', 'multiplay', 'mum', 'mumbai', 'mumbai24x7', 'mumbailoc', 'mumbaitim', 'mumbl', 'muncle_jim', 'municip', 'muppet', 'murder', 'murfreesboro', 'murphi', 'muscl', 'muse', 'museawayf', 'museum', 'mushroom', 'music', 'musicadvisori', 'musician', 'musicvideo', 'musik', 'musk', 'muslim', 'must', 'mustachemurs', 'mustard', 'mute', 'mutek_montr', 'muttatek', 'mutual', 'muzzamil', 'muzzi', 'mv', 'mwednesday', 'mwlippert', 'mwnhappi', 'mx', 'mxaaaa', 'myanmar', 'mybabi', 'mydrought', 'myelf', 'myfitnessp', 'mygc', 'mylifestori', 'mylittlepwnies3', 'mypillowstudio', 'myreligion', 'myrtlegroggin', 'mysteri', 'mystic', 'myvintagesoul', 'mzmandilynn', 'n15b', 'naaa', 'naayf', 'nade', 'naemolgo', 'nagasaki', 'nagaski', 'nah', 'nail', 'najib', 'nake', 'name', 'namekian', 'namjoon', 'nan', 'nankana', 'nanotech', 'nap', 'narciss', 'narrat', 'narrowli', 'nasa', 'nasahurrican', 'nasasolarsystem', 'nashsnewvideo', 'nashvil', 'nashvillefd', 'nashvilletraff', 'nasti', 'nat', 'natgeo', 'nathanfillion', 'nation', 'nativ', 'nativehuman', 'natsnat', 'natsu', 'natur', 'natwest', 'naval', 'navbl', 'nave', 'navi', 'navig', 'navista7', 'nazi', 'nb', 'nbc', 'nbc15', 'nbcnew', 'nbcnightlynew', 'nbcpolit', 'nbn', 'nc', 'ncm', 'ncwx', 'nd', 'nda', 'ndetent', 'ndzedz', 'ne', 'neal', 'neanderrebel', 'neanea2724', 'near', 'nearbi', 'nearli', 'neat', 'nece', 'necessari', 'neck', 'necn', 'necro', 'need', 'needl', 'neg', 'negara', 'neglect', 'negro', 'neighbor', 'neighborhood', 'neighbour', 'neil', 'neil_eastwood77', 'neither', 'nelson', 'nema', 'nemesisk_p', 'nennicook', 'neon', 'neoprogressive1', 'nepal', 'nepd_loyko', 'nerv', 'nervou', 'nester', 'nestleindia', 'netanyahu', 'netflix', 'netkicorp', 'network', 'neur0si', 'nevada', 'never', 'neverforget', 'new', 'new_hart2010', 'newbeginningsanimalrescu', 'newberg', 'newbi', 'newciti', 'newep', 'newest', 'newli', 'newlyw', 'news', 'news24680', 'news786', 'newsarama', 'newser', 'newspap', 'newswatch', 'newyork', 'newyorkc', 'newåêheight', 'next', 'nf', 'nfl', 'nfpa', 'ngata', 'nghlth', 'nh', 'nh1new', 'nhl', 'nhlduck', 'nia', 'niagara', 'niall', 'niallhariss', 'niamhosullivanx', 'nice', 'nick', 'nickcocofre', 'nicki', 'nicklee8', 'nickscom', 'nicol', 'nicolaclements4', 'niec', 'nieuw', 'nigeltanner1', 'nigeria', 'nigerian', 'nigga', 'nigh', 'night', 'nightbeat', 'nightmar', 'nightmarish', 'niiiic', 'nike', 'nikeplu', 'nikoniko12022', 'nikostar', 'nine', 'ninja', 'nintendo', 'nissan', 'nissannew', 'nite', 'nitroglycerin', 'nixon', 'nj', 'nj36', 'njenga', 'njturnpik', 'nkulw', 'nl', 'nlccollid', 'nlm_dimrc', 'nlwx', 'nm', 'nne', 'nnw', 'no_periferico', 'noaa', 'noahshack', 'nobleman', 'nobodi', 'noch', 'noi', 'noirand', 'nois', 'nola', 'nolesfan05', 'nomin', 'nomiya', 'nomorehandout', 'non', 'none', 'nonprofit', 'noob', 'nook', 'noonan', 'noooo', 'noooooooooooo', 'nope', 'nora', 'noranda', 'norge2040', 'normal', 'norman', 'nors', 'nort', 'north', 'northampton', 'northbayhealth', 'northeast', 'northern', 'northumberland', 'northwest', 'northwestern', 'norwaymfa', 'nose', 'nosso', 'nostalgia', 'nostril', 'nosurrend', 'nosy_b', 'note', 'notexplain', 'notgoingoutinthat', 'noth', 'nother', 'nothing', 'notic', 'notificationsu', 'notion', 'notley', 'notorieti', 'notr', 'notrocketsci', 'nout', 'nov', 'nova', 'novalismi', 'novel', 'novemb', 'nowher', 'nowplay', 'nowwwwww', 'np', 'nprfreshair', 'nra', 'nrc', 'nrc_middleeast', 'ns', 'nsa', 'nsf', 'nsfw', 'nside', 'nsit_', 'nsw', 'ntsb', 'ntvde', 'nu', 'nuclear', 'nude', 'nueva', 'nuff', 'nugget', 'nuh', 'nuke', 'number', 'nurs', 'nut', 'nutsandboltssp', 'nuy', 'nv', 'nvr', 'nw', 'nwo', 'nwsbayarea', 'nwspocatello', 'nwt', 'nxwestmidland', 'ny', 'ny1', 'ny1burst', 'ny35', 'nyack', 'nyc', 'nycbuild', 'nycfc', 'nycha', 'nykaed_', 'nylon', 'nyozi', 'nypdnew', 'nyse', 'nyt', 'nytim', 'nz', 'o784', 'oak', 'oamsgajagahahah', 'obama', 'obedi', 'obispo', 'object', 'oblig', 'obligatori', 'obliter', 'observ', 'obsess', 'obsolet', 'obstacl', 'obvious', 'oc', 'ocalan', 'ocampo', 'occas', 'occasion2b', 'occup', 'occur', 'occurr', 'ocd', 'ocean', 'ocnj', 'oct336', 'odd', 'ode', 'odel', 'odeon', 'oef', 'of', 'ofclan', 'ofcours', 'ofentse_tsi', 'off', 'offend', 'offens', 'offer', 'offers2go', 'offic', 'offici', 'officialcoredj', 'officialmqm', 'officialtjonez', 'offlin', 'offload', 'offr', 'offramp', 'offroad', 'offsid', 'offsit', 'offspr', 'ofnsixjk', 'ofr', 'often', 'ogun', 'oh', 'ohh', 'ohhhh', 'ohio', 'ohlordi', 'ohmygoshi', 'ohmyloz', 'ohyayyyyay', 'oi', 'oif', 'oil', 'oilandga', 'ojoubot', 'ok', 'okanagan', 'okanowa', 'okay', 'okayyyyyi', 'okcfox', 'okgabby_', 'okinawan', 'okla', 'oklahoma', 'oktaviana', 'oktxduo', 'okwx', 'ol', 'old', 'older', 'oldest', 'oliv', 'olliebailey11', 'ollymursau', 'olrul', 'olymp', 'olympia', 'omaha', 'omar', 'omar_molina036', 'omega', 'omfg', 'omg', 'omgggg', 'one', 'oneborn', 'onegreenplanet', 'onesi', 'onihimedesu', 'onion', 'onlin', 'onlinea', 'onlinecommun', 'onlinemh370', 'onr', 'onshit', 'ontario', 'onthisday', 'onto', 'onå', 'onåê', 'oo', 'ooh', 'oompah', 'oooh', 'ooohshit', 'ooooohshit', 'oooooohhhh', 'oop', 'ootd', 'op', 'ope', 'open', 'openli', 'oper', 'opera', 'ophelia', 'opinion', 'opp', 'oppa', 'opportun', 'oppos', 'opposit', 'oppress', 'opseaworld', 'optic', 'optich3cz', 'optimist', 'option', 'opu', 'oracl', 'oral', 'orang', 'orapinforma', 'orbett', 'orca', 'orchardalley', 'orchid', 'orcot', 'ordain', 'order', 'oregon', 'org', 'organ', 'organicallyrud', 'ori', 'orianna', 'origin', 'ornament', 'orpik', 'orpol', 'oryx', 'os', 'osag', 'osama', 'osbourn', 'osha', 'osi2016', 'oso', 'osp', 'ossington', 'osteen', 'ostentati', 'oth', 'other', 'otherwis', 'otleyhour', 'otp', 'otrametlif', 'otratmetlif', 'ou_wbbal', 'ouch', 'ought', 'oun', 'out', 'outag', 'outbound', 'outbreak', 'outburst', 'outcom', 'outcri', 'outdoor', 'outfit', 'outflow', 'outlet', 'outlook', 'outnumb', 'outrag', 'outright', 'outrun', 'outsid', 'outta', 'ouvindo', 'ouvir', 'ovari', 'overal', 'overcharg', 'overcom', 'overdr', 'overflow', 'overload', 'overlook', 'overnight', 'overpr', 'overr', 'overrun', 'overse', 'overtim', 'overtook', 'overtur', 'overturn', 'overwhelm', 'overåêhostag', 'ovo', 'ovofest', 'owen', 'owenrbroadhurst', 'owner', 'ownership', 'oworoshoki', 'oyster', 'p2', 'pace', 'paci', 'pacif', 'pack', 'packag', 'packåêfor', 'pact', 'paddytomlinson1', 'padr', 'pagasa', 'page', 'pageparkescorp', 'paid', 'pain', 'paint', 'painthey', 'pair', 'pajama', 'pak', 'pakistan', 'pakistani', 'pakpattan', 'pale', 'palefac', 'palermo', 'palestin', 'palestinian', 'palin', 'palinfoen', 'palm', 'palmer', 'palmoil', 'pam', 'pam_palmat', 'pamela', 'pamper', 'pan', 'panay', 'pancak', 'panda', 'pandemonium', 'pandora', 'panel', 'panic', 'panick', 'panik', 'panoram', 'pant', 'pantalonesfuego', 'panther', 'pantherattack', 'pantofel', 'papa', 'papcrdol', 'paper', 'paperwork', 'papi', 'par', 'para', 'parad', 'paradis', 'paraguay', 'paramed', 'paramor', 'paratroop', 'parch', 'pardon', 'parent', 'parenthood', 'parentsacrossam', 'pari', 'parisian', 'park', 'parksboardfact', 'parley', 'parliamentari', 'parol', 'parshol', 'part', 'partak', 'parter', 'parti', 'partial', 'particip', 'particular', 'particularli', 'partner', 'partnership', 'pascal', 'pasco', 'pass', 'passeng', 'passiv', 'password', 'past', 'pasta', 'pasti', 'pastor', 'pastur', 'patch', 'path', 'pathogen', 'patienc', 'patient', 'patna', 'patrick', 'patrickjbutl', 'patrickwsl', 'patriot', 'patriotsn', 'patrol', 'patron', 'pattern', 'pattonoswalt', 'pattyds50', 'paul', 'paul_staub', 'paulhollywood', 'paulista', 'pave', 'paw', 'pawsox', 'paxton', 'pay', 'payback', 'pb', 'pbban', 'pbohanna', 'pc', 'pcaldicott7', 'pci', 'pcp', 'pd', 'pdp', 'pdx', 'pdx911', 'pea', 'peac', 'peacetim', 'peak', 'peal', 'peanut', 'pearl', 'peasant', 'pedal', 'pedestrian', 'pediatr', 'pedro', 'pee', 'peel', 'peep', 'peeter', 'peic', 'pen', 'penalti', 'pendleton', 'penetr', 'peninsula', 'penn', 'penni', 'pennington', 'pension', 'peopl', 'pepper', 'pepperoni', 'per', 'perceiv', 'percent', 'perfect', 'perfectli', 'perform', 'perhap', 'period', 'perish', 'peritoengrafoscopia', 'periwinkl', 'perkpearl', 'perman', 'permiss', 'permit', 'perpetr', 'perrybellegard', 'perrychat', 'persecut', 'persist', 'person', 'personalinjuri', 'personnel', 'perspect', 'pertain', 'perth', 'pestl', 'pet', 'petchari', 'pete', 'pete_r_knox', 'petebest', 'petel_mcguir', 'petereallen', 'peterhowenecn', 'petersburg', 'petit', 'pfannebeck', 'pfft', 'pft', 'pg', 'ph0to', 'phalaborwa', 'phantasm', 'phantom', 'pharaoh', 'pharrel', 'phase', 'phdsquar', 'phelimkin', 'phenomen', 'phew', 'phiddlefac', 'phil', 'philadelphia', 'philip', 'philipduncan', 'philippin', 'philli', 'phillip', 'phnotf', 'phoenix', 'phone', 'photo', 'photogen', 'photograph', 'photographi', 'photoset', 'photoshop', 'physic', 'physician', 'pianohand', 'pic', 'pick', 'picken', 'pickerel', 'pickl', 'pickpocket', 'picthi', 'pictur', 'piec', 'pieceofm', 'pierc', 'piga', 'pile', 'pileup', 'pill', 'pillori', 'pillow', 'pilot', 'pin', 'piner', 'pineview', 'pink', 'pioneer', 'pioneerpress', 'pipe', 'pipelin', 'piprhi', 'pirat', 'pisc', 'pisco', 'pisgah', 'piss', 'pit', 'pitch', 'pitcher', 'pitchwar', 'piti', 'pitmix', 'pivot', 'pixar', 'pixelcanuck', 'pixeljanosz', 'pizza', 'pjcoyl', 'pjnet', 'pkk', 'pkwi', 'pl', 'place', 'plagu', 'plain', 'plan', 'plane', 'planet', 'planetari', 'plannedparenthood', 'planner', 'plant', 'plantat', 'plastic', 'plate', 'platt', 'play', 'player', 'playingnow', 'playlist', 'playoff', 'playoverwatch', 'playstat', 'playthrough', 'plaza', 'plea', 'plead', 'pleas', 'pleasant', 'pleasur', 'pledg', 'plenti', 'pletch', 'pll', 'ploppi', 'plot', 'plu', 'plug', 'plugin', 'plumb', 'plummet', 'plung', 'plz', 'pm', 'pmarca', 'pmharper', 'pneumonia', 'pnpizodi', 'po', 'po_st', 'poc', 'pocket', 'poconorecord', 'pod', 'poem', 'pogo', 'poignant', 'point', 'pointless', 'poison', 'pol', 'poland', 'polar', 'polaroid', 'pole', 'polic', 'policeng', 'polici', 'policyhold', 'policylab', 'polit', 'politician', 'politifiact', 'poll', 'pollster', 'pomo', 'pond', 'pone', 'poni', 'pont', 'pool', 'poor', 'poorli', 'pop', 'popcorn', 'popehat', 'poplar', 'popul', 'popular', 'porcini', 'porcupin', 'porn', 'pornhub', 'porridg', 'port', 'portaloo', 'portfolio', 'portion', 'portland', 'portrait', 'portug', 'posit', 'poss', 'posses', 'possess', 'possibl', 'post', 'postal', 'postapocalypticflimflam', 'postcard', 'poster', 'postpon', 'pot', 'potato', 'potenti', 'potu', 'pouch', 'pound', 'pour', 'pov', 'poverti', 'pow', 'power', 'powerlin', 'pox', 'pozarmi', 'poze', 'pp', 'pp15000266818', 'pp15000266858', 'ppact', 'ppc', 'ppl', 'pple', 'ppor', 'ppsellsbabypart', 'prabhu', 'prablematicla', 'practic', 'practition', 'pradesh', 'prairi', 'prais', 'praiz8', 'pray', 'prayer', 'prayforsaipan', 'pre', 'preacher', 'prebreak', 'preced', 'preciou', 'precipit', 'precondit', 'predict', 'prefectur', 'prefer', 'pregnant', 'prem', 'prematur', 'premier', 'premium', 'preorder', 'prepar', 'prepared', 'prepper', 'preppertalk', 'preschool', 'preseason', 'preseasonworkout', 'presenc', 'present', 'preserv', 'preset', 'presid', 'presley', 'press', 'presser', 'presstv', 'pressur', 'prestig', 'preston', 'presum', 'pretend', 'pretens', 'pretti', 'prettyboyshyflizzi', 'prevent', 'preview', 'previou', 'previous', 'price', 'priceless', 'pride', 'priest', 'primal', 'primalkitchen', 'primari', 'primarili', 'prime', 'princ', 'princessduck', 'principl', 'print', 'printabl', 'prior', 'prioriti', 'prison', 'prisonplanet', 'privaci', 'privat', 'privileg', 'pro', 'probabl', 'probe', 'problem', 'proc', 'proce', 'procedur', 'process', 'prod', 'produc', 'product', 'producthunt', 'profbriancox', 'profession', 'profil', 'profit', 'program', 'programm', 'progress', 'progress4ohio', 'prohibit', 'project', 'projectil', 'prolifer', 'prolli', 'prolong', 'prom', 'promis', 'promot', 'prompt', 'prone', 'proof', 'propaganda', 'propan', 'propel', 'proper', 'properli', 'properti', 'propheci', 'prophet', 'prophetmuhammad', 'proport', 'propos', 'prosecut', 'prosper', 'prosser', 'prosyn', 'protect', 'protector', 'protein', 'protest', 'protestor', 'proto', 'protoshoggoth', 'proud', 'proudgreenhom', 'proven', 'provid', 'provinc', 'provoc', 'provok', 'prysmian', 'ps', 'ps2', 'psa', 'psalm34', 'pseudojuuzo', 'psm', 'psp', 'psychiatr', 'psycholog', 'psychologist', 'pt', 'pt1', 'pt4', 'ptbo', 'ptsd', 'ptsd_chat', 'ptsdchat', 'public', 'publichealth', 'publish', 'puck', 'puddl', 'puerto', 'pug', 'pugprob', 'puledo_tech_upd', 'pull', 'pulwama', 'pummel', 'pump', 'pumpkin', 'pun', 'punch', 'pundit', 'puni', 'punish', 'punjab', 'punk', 'punkblunt', 'pup', 'puppet', 'puppi', 'puppyshogun', 'purchas', 'purdi', 'purifi', 'purpl', 'purpleturtlerdg', 'purpos', 'purs', 'push', 'push2left', 'pussi', 'pusssssssssi', 'pussyxdestroy', 'put', 'putin', 'pvri', 'pydisney', 'pyramidhead76', 'pyrotechn', 'q1', 'q2', 'q99', 'qendil', 'qew', 'qiang', 'qnh', 'qotr', 'quak', 'qual', 'qualiti', 'quantit', 'quarantin', 'quarrel', 'quarter', 'quarterstaff', 'quartz', 'que', 'queen', 'queenmi', 'queenswharf', 'queenåê', 'queer', 'quem', 'quest', 'questergirl', 'question', 'quick', 'quicker', 'quickli', 'quirk', 'quit', 'quiz', 'quizz', 'quora', 'quot', 'quoteoftheday', 'quotesttg', 'qz', 'r21', 'r3do', 'ra', 'raabchar_28', 'rabbit', 'raccoon', 'race', 'rachelcain', 'racial', 'racist', 'radar', 'radiat', 'radio', 'radioact', 'radioriffrock', 'radler', 'radychildren', 'raffi_rc', 'raft', 'rag', 'rage', 'raheel', 'rahulkanw', 'raid', 'raider', 'rail', 'railroad', 'railway', 'rain', 'rainbow', 'raineishida', 'rainfal', 'rainforestresq', 'raini', 'rainier', 'rainstorm', 'rais', 'raishimi33', 'ralli', 'ram', 'ramag', 'ramp', 'rampag', 'ran', 'rand', 'randallpinkston', 'randerson62', 'random', 'random_tourist', 'randomthought', 'randpaul', 'rang', 'rangerkaitimay', 'raniakhalek', 'rank', 'ransack', 'ransomwar', 'rant', 'rap', 'rape', 'rapidc', 'rapidli', 'rapper', 'rare', 'rascal', 'rate', 'rather', 'ratio', 'ration', 'raung', 'ravioliåêwith', 'raw', 'ray', 'raychielovesu', 'raynbowaffair', 'rayner', 'raynor', 'rayquazaerk', 'razak', 'raze', 'razedåê', 'raì¼l', 'rb', 'rbcinsur', 'rbi', 'rcmp', 'rd', 'rdg', 're', 're_shrimplevi', 'rea', 'reach', 'react', 'reaction', 'reactor', 'read', 'readi', 'reaf', 'reagan', 'real', 'real_liam_payn', 'realdonaldtrump', 'realest', 'realhiphop', 'realhotcullen', 'realis', 'realism', 'realiti', 'realiz', 'realjaxclon', 'realli', 'realm', 'reap', 'rear', 'reason', 'reassign', 'reator', 'rebah', 'rebeccaforr', 'rebel', 'reblog', 'reboot', 'rec', 'recal', 'recap', 'receiv', 'recent', 'recip', 'reckless', 'reckon', 'reclus', 'recogn', 'recognis', 'recognit', 'recoil', 'recommend', 'reconnect', 'record', 'recordand', 'recount', 'recov', 'recoveri', 'recreat', 'recruit', 'recycl', 'red', 'redblood', 'redcliff', 'redcoatjackpot', 'reddakushgodd', 'reddit', 'redeem', 'redeemeth', 'redempt', 'rediscov', 'redistribut', 'redland', 'redo', 'redskin', 'redsox', 'reduc', 'redw', 'reed', 'refer', 'referencerefer', 'reflect', 'refuge', 'refugeesmatt', 'refugio', 'refund', 'refus', 'reg', 'regard', 'regardless', 'regc', 'regent', 'reggaeboyz', 'region', 'regist', 'regr', 'regress', 'regular', 'reid', 'reidlak', 'reign_coco', 'reimagin', 'rein', 'reiter', 'reject', 'rejectdcartoon', 'rejoic', 'rel', 'relat', 'relationship', 'relax', 'relaxinpr', 'relay', 'releas', 'releg', 'relentless', 'relief', 'reliefweb', 'religi', 'religion', 'reliv', 'remain', 'remainontop', 'remand', 'remark', 'remast', 'rembr', 'rememb', 'remind', 'remix', 'remodel', 'remors', 'remorseless', 'remot', 'remov', 'remymarcel', 'renam', 'render', 'rene', 'renew911health', 'renison', 'reno', 'rent', 'reopen', 'rep', 'repair', 'repatri', 'repay', 'repdonbey', 'repeat', 'replac', 'repli', 'report', 'reportedli', 'reportli', 'repres', 'repress', 'repris', 'reprocuss', 'republ', 'republican', 'repuls', 'reput', 'requa', 'request', 'requir', 'reriellechan', 'rescind', 'rescu', 'rescuer', 'research', 'resembl', 'reserv', 'reset', 'reshap', 'reshareworthi', 'resid', 'residenti', 'residu', 'resigninsham', 'resili', 'resist', 'resoluteshield', 'resolutevan', 'resolv', 'resort', 'resourc', 'respect', 'respond', 'respons', 'resqu', 'rest', 'restart', 'restaur', 'restor', 'restoringpath', 'restrospect', 'result', 'resum', 'retail', 'retain', 'retir', 'retire', 'retiredfilth', 'retool', 'retract', 'retro', 'retroact', 'return', 'retweet', 'reunion', 'reunit', 'reuter', 'rev', 'reveal', 'revel', 'reveng', 'revenu', 'revers', 'review', 'revis', 'reviv', 'revolt', 'revolut', 'reward', 'rewatchingthepilot', 'rework', 'rexyy', 'rey', 'rezaphotographi', 'rfcgeom66', 'rfp', 'rgj', 'rhode', 'rhyme', 'ri', 'rice', 'riceechrispi', 'rich', 'rich_chandl', 'richard', 'richardson', 'richarkkirkarch', 'richhomeydon', 'richmond', 'ricin', 'rick', 'rickperri', 'rico', 'ricotta', 'rid', 'ridah', 'ride', 'rider', 'ridg', 'ridicul', 'rigga', 'right', 'righteou', 'rightli', 'rightway', 'rightwaystan', 'rihanna', 'rin', 'rindou', 'ring', 'rinkydnk2', 'rio', 'rio2016', 'rioslad', 'riot', 'rioter', 'rip', 'rippl', 'ririnsid', 'rise', 'riser', 'risk', 'riski', 'rite', 'ritual', 'ritzy_jewel', 'rival', 'rivalri', 'riveeeeeer', 'river', 'riverroam', 'rivier', 'riyadh', 'rizzo', 'rjkrraj', 'rli', 'rn', 'rnk', 'road', 'roadid', 'roadway', 'roanok', 'roanoketim', 'roar', 'rob', 'robbi', 'robert', 'robertbenglund', 'robertcalifornia', 'robertwelch', 'robinson', 'roblox', 'robot', 'robot_rainstorm', 'robsimss', 'robthier_en', 'rochdal', 'rock', 'rockbottomradfm', 'rocket', 'rocki', 'rockin', 'rockingham', 'rockstar', 'rockyfir', 'rod', 'roddypiperauto', 'roger', 'rogu', 'roh3', 'roh3smantibatam', 'rohingya', 'rohnertparkdp', 'roimentor', 'rokiieee_', 'rolandonabeat', 'role', 'roll', 'roller', 'rollingston', 'rolo', 'romanc', 'romant', 'romanticsuspens', 'rome', 'romeo', 'romeocrow', 'romp', 'ron', 'ronald', 'ronaldo', 'ronda', 'rondarousey', 'ronin_carbon', 'ronni', 'roof', 'roofer', 'rooftop', 'room', 'roomr', 'roosevelt', 'root', 'rori', 'rosali', 'rose', 'rosemarytraval', 'rosenberg', 'rosenth', 'ross', 'rossbarton', 'rossmartin7', 'rossum', 'roster', 'rot', 'rotten', 'roughdeal1', 'round', 'round2', 'rousey', 'rout', 'routecomplex', 'routin', 'rove', 'rover', 'row', 'rowysolouisvil', 'royal', 'royalcarribean', 'rp', 'rrbc', 'rrusa', 'rs40000cr', 'rsf', 'rskarim1', 'rslm72254', 'rspca', 'rt', 'rt_4_a_ment', 'rt_america', 'ru', 'rub', 'rubber', 'rubberi', 'rubbin', 'rubbl', 'rubi_', 'rudd', 'ruddyyyyyy', 'rude', 'rueb', 'ruhl', 'ruin', 'rule', 'ruler', 'rum', 'rumah', 'rumor', 'run', 'runjewel', 'runkeep', 'runner', 'runway', 'ruor', 'rural', 'rush', 'rushlimbaugh', 'russaky89', 'russel', 'russia', 'russian', 'ruthann', 'rutherford', 'rv', 'rvfriedmann', 'rwa', 'rwi', 'rwrabbit', 'ryan', 'ryanoss123', 'ryt', 'rì', 's01e09', 's2g', 's3xleak', 's5', 'sa', 'saalon', 'sabcnewsroom', 'sabotag', 'sabrina', 'sac', 'sack', 'sackvil', 'sacramento', 'sad', 'saddlebrook', 'saddledom', 'sadli', 'safari', 'safe', 'safeco', 'safer', 'saferåê', 'safeti', 'safferoonicl', 'safyuan', 'sagacioussab', 'sahel', 'sahib', 'said', 'sail', 'saint', 'saintrobinho86', 'saipan', 'sake', 'sakhalintribun', 'saku', 'saku_uchiha_', 'saladinahm', 'salado', 'sale', 'salem', 'salli', 'salmanmydarl', 'salmon', 'salopek', 'salt', 'salti', 'salut', 'salvador', 'salvadoran', 'salvag', 'salvat', 'salvi', 'salyer', 'sam', 'sama', 'samajp32', 'samanthaturne19', 'samaritan', 'samel_samel', 'sami', 'samihonkonen', 'sampl', 'samsung', 'san', 'sanchez', 'sanction', 'sand', 'sandi', 'sandiego', 'sandstorm', 'sandun', 'sanelesstheori', 'sanfrancisco', 'sang', 'sanit', 'saniti', 'sanjaynirupam', 'sansa', 'santa', 'santaclara', 'santanico', 'santo', 'sapphirescallop', 'sara', 'sarah', 'sarahksilverman', 'sarahmcp', 'sarcasm', 'sarcast', 'sarumi', 'sasha', 'sassi', 'sat', 'satan', 'satanaofhel', 'satchel', 'satellit', 'satin', 'satir', 'satisfi', 'satur', 'saturday', 'saturn', 'saudi', 'saudiarabia', 'saudiåêmosqu', 'saumur', 'saunder', 'sav', 'savag', 'savagen', 'save', 'savebe', 'savedenaliwolv', 'saveti', 'savior', 'savour', 'saw', 'say', 'sayn_a', 'sb', 'sb57', 'scab', 'scale', 'scalpium', 'scam', 'scandal', 'scar', 'scare', 'scari', 'scarier', 'scariest', 'scatter', 'scegnew', 'scenario', 'scene', 'schedul', 'scheer', 'scheme', 'schiphol', 'schism', 'schoenfeld', 'school', 'schoolboy', 'schulz', 'schwarber', 'scichat', 'scienc', 'scientist', 'scifi', 'scissor', 'scmp_new', 'scofield', 'scoopit', 'scorch', 'score', 'scorpion', 'scotiabank', 'scotland', 'scott', 'scottdpierc', 'scourg', 'scourgu', 'scout', 'scratch', 'scream', 'screech', 'screen', 'screenshot', 'screw', 'scriptettesar', 'scroll', 'scseestapreparando', 'sct012', 'sct014', 'scuf', 'scum', 'scwx', 'sd', 'se', 'sea', 'seagul', 'seagull07', 'seal', 'seamstress', 'sean', 'seanpeconi', 'search', 'seashor', 'season', 'seasonfrom', 'seat', 'seatbelt', 'seattl', 'seattledot', 'seattletim', 'seawal', 'seaworld', 'sebe', 'sec', 'seclus', 'second', 'secret', 'sectarian', 'section', 'secur', 'sedan', 'see', 'seed', 'seek', 'seeker', 'seem', 'seemeth', 'seemli', 'seen', 'seeyouatamico', 'sef', 'sega', 'segment', 'seismic', 'seismicsoftwar', 'seiz', 'sel', 'select', 'self', 'selfavow', 'selfi', 'sell', 'selmo', 'selmoooooo', 'semasirtalk', 'semi', 'sen', 'senat', 'senatemajldr', 'send', 'senfeinstein', 'senior', 'sens', 'sensand', 'senschum', 'sensei', 'sensit', 'sent', 'sentenc', 'sentient', 'sentinel', 'senzu', 'sep', 'separ', 'sept', 'septemb', 'septic', 'sequenc', 'ser', 'sera', 'serbian', 'seren', 'serephina', 'sergiopiaggio', 'seri', 'serial', 'seriou', 'serious', 'serv', 'servant', 'server', 'servic', 'session', 'set', 'setanta', 'sethalphaeu', 'setlist', 'settl', 'settlement', 'seven', 'sevenfigz', 'sever', 'sew', 'sewag', 'seward', 'sewer', 'sex', 'sexi', 'sexist', 'sexual', 'sexydragonmag', 'sf', 'sfgiant', 'sgc72', 'sh', 'sha', 'shad', 'shade', 'shadow', 'shadowflam', 'shadowman', 'shake', 'shakeolog', 'shaker', 'shakespear', 'shall', 'shame', 'shanghai', 'shaniatwain', 'shanta', 'shantaeforsmash', 'shantaehalfgeniehero', 'shantaeskyy', 'shape', 'shaper', 'share', 'shareahol', 'sharethi', 'sharia', 'sharif', 'shark', 'sharp', 'sharper', 'sharpli', 'shatter', 'shaw', 'shawie17shawi', 'shayoli', 'she', 'shed', 'shedid', 'sheeran', 'sheet', 'shelbi', 'shell', 'shelter', 'shepherd', 'sherfield72', 'sheriff', 'shestooyoung', 'shia', 'shield', 'shift', 'shimmyfab', 'shine', 'ship', 'shipsxanchor', 'shipwreck', 'shira', 'shirley', 'shirt', 'shit', 'shitti', 'shitton', 'shiver', 'shizun', 'shock', 'shoe', 'sholt87', 'shook', 'shoook', 'shoot', 'shooter', 'shootoutåê', 'shop', 'shopp', 'shore', 'short', 'shortfal', 'shot', 'shotgun', 'shoulder', 'shout', 'shoutout', 'shove', 'shovel', 'show', 'showdown', 'shower', 'shrew', 'shrewsburi', 'sht', 'shtap', 'shtf', 'shud', 'shuffl', 'shunichiro', 'shut', 'shutdown', 'si', 'sibl', 'sicili', 'sick', 'side', 'sidelin', 'sidewalk', 'siena', 'sif', 'sift', 'sigalert', 'sigh', 'sight', 'sign', 'signal', 'signatur', 'signific', 'sigu', 'sila', 'silenc', 'silent', 'silent0siri', 'silentmind', 'silinski', 'silo', 'silver', 'silverhuski', 'silverman', 'similar', 'simmer', 'simmon', 'simon', 'simpl', 'simpli', 'simplifi', 'simply_vain', 'simpson', 'simul', 'simultan', 'sinc', 'sincer', 'sincerelyevelnn', 'sing', 'singl', 'sinistra', 'sinjar', 'sink', 'sinkhol', 'sip', 'sippin', 'sir', 'sirbrandonknt', 'siren', 'siren_song21', 'siren_voic', 'sirensicebreak', 'sirmixalot', 'siskiy', 'sismo', 'sister', 'sit', 'site', 'siteinvestig', 'sittw', 'sittway', 'situ', 'situat', 'sivan', 'six', 'sixpencee', 'sixth', 'size', 'sizewel', 'sj', 'sjubb', 'skagg', 'skanndtyagi', 'skarletan', 'skateboard', 'skc', 'skeleton', 'sketch', 'sketchbook', 'skh', 'ski', 'skill', 'skim', 'skin', 'skinni', 'skip', 'skirt', 'sky', 'skyland', 'skyler', 'skylin', 'skynew', 'skype', 'skyrim', 'skyscrap', 'skywar', 'skywarn', 'skyåênew', 'slab', 'slain', 'slam', 'slander', 'slanglucci', 'slap', 'slash', 'slate', 'slaughter', 'slave', 'sleep', 'slept', 'slice', 'slicker', 'slide', 'slideshar', 'slight', 'slightest', 'slightli', 'slikrickdarula', 'slingnew', 'slip', 'slipper', 'slither', 'slogan', 'slone', 'slosher', 'slosheriff', 'slow', 'slower', 'slowli', 'slowpok', 'slsandpet', 'slumber', 'sm', 'smack', 'small', 'smaller', 'smantibatam', 'smart', 'smartnew', 'smash', 'smaug', 'smb', 'smell', 'smem', 'smfh', 'smh', 'smile', 'smirk', 'smithereen', 'smithsonian', 'smoak_queen', 'smoke', 'smoker', 'smoki', 'smoochi', 'smooth', 'smth', 'smug', 'smuggler', 'smugglersåênab', 'smusx16475', 'sn', 'snap', 'snapchat', 'snapchatselfi', 'snazzychipz', 'snd', 'sneak', 'sneez', 'sni', 'snippet', 'snooker', 'snoop', 'snotgreen', 'snow', 'snowflak', 'snowi', 'snowstorm', 'snowywolf5', 'snuff', 'soak', 'soaker', 'soapscoop', 'soar', 'sob', 'soc', 'socal', 'soccer', 'social', 'socialist', 'socialmedia', 'socialnew', 'socialtim', 'socialwot', 'societi', 'socket', 'sod', 'soft', 'softwar', 'soggi', 'soil', 'solano', 'solar', 'sold', 'soldi', 'soldier', 'solicitor', 'solid', 'solo', 'soloquiero', 'solut', 'solv', 'somalia', 'somebodi', 'someday', 'somehow', 'someon', 'someth', 'sometim', 'sometimesi', 'somewher', 'son', 'sona', 'soner', 'song', 'songfor', 'songhey89', 'soni', 'sonia', 'sonison', 'sonofbaldwin', 'sonofbobbob', 'sonoranrattl', 'sonyprousa', 'soo', 'soon', 'soonergrunt', 'soonermagic_', 'soonersportstv', 'sooo', 'soooo', 'sopam', 'sophi', 'sophieingle01', 'sophiewisey', 'sore', 'sorri', 'sorrow', 'sorrybutitstru', 'sort', 'sothwest', 'souda', 'soudelor', 'sought', 'soul', 'soultech', 'sound', 'soundcloud', 'sounder', 'soundtrack', 'soup', 'sour', 'sourc', 'sourmashnumber7', 'south', 'southampton', 'southbound', 'southdown', 'southeast', 'southern', 'southkorea', 'southlin', 'southwest', 'soviet', 'sow', 'soz', 'sp', 'space', 'space_wolverin', 'spaceangelseven', 'spaceship', 'spaceshiptwo', 'spacex', 'spain', 'spam', 'spammer', 'span', 'spanish', 'spark', 'sparkz', 'spartan', 'speak', 'speaker', 'speakingfromexperi', 'spear', 'spec', 'specci', 'special', 'specialguest', 'specialist', 'specialne', 'specif', 'specimen', 'spectacular', 'speech', 'speed', 'spell', 'spencer_fearon', 'spend', 'spent', 'spi', 'spice', 'spicybread', 'spider', 'spill', 'spin', 'spinnellii', 'spinningbot', 'spirit', 'spit', 'splash', 'splatdown', 'splatl', 'splatoon', 'splattershot', 'split', 'splottdav', 'spo', 'spoil', 'spokan', 'spong', 'sponsorship', 'spontan', 'sport', 'sportsroadhous', 'sportwatch', 'spot', 'spotlight', 'spout', 'sprain', 'spray', 'spread', 'spring', 'sprinter', 'spsgsp', 'spså', 'spur', 'spurgeon', 'sputnik', 'sputnikint', 'sputter', 'sq', 'squabbl', 'squad', 'squar', 'squeaver', 'squeez', 'squibby_', 'squirrel', 'sr', 'sr14', 'sr22', 'sr37', 'sriramk', 'srk', 'srsli', 'ssb4', 'ssp', 'ssshhheeesshh', 'ssw', 'st', 'stab', 'stabl', 'stacdemon', 'stacedemon', 'stacey', 'staci', 'stack', 'stadium', 'staf', 'staff', 'stage', 'staid', 'stalag', 'stalin', 'stall', 'stallion150', 'stamp', 'stan', 'stand', 'standard', 'standforwolv', 'standstil', 'standup', 'standwithpp', 'star', 'starb', 'starbuck', 'starbuck_sculli', 'stardat', 'stare', 'starflame_girl', 'stark', 'starmad', 'start', 'startelegram', 'starter', 'startid', 'startrek', 'startup', 'starv', 'stat', 'state', 'statement', 'statesvil', 'station', 'statist', 'statu', 'stay', 'std', 'steadi', 'steak', 'steal', 'steam', 'stearn', 'steel', 'steel_lord', 'steep', 'stefanejon', 'stefano', 'stem', 'step', 'stephanenni', 'stephaniemarija', 'stephen', 'stephen_georg', 'stephenk', 'stephenson', 'stepkan', 'stereo', 'sterl', 'stern', 'steve', 'stevenontwatt', 'stevi', 'stew', 'stewart', 'stick', 'sticker', 'stickynyc', 'stil', 'still', 'stir', 'stloui', 'stock', 'stockholm', 'stockton', 'stoke', 'stole', 'stolen', 'stomach', 'stone', 'stonewal', 'stoni', 'stood', 'stool', 'stop', 'stopharp', 'stoponesound', 'store', 'storen', 'storey', 'stori', 'storm', 'stormbeard', 'stout', 'straight', 'straighten', 'strain', 'strait', 'strand', 'strang', 'stranger', 'strategi', 'strategicpati', 'stratford', 'strawberri', 'strawberrysoryu', 'stray', 'streak', 'stream', 'stree', 'street', 'streetlight', 'strength', 'strengthen', 'stress', 'stretch', 'stretcher', 'strickskin', 'strict', 'strictli', 'strike', 'striker', 'strip', 'stroke', 'strong', 'stronger', 'strongli', 'struck', 'structur', 'struggl', 'strut', 'stu', 'stuart', 'stuartbroad8', 'stuck', 'studebak', 'student', 'studi', 'stuff', 'stuffin', 'stun', 'stunckl', 'stung', 'stunningli', 'stupid', 'stupid_niggr', 'sturgi', 'sturi', 'stvmlli', 'style', 'stylish', 'stylist', 'su', 'sub', 'subatom', 'subject', 'submiss', 'submit', 'submitt', 'subreddit', 'subscript', 'subsequ', 'substanc', 'substanti', 'subtl', 'subway', 'succeed', 'success', 'suck', 'sucker', 'sudan', 'sudden', 'suddenli', 'sue', 'suelinflow', 'suffer', 'suffic', 'suffici', 'suffield', 'sugar', 'suh', 'suho', 'suicid', 'suit', 'suitabl', 'sul', 'sultri', 'summer', 'summerf', 'summerhalleri', 'summerslam', 'summertim', 'summervib', 'summit', 'summon', 'sumn', 'sumo', 'sun', 'sunbath', 'sunburst', 'sunday', 'sundercr', 'sundown', 'sunflow', 'sunk', 'sunni', 'sunnymead', 'sunset', 'sunshin', 'suny_orang', 'super', 'superb', 'superfici', 'superfood', 'superhero', 'superintend', 'superior', 'superman', 'supermarket', 'supernatur', 'superstit', 'supervisor', 'suppli', 'support', 'suppos', 'supposedli', 'suprem', 'supremacist', 'supremo', 'surah', 'sure', 'suresh', 'sureshpprabhu', 'sureshprabhu', 'sureti', 'surf', 'surfac', 'surfer', 'surg', 'surgeri', 'surgic', 'surpris', 'surrend', 'surround', 'suruc', 'suruì', 'survey', 'surviv', 'survivor', 'sushi', 'susiya', 'suspect', 'suspend', 'suspici', 'sustain', 'sustainourearth', 'suv', 'sux', 'svetlana', 'sw', 'sw_train', 'swag', 'swallow', 'swam', 'swami', 'swanger', 'swansea', 'swarm', 'swayback', 'swayoung01', 'swb1192', 'swear', 'sweat', 'sweater', 'sweati', 'sweden', 'swedish', 'sweep', 'sweet', 'sweet2young', 'sweetpea', 'swell', 'swellyjetevo', 'swiftli', 'swiftycommissh', 'swim', 'swime', 'swing', 'swiss', 'switch', 'switzerland', 'swollen', 'swoop', 'sword', 'sworn', 'sydney', 'sydtraff', 'syjexo', 'symantec', 'symbol', 'sympathi', 'symphoni', 'synapsenkotz', 'syndrom', 'syria', 'syrian', 'syringetoang', 'system', 't_t', 'taaylordarr', 'tab', 'tabl', 'tablet', 'tac', 'tacit', 'tackettdc', 'taco', 'tacoma', 'tact', 'tactic', 'tadhgtgmtel', 'tae', 'taf', 'tag', 'taho', 'tail', 'tailor', 'taint', 'taiwan', 'tak', 'take', 'takeaway', 'takecar', 'taken', 'takeoff', 'taki', 'tale', 'talent', 'taliban', 'talisman', 'talk', 'talkin', 'talkinghel', 'talkradio', 'tallest', 'tambo', 'tampa', 'tan', 'tanehisico', 'tangl', 'tangletalk', 'tank', 'tanslash', 'tanstaafl23', 'tantonationalforest', 'tantrum', 'tanzania', 'taoistinsight', 'tapa', 'tape', 'taraswart', 'tareksoc', 'targ', 'target', 'tarleton_sophi', 'tarmineta3', 'tarynel', 'tarzana', 'task', 'tasmania', 'tast', 'tat', 'tattoo', 'taufikcj', 'taught', 'tax', 'taxi', 'taxiway', 'taxpay', 'taxreturn', 'taxston', 'tayiorrmad', 'taykreidl', 'taylor', 'taylorswift13', 'tb', 'tbh', 'tblack', 'tbt', 'tc', 'tcc', 'tcgreno', 'tch', 'tconnellyr', 'tcot', 'tcotåê', 'tdm', 'te', 'tea', 'teach', 'teacher', 'teahivetweet', 'team', 'teamatowinn', 'teamfollowback', 'teamhendrick', 'teamhennessi', 'teammat', 'teamo', 'teampalestina', 'teamscorpion', 'teamstream', 'teamsurvivor', 'tear', 'tech', 'techesback', 'technew', 'techniqu', 'technolog', 'tecno', 'ted', 'tedcruz2016', 'teddi', 'teduka', 'tee', 'teeess', 'teen', 'teena_797', 'teenag', 'teeth', 'telangana', 'telegraph', 'telegraphworld', 'telemarket', 'tell', 'telli', 'tellyfckngo', 'tem', 'temecafreeman', 'temecula', 'temp', 'temper', 'temperatur', 'templ', 'templat', 'temporari', 'temporarili', 'temptat', 'ten', 'tend', 'tennesse', 'tennew', 'tenni', 'tenno', 'tennoatax', 'tenshi', 'tension', 'tent', 'tepco', 'term', 'termin', 'termn8r13', 'terrain', 'terribl', 'terrif', 'terrifi', 'terror', 'terrorist', 'tersestuff', 'terwillig', 'tesco', 'tesla', 'test', 'testi', 'testicl', 'testifi', 'testimoni', 'texa', 'texan', 'texansdc', 'texaschainsawmassacr', 'text', 'tf', 'tfb', 'tfl', 'tflbusalert', 'tfw', 'tg', 'th', 'tha', 'thai', 'thailand', 'thalapathi', 'thank', 'thankkk', 'thanku', 'that', 'that_fat_guy', 'thatpersianguy', 'thatrussianman', 'thatsabinegirl', 'the_af', 'theadvocatemag', 'theash', 'theater', 'theatershoot', 'theatlant', 'theatr', 'thebachelorett', 'thebargain', 'thebookclub', 'theboyofmask', 'thebuffshow', 'theburnageblu', 'theconspiracytheori', 'thedailybeast', 'thedarktow', 'thedayct', 'thedoolinggroup', 'thee', 'theeconomist', 'theellenshow', 'theemobrago', 'theevilol', 'thegam', 'thegreenparti', 'thehighfess', 'thehobbit', 'thejenmorillo', 'thejonesesvoic', 'thelegendblu', 'thelonevirolog', 'themagickidrap', 'themain', 'themale_madonna', 'theme', 'themermacorn', 'thene', 'thenewshyp', 'thenissonian', 'theolog', 'theori', 'thepartyofmean', 'theramin', 'therapi', 'there', 'thereal', 'therealrittz', 'therefor', 'therein', 'thereisonlysex', 'thereof', 'theresmorewherethatcamefrom', 'thesewphist', 'thesmallclark', 'thesteveharveyshow', 'thetimepast', 'thetshirtkid', 'thetwisterokc', 'thetxi', 'thewesterngaz', 'theyr', 'thi', 'thick', 'thief', 'thigh', 'thin', 'thing', 'thingsih', 'think', 'thinkpink', 'thinner', 'third', 'thirsti', 'thirti', 'thisdayinhistori', 'thisisfaz', 'thisishavehop', 'thisisperidot', 'thisispublichealth', 'thisiswhywecanthaveniceth', 'thisizbwright', 'thnk', 'tho', 'thoma', 'thomashcrown', 'thomassmonson', 'thomasvissman22', 'thorium', 'thoroughli', 'though', 'thought', 'thousand', 'thoutaylorbrown', 'thranduil', 'threat', 'threatconnect', 'threaten', 'threatintel', 'three', 'threw', 'thriller', 'throat', 'throne', 'throughout', 'throw', 'throwback', 'throwin', 'throwingknif', 'thrown', 'thru', 'tht', 'thu', 'thucydipleas', 'thuggin', 'thunder', 'thundersnow', 'thunderstorm', 'thur', 'thursd', 'thursday', 'thx', 'thyroid', 'tianta_', 'tiara_marei', 'tic', 'ticket', 'ticklemeshawn', 'tidal', 'tidalhifi', 'tide', 'tie', 'tier', 'tiffanyfrizzel', 'tiger', 'tightli', 'til', 'till', 'tim_micallef', 'timber', 'time', 'time2015', 'timebomb', 'timelin', 'timesofindia', 'timestack', 'timey', 'timkain', 'tin', 'tinder', 'tinderbox', 'ting', 'tint', 'tinybabi', 'tinyjecht', 'tip', 'tipster', 'tire', 'tita', 'titan', 'titania', 'tithenai', 'titl', 'titolo', 'titti', 'tix', 'tj_robertson2', 'tkyonly1fmk', 'tlc', 'tlk', 'tloz', 'tlvface', 'tmp', 'tms7', 'tn', 'tnn', 'to', 'tobias_ellwood', 'tod', 'today', 'todayhav', 'todayi', 'todayngr', 'todd', 'todd_calfe', 'toddler', 'toddstarn', 'toddyrockstar', 'toe', 'toenail', 'togeth', 'toiindianew', 'toilet', 'tokyo', 'told', 'toler', 'toll', 'tom', 'tomarse99', 'tomato', 'tomfromireland', 'tomislav', 'tomlinson', 'tomorrow', 'ton', 'tone', 'tongu', 'toni', 'tonight', 'tonn', 'tonto', 'tony_burk', 'tonyhsieh', 'tonymcguin', 'tonysando', 'took', 'tool', 'toooooo', 'toosoon', 'tooth', 'tootru', 'top', 'top25', 'topnew', 'topstori', 'tor', 'tora', 'torch', 'tore', 'tori', 'tornado', 'tornadogiveaway', 'toronto', 'torontorc', 'torranc', 'torrecilla', 'torrent', 'torso', 'tort', 'tortur', 'toss', 'tosu', 'total', 'totalitarian', 'tote', 'totoooooo', 'totoooooooooo', 'totteham', 'touch', 'touchdown', 'tough', 'toughen', 'toung', 'tour', 'tourist', 'tournament', 'tourofutah', 'tow', 'toward', 'towel', 'tower', 'town', 'township', 'toxic', 'toxicsavior_', 'tp', 'tprimo24', 'tr', 'tr_jdavi', 'trace', 'tracey', 'traci', 'track', 'tractor', 'trad', 'tradcatknight', 'trade', 'trader', 'tradit', 'traffic', 'trafficalert', 'trafficnetwork', 'trafford', 'tragedi', 'tragic', 'trail', 'trailer', 'train', 'traintragedi', 'traitor', 'trajectori', 'tram', 'trampl', 'tranci', 'transcend', 'transform', 'transgend', 'transit', 'transport', 'transporta', 'transwomen', 'trap', 'traplord_29', 'trapmus', 'trash', 'trauma', 'traumatis', 'travel', 'travelelixir', 'travi', 'trc', 'treat', 'treati', 'treatmen', 'treatment', 'treblinka', 'tree', 'treeporn', 'treescap', 'trekker', 'tremblayeh', 'tremont', 'tremor', 'trench', 'trend', 'trent', 'trespass', 'trestl', 'trey', 'treyarch', 'trfc', 'tri', 'triad', 'trial', 'triangl', 'trib', 'tribal', 'tribe', 'tribun', 'triciaoneil', 'triciaoneillphoto', 'trick', 'tricki', 'trickier', 'trickshot', 'trickxi', 'trigger', 'trillac_', 'trillion', 'trip', 'tripl', 'triumph', 'triumphant', 'trivium', 'troi', 'troll', 'trolley', 'trollkratto', 'trombonetristan', 'troop', 'trope', 'trophi', 'trophyhunt', 'tropic', 'troubl', 'troubleonmymind', 'troup', 'troy', 'troylercraft', 'tru', 'trubgm', 'truck', 'truckcrash', 'truckload', 'true', 'truli', 'trump', 'trump2016', 'trunk', 'trust', 'trusti', 'trustymclusti', 'truth', 'tryna', 'tryout', 'tsipra', 'tsunami', 'tsunami_esh', 'tsunami_nopeach', 'tte', 'ttw', 'tu', 'tube', 'tubestrik', 'tucson', 'tuesday', 'tuffer', 'tullamarin', 'tulowitzki', 'tumbl', 'tumblr', 'tuna', 'tune', 'tunein', 'tunes_wgg', 'tunisia', 'tunisian', 'tunnel', 'turbin', 'turbojet', 'turkey', 'turkish', 'turkmen', 'turn', 'turnedonfetaboo', 'turner', 'tuski', 'tutor', 'tutori', 'tv', 'tvjnew', 'tvshowtim', 'tw4rw', 'twcnew', 'twcnewsclt', 'tween', 'tweet', 'tweet4taiji', 'tweetinglew', 'tweetlikeitsseptember11th2001', 'tweetstorm', 'twelv', 'twenti', 'twentynin', 'twi', 'twia', 'twice', 'twilight', 'twilightfairi', 'twill', 'twimbo', 'twin', 'twister', 'twisterlovesshania', 'twit_san_diego', 'twitch', 'twitter', 'two', 'twon', 'twoptwip', 'twx', 'txlege', 'ty', 'tyar', 'tyler', 'tyleroakley', 'type', 'typhoon', 'typic', 'typo', 'tyre', 'tìüp', 'uae', 'uber', 'uchicago', 'ud', 'udhampur', 'udhampuragain', 'udom', 'ufn', 'ufo4ublogeurop', 'uganda', 'ugh', 'ugli', 'uglypeopl', 'uh', 'uhhhhh', 'uk', 'uke', 'ukflood', 'ukrain', 'ullman', 'ultim', 'ultimalucha', 'ultimatum', 'um', 'umntu', 'un', 'unaddress', 'unarm', 'unavoid', 'unawar', 'uncertain', 'uncertainti', 'uncl', 'uncomfort', 'uncommon', 'uncondit', 'unconfirm', 'unconsci', 'uncontrol', 'uncov', 'undercov', 'underground', 'undergroundbestsel', 'undergroundrailraod', 'underpass', 'understand', 'understood', 'underwat', 'underway', 'underwood', 'underwrit', 'undeserv', 'undetect', 'undon', 'unend', 'unfair', 'unfold', 'unfollow', 'unfortun', 'unfortunemelodi', 'unhappi', 'unharm', 'unheal', 'unhing', 'uniform', 'uninvestig', 'union', 'unit', 'uniteblu', 'uniti', 'univers', 'unkn', 'unknowingli', 'unknown', 'unless', 'unlicens', 'unlock', 'unnecessari', 'unplug', 'unpreced', 'unprepar', 'unqualifi', 'unr', 'unreal', 'unrealtouch', 'unrecogn', 'unrel', 'unrest', 'unsaf', 'unscreen', 'unsens', 'unsign', 'unstabl', 'unsuccess', 'unsuckdcmetro', 'unsur', 'unsurprisingli', 'untameddirewolf', 'untangl', 'until', 'unto', 'unu', 'unveil', 'unwant', 'unwarr', 'upa', 'upcom', 'updat', 'upgrad', 'upheav', 'uphil', 'upload', 'upon', 'upper', 'uprootin', 'upset', 'upward', 'ur', 'uranium', 'urban', 'urbanis', 'urg', 'urgent', 'urgentther', 'urib', 'uriminzok', 'urogyn', 'urself', 'ursula', 'uruan', 'urufusanragu', 'us', 'us101', 'us70', 'usa', 'usag', 'usagi', 'usama', 'usami', 'usar15', 'usar2015', 'usarmi', 'usatoday', 'use', 'useless', 'user', 'usf', 'usg', 'ush', 'ushiocom', 'usmnt', 'usnwsgov', 'usual', 'usw', 'uswarcrim', 'ut', 'utahcanari', 'utahgrizz', 'utc', 'utc2015', 'utd', 'utica', 'util', 'utp', 'utter', 'utterli', 'utv', 'uv', 'uve', 'va', 'vabeng', 'vaca', 'vacant', 'vacat', 'vaccin', 'vagersedolla', 'vaginaorcak', 'vail', 'val', 'valdes1978', 'vale', 'valentin', 'vall', 'valley', 'valleywx', 'valu', 'valuat', 'vampir', 'vampiro', 'van', 'vancouv', 'vancouveråêisland', 'vandal', 'vanderbilt', 'vanessa', 'vanilla', 'vanish', 'vannuyscouncil', 'vanpoli', 'vantag', 'vanuatu', 'varagesal', 'varieti', 'variou', 'vassalboro', 'vast', 'vault', 'vega', 'vegan', 'veget', 'vegetarian', 'vehicl', 'veil', 'vein', 'vela', 'veld', 'veneto', 'venezuela', 'venic', 'ventil', 'ventur', 'verd', 'verdict', 'verg', 'vermilion', 'vermont', 'vern', 'veronicadlcruz', 'version', 'vessel', 'vest', 'vet', 'veteran', 'vgbootcamp', 'vi', 'via', 'viab', 'vibe', 'vibrat', 'vice', 'vicin', 'vicker', 'vickie627', 'victim', 'victimis', 'victori', 'victoria', 'victoriagittin', 'vid', 'vida', 'video', 'videoclip', 'videoveranomtv', 'vienna_butch', 'vietnam', 'vietnames', 'view', 'vigil', 'vike', 'vilelunar', 'villag', 'villicanaalicia', 'vimeo', 'vimvith', 'vinc', 'vincent', 'vine', 'vintag', 'vinustrip', 'vinyl', 'violat', 'violenc', 'violent', 'violet', 'violin', 'vip', 'viper', 'viralspel', 'virgin', 'viru', 'visag', 'viscou', 'visibl', 'vision', 'visionzero', 'visit', 'visto', 'vital', 'vitalvega', 'vitess', 'vivian_giang', 'vivid', 'vixmeldrew', 'vixstuart', 'vladimir', 'vma', 'vocal', 'vocalist', 'vod', 'vodka', 'voic', 'void', 'vol', 'volcan', 'volcano', 'volcano_tornado', 'volcanodiscov', 'volcanoåêinåêrussia', 'volga', 'volunt', 'voluntari', 'voortrekk', 'vote', 'votejkt48id', 'voter', 'vra50', 'vroman', 'vs', 'vuitton', 'vulcan', 'vuln', 'vulner', 'vuzuhustl', 'vvorm', 'vzwsupport', 'vì_deo', 'wa', 'wacko', 'wafer', 'wage', 'wahhab', 'wahpeton', 'waimat', 'wait', 'wake', 'wakeupflorida', 'wakho', 'waldo', 'wale', 'walerga', 'walk', 'walker', 'wall', 'wallybait', 'walmart', 'waltdisney', 'walter', 'wander', 'wank', 'wanna', 'want', 'wantmyabsback', 'war', 'warcraft', 'warden', 'warfar', 'warfight', 'warm', 'warmbodi', 'warn', 'warnerrobin', 'warra', 'wars_goddess', 'warship', 'warthen', 'waseembadami', 'wash', 'washabl', 'washard', 'washington', 'washingtonpost', 'wasilla', 'wasnt', 'wasp', 'wast', 'wasteland', 'watch', 'watchin', 'watchout', 'watchthevideo', 'water', 'waterboard', 'waterfur', 'waterproof', 'watersafeti', 'watertown', 'waterway', 'wattashit3', 'wattl', 'wave', 'way', 'wayn', 'waynesteratl', 'waziristan', 'wb', 'wbcshirl2', 'wbre', 'wbu', 'wc', 'wce', 'wctv', 'wcvb', 'wcw', 'wdtv', 'wdym', 'wdyouth', 'weak', 'weaken', 'weallheartonedirect', 'wealth', 'wealthi', 'weapon', 'weapon_x_mus', 'wear', 'wearethenew', 'weather', 'weatherit', 'weathernetwork', 'web', 'webinar', 'websit', 'wed', 'weddinghour', 'wedgi', 'wedn', 'wedneday', 'wednesday', 'wee', 'weebli', 'weed', 'week', 'weekend', 'weeklong', 'weigh', 'weight', 'weightless', 'weiqin', 'weird', 'weirdo', 'welcom', 'welfar', 'well', 'welles_7', 'welovela', 'weloverobdyrdek', 'wendel', 'went', 'wesleyloweri', 'west', 'westchest', 'western', 'westerncanadadrought', 'westero', 'westmarch', 'westminist', 'weston', 'westward', 'wet', 'wew', 'weyburn', 'weymouth', 'weyrey_gidi', 'wfaaweath', 'wftv', 'whack', 'whag', 'whale', 'what', 'whatcanthedo', 'whatev', 'whatsapp', 'wheat', 'whedonesqu', 'wheel', 'wheeler', 'whelen', 'whenev', 'wherea', 'whether', 'whimsi', 'whine', 'whip', 'whipe', 'whirlwind', 'whiskey', 'whistl', 'whistleblow', 'whitbourn', 'white', 'whitehous', 'whitewalk', 'whitewash', 'whitt', 'whoa', 'whocar', 'whoever', 'whole', 'wholesal', 'wholeteam3', 'whomev', 'whoop', 'whose', 'wht', 'whvholst', 'wi', 'wick', 'wickett', 'widda16', 'wide', 'widespread', 'widout', 'width', 'wiedem', 'wield', 'wife', 'wifi', 'wii', 'wild', 'wild_lionx3', 'wilden', 'wildfir', 'wildhors', 'wildlif', 'wildwestsixgun', 'will', 'willhillbet', 'william', 'willian', 'willow', 'wilsher', 'wilson', 'wimbledon', 'wimp', 'win', 'wind', 'windi', 'window', 'windowgatribbl', 'windowsil', 'windsor', 'windstorm', 'windwak', 'wine', 'wineisdumb', 'wing', 'winger', 'winner', 'winnipeg', 'winston', 'winter', 'wipe', 'wipp', 'wire', 'wireless', 'wisconsin', 'wisdc', 'wisdom', 'wisdomw', 'wise', 'wish', 'wit', 'witch', 'withdraw', 'within', 'without', 'withstand', 'withåêannihil', 'wizkidayo', 'wk', 'wknd', 'wmata', 'wmur9', 'wnd', 'wniagospel', 'wnw', 'wo', 'wocowa', 'wod', 'woe', 'wogc', 'woke', 'woken', 'wolf', 'wolforth', 'wolter', 'wolv', 'wom', 'woman', 'womem', 'women', 'womengirl', 'wonder', 'wont', 'woo', 'wood', 'woodland', 'wooooooo', 'word', 'wordpressdotcom', 'work', 'workd', 'worker', 'workout', 'workplac', 'workspac', 'world', 'worldnetdaili', 'worldnew', 'worldoil', 'worldpay', 'worldwid', 'worm', 'worn', 'worri', 'wors', 'worseit', 'worsen', 'worship', 'worst', 'worstsummerjob', 'worth', 'worthless', 'would', 'wouldnt', 'wound', 'wow', 'wowsavannah', 'wpd', 'wpri', 'wqow', 'wr', 'wraith', 'wrap', 'wrapup', 'wreak', 'wreck', 'wreckag', 'wrestleon', 'wrestler', 'wrist', 'wristband', 'write', 'writebothfist', 'writer', 'writes4coffe', 'writingtip', 'written', 'wrked', 'wrong', 'wrongperson', 'wrote', 'wrought', 'wsaz_brittani', 'wsjthinktank', 'wsl', 'wsoc', 'wtc', 'wtf', 'wud', 'wut', 'ww', 'ww1', 'ww2', 'ww3', 'wwe', 'wwexdream', 'wwi', 'wwii', 'wwp', 'www', 'wx', 'wxia', 'wxii', 'wxki', 'wy', 'wyou', 'wyrmwood', 'wzbt', 'x2', 'x36', 'xb1', 'xbox', 'xboxon', 'xd', 'xdescri', 'xekstrin', 'xela', 'xeni', 'xgn_infin', 'xoxo', 'xp', 'xvii', 'xxx', 'xylodemon', 'ya', 'ya_boi_luk', 'yagitudeh', 'yahistor', 'yahoo', 'yahoo7', 'yahoocar', 'yahoofin', 'yahoonew', 'yahoonewsdigest', 'yahooschwab', 'yahootv', 'yall', 'yanke', 'yard', 'yay', 'yazidi', 'ybtheprophet', 'yday', 'ye', 'yea', 'yeaahh', 'yeah', 'year', 'yee', 'yell', 'yelllowheath', 'yellow', 'yellowston', 'yelp', 'yemen', 'yennora', 'yep', 'yeshayad', 'yessum', 'yesterday', 'yet', 'yeyeulala', 'yh', 'yhngsjlg', 'yiayplan', 'yike', 'yiraneuni', 'ykelquiban', 'ymcglaun', 'yo', 'yobe', 'yoga', 'yogurt', 'yolandaph', 'yolk', 'yonew', 'yor', 'york', 'yorker', 'yorkshir', 'yosemit', 'yougov', 'young', 'younger', 'youngheroesid', 'youngsaf', 'your4stat', 'youssefyamani', 'youth', 'youtub', 'ypg', 'ypre', 'yr', 'yu_nita99', 'yuan', 'yug', 'yugvani', 'yuki', 'yum', 'yup', 'yuppi', 'yuuko', 'yuvi', 'yyc', 'yycfring', 'yycstorm', 'yycwalk', 'yyj', 'yzf', 'z10', 'z3ke_sk1', 'zaatari', 'zach', 'zaibatsunew', 'zaire2005', 'zak_bagan', 'zakuun', 'zaman', 'zamtriossu', 'zar', 'zarharzar', 'zarri', 'zayn', 'zaynmaiikist', 'zeal', 'zehr', 'zenande_mcfen', 'zenit', 'zeno001', 'zepp1978', 'zergel', 'zero', 'zhenghxn', 'zimbabw', 'zimmer', 'zimpapersview', 'zionism', 'zionist', 'zip', 'zippolin', 'zodiac', 'zojadelin', 'zomatoau', 'zombi', 'zombiefunrun2014', 'zone', 'zoom', 'zotar', 'zouma', 'zss', 'zumiez', 'zurich', 'zxatheti', 'zzzz', 'ââ', 'å_', 'åç', 'åè', 'åèmgn', 'åê', 'åêfedex', 'åêi', 'åêm', 'ìñ1', 'ìü', 'û_', 'û_1', 'û_ahhh', 'û_one', 'û_that', 'û_turn', 'û_you', 'ûª', 'ûªarabia', 'ûªd', 'ûªm', 'ûªre', 'ûªt', 'ûªve', 'ûï', 'ûïa', 'ûïafter', 'ûïairplan', 'ûïall', 'ûïcat', 'ûïdeton', 'ûïfor', 'ûïhatchet', 'ûïi', 'ûïlove', 'ûïmake', 'ûïnew', 'ûïnobodi', 'ûïnumber', 'ûïplan', 'ûïrichmond', 'ûïsippin', 'ûïstretcher', 'ûïthat', 'ûïthe', 'ûïwe', 'ûïwhen', 'ûïyou', 'ûò', 'ûò800000', 'ûó', 'ûóher', 'ûóneglig']\n"
          ]
        },
        {
          "output_type": "stream",
          "name": "stderr",
          "text": [
            "/usr/local/lib/python3.7/dist-packages/sklearn/utils/deprecation.py:87: FutureWarning: Function get_feature_names is deprecated; get_feature_names is deprecated in 1.0 and will be removed in 1.2. Please use get_feature_names_out instead.\n",
            "  warnings.warn(msg, category=FutureWarning)\n"
          ]
        }
      ]
    },
    {
      "cell_type": "code",
      "source": [
        "print(len(vect.get_feature_names()))"
      ],
      "metadata": {
        "id": "heV5zJZG7OAi",
        "colab": {
          "base_uri": "https://localhost:8080/"
        },
        "outputId": "3e653185-7823-42e8-bb75-6b88acc7f4a8"
      },
      "execution_count": null,
      "outputs": [
        {
          "output_type": "stream",
          "name": "stdout",
          "text": [
            "10883\n"
          ]
        },
        {
          "output_type": "stream",
          "name": "stderr",
          "text": [
            "/usr/local/lib/python3.7/dist-packages/sklearn/utils/deprecation.py:87: FutureWarning: Function get_feature_names is deprecated; get_feature_names is deprecated in 1.0 and will be removed in 1.2. Please use get_feature_names_out instead.\n",
            "  warnings.warn(msg, category=FutureWarning)\n"
          ]
        }
      ]
    },
    {
      "cell_type": "code",
      "source": [
        "X.toarray()"
      ],
      "metadata": {
        "id": "wtbiVy2h71xD",
        "colab": {
          "base_uri": "https://localhost:8080/"
        },
        "outputId": "386757a7-cf31-4218-8923-efbe100eab40"
      },
      "execution_count": null,
      "outputs": [
        {
          "output_type": "execute_result",
          "data": {
            "text/plain": [
              "array([[0, 0, 0, ..., 0, 0, 0],\n",
              "       [0, 0, 0, ..., 0, 0, 0],\n",
              "       [0, 0, 0, ..., 0, 0, 0],\n",
              "       ...,\n",
              "       [0, 0, 0, ..., 0, 0, 0],\n",
              "       [0, 0, 0, ..., 0, 0, 0],\n",
              "       [0, 0, 0, ..., 0, 0, 0]])"
            ]
          },
          "metadata": {},
          "execution_count": 21
        }
      ]
    },
    {
      "cell_type": "code",
      "source": [
        "y = train[\"target\"]\n",
        "print(y)"
      ],
      "metadata": {
        "id": "206UZGil7fk_",
        "colab": {
          "base_uri": "https://localhost:8080/"
        },
        "outputId": "7dde2109-c9c7-4803-fdfa-d88bd93ec83f"
      },
      "execution_count": null,
      "outputs": [
        {
          "output_type": "stream",
          "name": "stdout",
          "text": [
            "31      1\n",
            "32      0\n",
            "33      1\n",
            "34      0\n",
            "35      0\n",
            "       ..\n",
            "7575    0\n",
            "7577    0\n",
            "7579    0\n",
            "7580    0\n",
            "7581    0\n",
            "Name: target, Length: 5080, dtype: int64\n"
          ]
        }
      ]
    },
    {
      "cell_type": "markdown",
      "source": [
        "#Model Training"
      ],
      "metadata": {
        "id": "sybbHapOWe5J"
      }
    },
    {
      "cell_type": "code",
      "source": [
        "#Splitting data into train and test split\n",
        "from sklearn.model_selection import train_test_split\n",
        "X_train, X_test, y_train, y_test = train_test_split(X, y, random_state = 42, test_size = 0.1) "
      ],
      "metadata": {
        "id": "iZdUEejE7snZ"
      },
      "execution_count": null,
      "outputs": []
    },
    {
      "cell_type": "code",
      "source": [
        "#Using LinearSVC \n",
        "from sklearn.svm import SVC\n",
        "cls = SVC(kernel = \"linear\")"
      ],
      "metadata": {
        "id": "GUMb5RDG8gCb"
      },
      "execution_count": null,
      "outputs": []
    },
    {
      "cell_type": "code",
      "source": [
        "cls.fit(X_train, y_train)"
      ],
      "metadata": {
        "id": "J6B8iJ7q828W",
        "colab": {
          "base_uri": "https://localhost:8080/"
        },
        "outputId": "1d5e63e9-89af-4a36-87a0-99c03d985127"
      },
      "execution_count": null,
      "outputs": [
        {
          "output_type": "execute_result",
          "data": {
            "text/plain": [
              "SVC(kernel='linear')"
            ]
          },
          "metadata": {},
          "execution_count": 25
        }
      ]
    },
    {
      "cell_type": "markdown",
      "source": [
        "#Model Testing"
      ],
      "metadata": {
        "id": "oMTnYG2JWkDp"
      }
    },
    {
      "cell_type": "code",
      "source": [
        "prediction = cls.predict(X_test)"
      ],
      "metadata": {
        "id": "G92fk0d39Hf_"
      },
      "execution_count": null,
      "outputs": []
    },
    {
      "cell_type": "code",
      "source": [
        "from sklearn.metrics import accuracy_score, confusion_matrix\n",
        "print(\"LinearSVC Accuracy Score is \",accuracy_score(prediction, y_test)*100)"
      ],
      "metadata": {
        "id": "Ru0GJIl-AKKv",
        "colab": {
          "base_uri": "https://localhost:8080/"
        },
        "outputId": "a355521a-d286-44d7-c419-be51305e2c08"
      },
      "execution_count": null,
      "outputs": [
        {
          "output_type": "stream",
          "name": "stdout",
          "text": [
            "LinearSVC Accuracy Score is  81.49606299212599\n"
          ]
        }
      ]
    },
    {
      "cell_type": "code",
      "source": [
        "pd.DataFrame(\n",
        "    confusion_matrix(y_test, prediction),\n",
        "    index = [['actual', 'actual'], ['Not a Disaster', 'Disaster']],\n",
        "    columns = [['predicted', 'predicted'], ['Not a Disaster', 'Disaster']])"
      ],
      "metadata": {
        "id": "aoYCdxIwA1Qn",
        "colab": {
          "base_uri": "https://localhost:8080/"
        },
        "outputId": "f11c186a-b668-4563-a521-611c713079bf"
      },
      "execution_count": null,
      "outputs": [
        {
          "output_type": "execute_result",
          "data": {
            "text/plain": [
              "                           predicted         \n",
              "                      Not a Disaster Disaster\n",
              "actual Not a Disaster            247       53\n",
              "       Disaster                   41      167"
            ],
            "text/html": [
              "\n",
              "  <div id=\"df-51cc0278-0387-4824-8731-5371c9f84d23\">\n",
              "    <div class=\"colab-df-container\">\n",
              "      <div>\n",
              "<style scoped>\n",
              "    .dataframe tbody tr th:only-of-type {\n",
              "        vertical-align: middle;\n",
              "    }\n",
              "\n",
              "    .dataframe tbody tr th {\n",
              "        vertical-align: top;\n",
              "    }\n",
              "\n",
              "    .dataframe thead tr th {\n",
              "        text-align: left;\n",
              "    }\n",
              "</style>\n",
              "<table border=\"1\" class=\"dataframe\">\n",
              "  <thead>\n",
              "    <tr>\n",
              "      <th></th>\n",
              "      <th></th>\n",
              "      <th colspan=\"2\" halign=\"left\">predicted</th>\n",
              "    </tr>\n",
              "    <tr>\n",
              "      <th></th>\n",
              "      <th></th>\n",
              "      <th>Not a Disaster</th>\n",
              "      <th>Disaster</th>\n",
              "    </tr>\n",
              "  </thead>\n",
              "  <tbody>\n",
              "    <tr>\n",
              "      <th rowspan=\"2\" valign=\"top\">actual</th>\n",
              "      <th>Not a Disaster</th>\n",
              "      <td>247</td>\n",
              "      <td>53</td>\n",
              "    </tr>\n",
              "    <tr>\n",
              "      <th>Disaster</th>\n",
              "      <td>41</td>\n",
              "      <td>167</td>\n",
              "    </tr>\n",
              "  </tbody>\n",
              "</table>\n",
              "</div>\n",
              "      <button class=\"colab-df-convert\" onclick=\"convertToInteractive('df-51cc0278-0387-4824-8731-5371c9f84d23')\"\n",
              "              title=\"Convert this dataframe to an interactive table.\"\n",
              "              style=\"display:none;\">\n",
              "        \n",
              "  <svg xmlns=\"http://www.w3.org/2000/svg\" height=\"24px\"viewBox=\"0 0 24 24\"\n",
              "       width=\"24px\">\n",
              "    <path d=\"M0 0h24v24H0V0z\" fill=\"none\"/>\n",
              "    <path d=\"M18.56 5.44l.94 2.06.94-2.06 2.06-.94-2.06-.94-.94-2.06-.94 2.06-2.06.94zm-11 1L8.5 8.5l.94-2.06 2.06-.94-2.06-.94L8.5 2.5l-.94 2.06-2.06.94zm10 10l.94 2.06.94-2.06 2.06-.94-2.06-.94-.94-2.06-.94 2.06-2.06.94z\"/><path d=\"M17.41 7.96l-1.37-1.37c-.4-.4-.92-.59-1.43-.59-.52 0-1.04.2-1.43.59L10.3 9.45l-7.72 7.72c-.78.78-.78 2.05 0 2.83L4 21.41c.39.39.9.59 1.41.59.51 0 1.02-.2 1.41-.59l7.78-7.78 2.81-2.81c.8-.78.8-2.07 0-2.86zM5.41 20L4 18.59l7.72-7.72 1.47 1.35L5.41 20z\"/>\n",
              "  </svg>\n",
              "      </button>\n",
              "      \n",
              "  <style>\n",
              "    .colab-df-container {\n",
              "      display:flex;\n",
              "      flex-wrap:wrap;\n",
              "      gap: 12px;\n",
              "    }\n",
              "\n",
              "    .colab-df-convert {\n",
              "      background-color: #E8F0FE;\n",
              "      border: none;\n",
              "      border-radius: 50%;\n",
              "      cursor: pointer;\n",
              "      display: none;\n",
              "      fill: #1967D2;\n",
              "      height: 32px;\n",
              "      padding: 0 0 0 0;\n",
              "      width: 32px;\n",
              "    }\n",
              "\n",
              "    .colab-df-convert:hover {\n",
              "      background-color: #E2EBFA;\n",
              "      box-shadow: 0px 1px 2px rgba(60, 64, 67, 0.3), 0px 1px 3px 1px rgba(60, 64, 67, 0.15);\n",
              "      fill: #174EA6;\n",
              "    }\n",
              "\n",
              "    [theme=dark] .colab-df-convert {\n",
              "      background-color: #3B4455;\n",
              "      fill: #D2E3FC;\n",
              "    }\n",
              "\n",
              "    [theme=dark] .colab-df-convert:hover {\n",
              "      background-color: #434B5C;\n",
              "      box-shadow: 0px 1px 3px 1px rgba(0, 0, 0, 0.15);\n",
              "      filter: drop-shadow(0px 1px 2px rgba(0, 0, 0, 0.3));\n",
              "      fill: #FFFFFF;\n",
              "    }\n",
              "  </style>\n",
              "\n",
              "      <script>\n",
              "        const buttonEl =\n",
              "          document.querySelector('#df-51cc0278-0387-4824-8731-5371c9f84d23 button.colab-df-convert');\n",
              "        buttonEl.style.display =\n",
              "          google.colab.kernel.accessAllowed ? 'block' : 'none';\n",
              "\n",
              "        async function convertToInteractive(key) {\n",
              "          const element = document.querySelector('#df-51cc0278-0387-4824-8731-5371c9f84d23');\n",
              "          const dataTable =\n",
              "            await google.colab.kernel.invokeFunction('convertToInteractive',\n",
              "                                                     [key], {});\n",
              "          if (!dataTable) return;\n",
              "\n",
              "          const docLinkHtml = 'Like what you see? Visit the ' +\n",
              "            '<a target=\"_blank\" href=https://colab.research.google.com/notebooks/data_table.ipynb>data table notebook</a>'\n",
              "            + ' to learn more about interactive tables.';\n",
              "          element.innerHTML = '';\n",
              "          dataTable['output_type'] = 'display_data';\n",
              "          await google.colab.output.renderOutput(dataTable, element);\n",
              "          const docLink = document.createElement('div');\n",
              "          docLink.innerHTML = docLinkHtml;\n",
              "          element.appendChild(docLink);\n",
              "        }\n",
              "      </script>\n",
              "    </div>\n",
              "  </div>\n",
              "  "
            ]
          },
          "metadata": {},
          "execution_count": 28
        }
      ]
    },
    {
      "cell_type": "markdown",
      "source": [
        "#Testing on unknown data"
      ],
      "metadata": {
        "id": "bNFG7qoaWouQ"
      }
    },
    {
      "cell_type": "code",
      "source": [
        "#Examine test data\n",
        "test"
      ],
      "metadata": {
        "id": "mhU743ONIpJA",
        "colab": {
          "base_uri": "https://localhost:8080/"
        },
        "outputId": "48efb3d9-9101-49c0-b729-6abd2b13e3b6"
      },
      "execution_count": null,
      "outputs": [
        {
          "output_type": "execute_result",
          "data": {
            "text/plain": [
              "         id keyword location  \\\n",
              "0         0     NaN      NaN   \n",
              "1         2     NaN      NaN   \n",
              "2         3     NaN      NaN   \n",
              "3         9     NaN      NaN   \n",
              "4        11     NaN      NaN   \n",
              "...     ...     ...      ...   \n",
              "3258  10861     NaN      NaN   \n",
              "3259  10865     NaN      NaN   \n",
              "3260  10868     NaN      NaN   \n",
              "3261  10874     NaN      NaN   \n",
              "3262  10875     NaN      NaN   \n",
              "\n",
              "                                                   text  \n",
              "0                    Just happened a terrible car crash  \n",
              "1     Heard about #earthquake is different cities, s...  \n",
              "2     there is a forest fire at spot pond, geese are...  \n",
              "3              Apocalypse lighting. #Spokane #wildfires  \n",
              "4         Typhoon Soudelor kills 28 in China and Taiwan  \n",
              "...                                                 ...  \n",
              "3258  EARTHQUAKE SAFETY LOS ANGELES ÛÒ SAFETY FASTE...  \n",
              "3259  Storm in RI worse than last hurricane. My city...  \n",
              "3260  Green Line derailment in Chicago http://t.co/U...  \n",
              "3261  MEG issues Hazardous Weather Outlook (HWO) htt...  \n",
              "3262  #CityofCalgary has activated its Municipal Eme...  \n",
              "\n",
              "[3263 rows x 4 columns]"
            ],
            "text/html": [
              "\n",
              "  <div id=\"df-1a4b36f5-ae1f-4d20-bb3f-066833cf564d\">\n",
              "    <div class=\"colab-df-container\">\n",
              "      <div>\n",
              "<style scoped>\n",
              "    .dataframe tbody tr th:only-of-type {\n",
              "        vertical-align: middle;\n",
              "    }\n",
              "\n",
              "    .dataframe tbody tr th {\n",
              "        vertical-align: top;\n",
              "    }\n",
              "\n",
              "    .dataframe thead th {\n",
              "        text-align: right;\n",
              "    }\n",
              "</style>\n",
              "<table border=\"1\" class=\"dataframe\">\n",
              "  <thead>\n",
              "    <tr style=\"text-align: right;\">\n",
              "      <th></th>\n",
              "      <th>id</th>\n",
              "      <th>keyword</th>\n",
              "      <th>location</th>\n",
              "      <th>text</th>\n",
              "    </tr>\n",
              "  </thead>\n",
              "  <tbody>\n",
              "    <tr>\n",
              "      <th>0</th>\n",
              "      <td>0</td>\n",
              "      <td>NaN</td>\n",
              "      <td>NaN</td>\n",
              "      <td>Just happened a terrible car crash</td>\n",
              "    </tr>\n",
              "    <tr>\n",
              "      <th>1</th>\n",
              "      <td>2</td>\n",
              "      <td>NaN</td>\n",
              "      <td>NaN</td>\n",
              "      <td>Heard about #earthquake is different cities, s...</td>\n",
              "    </tr>\n",
              "    <tr>\n",
              "      <th>2</th>\n",
              "      <td>3</td>\n",
              "      <td>NaN</td>\n",
              "      <td>NaN</td>\n",
              "      <td>there is a forest fire at spot pond, geese are...</td>\n",
              "    </tr>\n",
              "    <tr>\n",
              "      <th>3</th>\n",
              "      <td>9</td>\n",
              "      <td>NaN</td>\n",
              "      <td>NaN</td>\n",
              "      <td>Apocalypse lighting. #Spokane #wildfires</td>\n",
              "    </tr>\n",
              "    <tr>\n",
              "      <th>4</th>\n",
              "      <td>11</td>\n",
              "      <td>NaN</td>\n",
              "      <td>NaN</td>\n",
              "      <td>Typhoon Soudelor kills 28 in China and Taiwan</td>\n",
              "    </tr>\n",
              "    <tr>\n",
              "      <th>...</th>\n",
              "      <td>...</td>\n",
              "      <td>...</td>\n",
              "      <td>...</td>\n",
              "      <td>...</td>\n",
              "    </tr>\n",
              "    <tr>\n",
              "      <th>3258</th>\n",
              "      <td>10861</td>\n",
              "      <td>NaN</td>\n",
              "      <td>NaN</td>\n",
              "      <td>EARTHQUAKE SAFETY LOS ANGELES ÛÒ SAFETY FASTE...</td>\n",
              "    </tr>\n",
              "    <tr>\n",
              "      <th>3259</th>\n",
              "      <td>10865</td>\n",
              "      <td>NaN</td>\n",
              "      <td>NaN</td>\n",
              "      <td>Storm in RI worse than last hurricane. My city...</td>\n",
              "    </tr>\n",
              "    <tr>\n",
              "      <th>3260</th>\n",
              "      <td>10868</td>\n",
              "      <td>NaN</td>\n",
              "      <td>NaN</td>\n",
              "      <td>Green Line derailment in Chicago http://t.co/U...</td>\n",
              "    </tr>\n",
              "    <tr>\n",
              "      <th>3261</th>\n",
              "      <td>10874</td>\n",
              "      <td>NaN</td>\n",
              "      <td>NaN</td>\n",
              "      <td>MEG issues Hazardous Weather Outlook (HWO) htt...</td>\n",
              "    </tr>\n",
              "    <tr>\n",
              "      <th>3262</th>\n",
              "      <td>10875</td>\n",
              "      <td>NaN</td>\n",
              "      <td>NaN</td>\n",
              "      <td>#CityofCalgary has activated its Municipal Eme...</td>\n",
              "    </tr>\n",
              "  </tbody>\n",
              "</table>\n",
              "<p>3263 rows × 4 columns</p>\n",
              "</div>\n",
              "      <button class=\"colab-df-convert\" onclick=\"convertToInteractive('df-1a4b36f5-ae1f-4d20-bb3f-066833cf564d')\"\n",
              "              title=\"Convert this dataframe to an interactive table.\"\n",
              "              style=\"display:none;\">\n",
              "        \n",
              "  <svg xmlns=\"http://www.w3.org/2000/svg\" height=\"24px\"viewBox=\"0 0 24 24\"\n",
              "       width=\"24px\">\n",
              "    <path d=\"M0 0h24v24H0V0z\" fill=\"none\"/>\n",
              "    <path d=\"M18.56 5.44l.94 2.06.94-2.06 2.06-.94-2.06-.94-.94-2.06-.94 2.06-2.06.94zm-11 1L8.5 8.5l.94-2.06 2.06-.94-2.06-.94L8.5 2.5l-.94 2.06-2.06.94zm10 10l.94 2.06.94-2.06 2.06-.94-2.06-.94-.94-2.06-.94 2.06-2.06.94z\"/><path d=\"M17.41 7.96l-1.37-1.37c-.4-.4-.92-.59-1.43-.59-.52 0-1.04.2-1.43.59L10.3 9.45l-7.72 7.72c-.78.78-.78 2.05 0 2.83L4 21.41c.39.39.9.59 1.41.59.51 0 1.02-.2 1.41-.59l7.78-7.78 2.81-2.81c.8-.78.8-2.07 0-2.86zM5.41 20L4 18.59l7.72-7.72 1.47 1.35L5.41 20z\"/>\n",
              "  </svg>\n",
              "      </button>\n",
              "      \n",
              "  <style>\n",
              "    .colab-df-container {\n",
              "      display:flex;\n",
              "      flex-wrap:wrap;\n",
              "      gap: 12px;\n",
              "    }\n",
              "\n",
              "    .colab-df-convert {\n",
              "      background-color: #E8F0FE;\n",
              "      border: none;\n",
              "      border-radius: 50%;\n",
              "      cursor: pointer;\n",
              "      display: none;\n",
              "      fill: #1967D2;\n",
              "      height: 32px;\n",
              "      padding: 0 0 0 0;\n",
              "      width: 32px;\n",
              "    }\n",
              "\n",
              "    .colab-df-convert:hover {\n",
              "      background-color: #E2EBFA;\n",
              "      box-shadow: 0px 1px 2px rgba(60, 64, 67, 0.3), 0px 1px 3px 1px rgba(60, 64, 67, 0.15);\n",
              "      fill: #174EA6;\n",
              "    }\n",
              "\n",
              "    [theme=dark] .colab-df-convert {\n",
              "      background-color: #3B4455;\n",
              "      fill: #D2E3FC;\n",
              "    }\n",
              "\n",
              "    [theme=dark] .colab-df-convert:hover {\n",
              "      background-color: #434B5C;\n",
              "      box-shadow: 0px 1px 3px 1px rgba(0, 0, 0, 0.15);\n",
              "      filter: drop-shadow(0px 1px 2px rgba(0, 0, 0, 0.3));\n",
              "      fill: #FFFFFF;\n",
              "    }\n",
              "  </style>\n",
              "\n",
              "      <script>\n",
              "        const buttonEl =\n",
              "          document.querySelector('#df-1a4b36f5-ae1f-4d20-bb3f-066833cf564d button.colab-df-convert');\n",
              "        buttonEl.style.display =\n",
              "          google.colab.kernel.accessAllowed ? 'block' : 'none';\n",
              "\n",
              "        async function convertToInteractive(key) {\n",
              "          const element = document.querySelector('#df-1a4b36f5-ae1f-4d20-bb3f-066833cf564d');\n",
              "          const dataTable =\n",
              "            await google.colab.kernel.invokeFunction('convertToInteractive',\n",
              "                                                     [key], {});\n",
              "          if (!dataTable) return;\n",
              "\n",
              "          const docLinkHtml = 'Like what you see? Visit the ' +\n",
              "            '<a target=\"_blank\" href=https://colab.research.google.com/notebooks/data_table.ipynb>data table notebook</a>'\n",
              "            + ' to learn more about interactive tables.';\n",
              "          element.innerHTML = '';\n",
              "          dataTable['output_type'] = 'display_data';\n",
              "          await google.colab.output.renderOutput(dataTable, element);\n",
              "          const docLink = document.createElement('div');\n",
              "          docLink.innerHTML = docLinkHtml;\n",
              "          element.appendChild(docLink);\n",
              "        }\n",
              "      </script>\n",
              "    </div>\n",
              "  </div>\n",
              "  "
            ]
          },
          "metadata": {},
          "execution_count": 29
        }
      ]
    },
    {
      "cell_type": "code",
      "source": [
        "#Remove id column\n",
        "test = test.iloc[:,1:]\n",
        "test"
      ],
      "metadata": {
        "id": "GgxNjgJfIwF7",
        "colab": {
          "base_uri": "https://localhost:8080/"
        },
        "outputId": "4e703a0f-fede-423e-8a09-4123e37776b9"
      },
      "execution_count": null,
      "outputs": [
        {
          "output_type": "execute_result",
          "data": {
            "text/plain": [
              "     keyword location                                               text\n",
              "0        NaN      NaN                 Just happened a terrible car crash\n",
              "1        NaN      NaN  Heard about #earthquake is different cities, s...\n",
              "2        NaN      NaN  there is a forest fire at spot pond, geese are...\n",
              "3        NaN      NaN           Apocalypse lighting. #Spokane #wildfires\n",
              "4        NaN      NaN      Typhoon Soudelor kills 28 in China and Taiwan\n",
              "...      ...      ...                                                ...\n",
              "3258     NaN      NaN  EARTHQUAKE SAFETY LOS ANGELES ÛÒ SAFETY FASTE...\n",
              "3259     NaN      NaN  Storm in RI worse than last hurricane. My city...\n",
              "3260     NaN      NaN  Green Line derailment in Chicago http://t.co/U...\n",
              "3261     NaN      NaN  MEG issues Hazardous Weather Outlook (HWO) htt...\n",
              "3262     NaN      NaN  #CityofCalgary has activated its Municipal Eme...\n",
              "\n",
              "[3263 rows x 3 columns]"
            ],
            "text/html": [
              "\n",
              "  <div id=\"df-aff94873-2549-4258-bb79-d275c61b8aab\">\n",
              "    <div class=\"colab-df-container\">\n",
              "      <div>\n",
              "<style scoped>\n",
              "    .dataframe tbody tr th:only-of-type {\n",
              "        vertical-align: middle;\n",
              "    }\n",
              "\n",
              "    .dataframe tbody tr th {\n",
              "        vertical-align: top;\n",
              "    }\n",
              "\n",
              "    .dataframe thead th {\n",
              "        text-align: right;\n",
              "    }\n",
              "</style>\n",
              "<table border=\"1\" class=\"dataframe\">\n",
              "  <thead>\n",
              "    <tr style=\"text-align: right;\">\n",
              "      <th></th>\n",
              "      <th>keyword</th>\n",
              "      <th>location</th>\n",
              "      <th>text</th>\n",
              "    </tr>\n",
              "  </thead>\n",
              "  <tbody>\n",
              "    <tr>\n",
              "      <th>0</th>\n",
              "      <td>NaN</td>\n",
              "      <td>NaN</td>\n",
              "      <td>Just happened a terrible car crash</td>\n",
              "    </tr>\n",
              "    <tr>\n",
              "      <th>1</th>\n",
              "      <td>NaN</td>\n",
              "      <td>NaN</td>\n",
              "      <td>Heard about #earthquake is different cities, s...</td>\n",
              "    </tr>\n",
              "    <tr>\n",
              "      <th>2</th>\n",
              "      <td>NaN</td>\n",
              "      <td>NaN</td>\n",
              "      <td>there is a forest fire at spot pond, geese are...</td>\n",
              "    </tr>\n",
              "    <tr>\n",
              "      <th>3</th>\n",
              "      <td>NaN</td>\n",
              "      <td>NaN</td>\n",
              "      <td>Apocalypse lighting. #Spokane #wildfires</td>\n",
              "    </tr>\n",
              "    <tr>\n",
              "      <th>4</th>\n",
              "      <td>NaN</td>\n",
              "      <td>NaN</td>\n",
              "      <td>Typhoon Soudelor kills 28 in China and Taiwan</td>\n",
              "    </tr>\n",
              "    <tr>\n",
              "      <th>...</th>\n",
              "      <td>...</td>\n",
              "      <td>...</td>\n",
              "      <td>...</td>\n",
              "    </tr>\n",
              "    <tr>\n",
              "      <th>3258</th>\n",
              "      <td>NaN</td>\n",
              "      <td>NaN</td>\n",
              "      <td>EARTHQUAKE SAFETY LOS ANGELES ÛÒ SAFETY FASTE...</td>\n",
              "    </tr>\n",
              "    <tr>\n",
              "      <th>3259</th>\n",
              "      <td>NaN</td>\n",
              "      <td>NaN</td>\n",
              "      <td>Storm in RI worse than last hurricane. My city...</td>\n",
              "    </tr>\n",
              "    <tr>\n",
              "      <th>3260</th>\n",
              "      <td>NaN</td>\n",
              "      <td>NaN</td>\n",
              "      <td>Green Line derailment in Chicago http://t.co/U...</td>\n",
              "    </tr>\n",
              "    <tr>\n",
              "      <th>3261</th>\n",
              "      <td>NaN</td>\n",
              "      <td>NaN</td>\n",
              "      <td>MEG issues Hazardous Weather Outlook (HWO) htt...</td>\n",
              "    </tr>\n",
              "    <tr>\n",
              "      <th>3262</th>\n",
              "      <td>NaN</td>\n",
              "      <td>NaN</td>\n",
              "      <td>#CityofCalgary has activated its Municipal Eme...</td>\n",
              "    </tr>\n",
              "  </tbody>\n",
              "</table>\n",
              "<p>3263 rows × 3 columns</p>\n",
              "</div>\n",
              "      <button class=\"colab-df-convert\" onclick=\"convertToInteractive('df-aff94873-2549-4258-bb79-d275c61b8aab')\"\n",
              "              title=\"Convert this dataframe to an interactive table.\"\n",
              "              style=\"display:none;\">\n",
              "        \n",
              "  <svg xmlns=\"http://www.w3.org/2000/svg\" height=\"24px\"viewBox=\"0 0 24 24\"\n",
              "       width=\"24px\">\n",
              "    <path d=\"M0 0h24v24H0V0z\" fill=\"none\"/>\n",
              "    <path d=\"M18.56 5.44l.94 2.06.94-2.06 2.06-.94-2.06-.94-.94-2.06-.94 2.06-2.06.94zm-11 1L8.5 8.5l.94-2.06 2.06-.94-2.06-.94L8.5 2.5l-.94 2.06-2.06.94zm10 10l.94 2.06.94-2.06 2.06-.94-2.06-.94-.94-2.06-.94 2.06-2.06.94z\"/><path d=\"M17.41 7.96l-1.37-1.37c-.4-.4-.92-.59-1.43-.59-.52 0-1.04.2-1.43.59L10.3 9.45l-7.72 7.72c-.78.78-.78 2.05 0 2.83L4 21.41c.39.39.9.59 1.41.59.51 0 1.02-.2 1.41-.59l7.78-7.78 2.81-2.81c.8-.78.8-2.07 0-2.86zM5.41 20L4 18.59l7.72-7.72 1.47 1.35L5.41 20z\"/>\n",
              "  </svg>\n",
              "      </button>\n",
              "      \n",
              "  <style>\n",
              "    .colab-df-container {\n",
              "      display:flex;\n",
              "      flex-wrap:wrap;\n",
              "      gap: 12px;\n",
              "    }\n",
              "\n",
              "    .colab-df-convert {\n",
              "      background-color: #E8F0FE;\n",
              "      border: none;\n",
              "      border-radius: 50%;\n",
              "      cursor: pointer;\n",
              "      display: none;\n",
              "      fill: #1967D2;\n",
              "      height: 32px;\n",
              "      padding: 0 0 0 0;\n",
              "      width: 32px;\n",
              "    }\n",
              "\n",
              "    .colab-df-convert:hover {\n",
              "      background-color: #E2EBFA;\n",
              "      box-shadow: 0px 1px 2px rgba(60, 64, 67, 0.3), 0px 1px 3px 1px rgba(60, 64, 67, 0.15);\n",
              "      fill: #174EA6;\n",
              "    }\n",
              "\n",
              "    [theme=dark] .colab-df-convert {\n",
              "      background-color: #3B4455;\n",
              "      fill: #D2E3FC;\n",
              "    }\n",
              "\n",
              "    [theme=dark] .colab-df-convert:hover {\n",
              "      background-color: #434B5C;\n",
              "      box-shadow: 0px 1px 3px 1px rgba(0, 0, 0, 0.15);\n",
              "      filter: drop-shadow(0px 1px 2px rgba(0, 0, 0, 0.3));\n",
              "      fill: #FFFFFF;\n",
              "    }\n",
              "  </style>\n",
              "\n",
              "      <script>\n",
              "        const buttonEl =\n",
              "          document.querySelector('#df-aff94873-2549-4258-bb79-d275c61b8aab button.colab-df-convert');\n",
              "        buttonEl.style.display =\n",
              "          google.colab.kernel.accessAllowed ? 'block' : 'none';\n",
              "\n",
              "        async function convertToInteractive(key) {\n",
              "          const element = document.querySelector('#df-aff94873-2549-4258-bb79-d275c61b8aab');\n",
              "          const dataTable =\n",
              "            await google.colab.kernel.invokeFunction('convertToInteractive',\n",
              "                                                     [key], {});\n",
              "          if (!dataTable) return;\n",
              "\n",
              "          const docLinkHtml = 'Like what you see? Visit the ' +\n",
              "            '<a target=\"_blank\" href=https://colab.research.google.com/notebooks/data_table.ipynb>data table notebook</a>'\n",
              "            + ' to learn more about interactive tables.';\n",
              "          element.innerHTML = '';\n",
              "          dataTable['output_type'] = 'display_data';\n",
              "          await google.colab.output.renderOutput(dataTable, element);\n",
              "          const docLink = document.createElement('div');\n",
              "          docLink.innerHTML = docLinkHtml;\n",
              "          element.appendChild(docLink);\n",
              "        }\n",
              "      </script>\n",
              "    </div>\n",
              "  </div>\n",
              "  "
            ]
          },
          "metadata": {},
          "execution_count": 30
        }
      ]
    },
    {
      "cell_type": "code",
      "source": [
        "#generate features from tweets in testing data\n",
        "test_tweets = test[\"text\"]\n",
        "test_tweets"
      ],
      "metadata": {
        "id": "g-vJn8rFI-CE",
        "colab": {
          "base_uri": "https://localhost:8080/"
        },
        "outputId": "23a56a10-ebb0-4142-a316-bef098fff187"
      },
      "execution_count": null,
      "outputs": [
        {
          "output_type": "execute_result",
          "data": {
            "text/plain": [
              "0                      Just happened a terrible car crash\n",
              "1       Heard about #earthquake is different cities, s...\n",
              "2       there is a forest fire at spot pond, geese are...\n",
              "3                Apocalypse lighting. #Spokane #wildfires\n",
              "4           Typhoon Soudelor kills 28 in China and Taiwan\n",
              "                              ...                        \n",
              "3258    EARTHQUAKE SAFETY LOS ANGELES ÛÒ SAFETY FASTE...\n",
              "3259    Storm in RI worse than last hurricane. My city...\n",
              "3260    Green Line derailment in Chicago http://t.co/U...\n",
              "3261    MEG issues Hazardous Weather Outlook (HWO) htt...\n",
              "3262    #CityofCalgary has activated its Municipal Eme...\n",
              "Name: text, Length: 3263, dtype: object"
            ]
          },
          "metadata": {},
          "execution_count": 31
        }
      ]
    },
    {
      "cell_type": "code",
      "source": [
        "#remove hyperlinks\n",
        "test_tweets = test_tweets.str.replace(r'http\\S+', ' ')\n",
        "#remove punctuations\n",
        "test_tweets = test_tweets.str.replace(r'[^\\w\\d\\s]',' ')\n",
        "#lower text\n",
        "test_tweets = test_tweets.str.lower()\n",
        "#removing common words\n",
        "test_tweets = test_tweets.apply(lambda x: \" \".join(word for word in x.split()\n",
        "                                          if word not in stop_words))\n",
        "#Remove affixes to give stems using Porter Stemmer\n",
        "test_tweets = test_tweets.apply(lambda x: ' '.join(ps.stem(word)\n",
        "                      for word in x.split()))\n",
        "test_tweets"
      ],
      "metadata": {
        "id": "SwunodnBJTFS",
        "colab": {
          "base_uri": "https://localhost:8080/"
        },
        "outputId": "1807b01d-da86-4205-b370-7afa7f3cab58"
      },
      "execution_count": null,
      "outputs": [
        {
          "output_type": "stream",
          "name": "stderr",
          "text": [
            "/usr/local/lib/python3.7/dist-packages/ipykernel_launcher.py:2: FutureWarning: The default value of regex will change from True to False in a future version.\n",
            "  \n",
            "/usr/local/lib/python3.7/dist-packages/ipykernel_launcher.py:4: FutureWarning: The default value of regex will change from True to False in a future version.\n",
            "  after removing the cwd from sys.path.\n"
          ]
        },
        {
          "output_type": "execute_result",
          "data": {
            "text/plain": [
              "0                                happen terribl car crash\n",
              "1           heard earthquak differ citi stay safe everyon\n",
              "2       forest fire spot pond gees flee across street ...\n",
              "3                          apocalyps light spokan wildfir\n",
              "4                   typhoon soudelor kill 28 china taiwan\n",
              "                              ...                        \n",
              "3258      earthquak safeti lo angel ûò safeti fasten xrwn\n",
              "3259    storm ri wors last hurrican citi amp 3other ha...\n",
              "3260                            green line derail chicago\n",
              "3261                  meg issu hazard weather outlook hwo\n",
              "3262      cityofcalgari activ municip emerg plan yycstorm\n",
              "Name: text, Length: 3263, dtype: object"
            ]
          },
          "metadata": {},
          "execution_count": 32
        }
      ]
    },
    {
      "cell_type": "code",
      "source": [
        "#apply the learning on train set test_tweets and transform into test_vectors(tX)\n",
        "tX = vect.transform(test_tweets)\n",
        "print(vect.get_feature_names_out())\n",
        "print(len(vect.get_feature_names()))"
      ],
      "metadata": {
        "id": "-TBq8wNBKu5L",
        "colab": {
          "base_uri": "https://localhost:8080/"
        },
        "outputId": "2ac56eac-103e-4744-a769-52f7930d5880"
      },
      "execution_count": null,
      "outputs": [
        {
          "output_type": "stream",
          "name": "stdout",
          "text": [
            "['00' '000' '0000' ... 'ûó' 'ûóher' 'ûóneglig']\n",
            "10883\n"
          ]
        },
        {
          "output_type": "stream",
          "name": "stderr",
          "text": [
            "/usr/local/lib/python3.7/dist-packages/sklearn/utils/deprecation.py:87: FutureWarning: Function get_feature_names is deprecated; get_feature_names is deprecated in 1.0 and will be removed in 1.2. Please use get_feature_names_out instead.\n",
            "  warnings.warn(msg, category=FutureWarning)\n"
          ]
        }
      ]
    },
    {
      "cell_type": "code",
      "source": [
        "tX.toarray()"
      ],
      "metadata": {
        "id": "ymyXeH7oLS4I",
        "colab": {
          "base_uri": "https://localhost:8080/"
        },
        "outputId": "bc5e10ca-9b48-4811-98f1-016694d0b953"
      },
      "execution_count": null,
      "outputs": [
        {
          "output_type": "execute_result",
          "data": {
            "text/plain": [
              "array([[0, 0, 0, ..., 0, 0, 0],\n",
              "       [0, 0, 0, ..., 0, 0, 0],\n",
              "       [0, 0, 0, ..., 0, 0, 0],\n",
              "       ...,\n",
              "       [0, 0, 0, ..., 0, 0, 0],\n",
              "       [0, 0, 0, ..., 0, 0, 0],\n",
              "       [0, 0, 0, ..., 0, 0, 0]])"
            ]
          },
          "metadata": {},
          "execution_count": 34
        }
      ]
    },
    {
      "cell_type": "code",
      "source": [
        "testing_prediction = cls.predict(tX)"
      ],
      "metadata": {
        "id": "r_IYoE8kMBW0"
      },
      "execution_count": null,
      "outputs": []
    },
    {
      "cell_type": "code",
      "source": [
        "testing_prediction"
      ],
      "metadata": {
        "id": "1mrqPzGqMLZj",
        "colab": {
          "base_uri": "https://localhost:8080/"
        },
        "outputId": "1217c8d9-f036-43e2-a754-7ceca2847fa5"
      },
      "execution_count": null,
      "outputs": [
        {
          "output_type": "execute_result",
          "data": {
            "text/plain": [
              "array([0, 1, 1, ..., 1, 1, 0])"
            ]
          },
          "metadata": {},
          "execution_count": 36
        }
      ]
    },
    {
      "cell_type": "code",
      "source": [
        "test['testing_prediction'] = testing_prediction.tolist()\n",
        "test"
      ],
      "metadata": {
        "id": "YI-JLaNUMLWL",
        "colab": {
          "base_uri": "https://localhost:8080/"
        },
        "outputId": "bc57dbc1-a6af-4573-e2ae-30a88c484551"
      },
      "execution_count": null,
      "outputs": [
        {
          "output_type": "execute_result",
          "data": {
            "text/plain": [
              "     keyword location                                               text  \\\n",
              "0        NaN      NaN                 Just happened a terrible car crash   \n",
              "1        NaN      NaN  Heard about #earthquake is different cities, s...   \n",
              "2        NaN      NaN  there is a forest fire at spot pond, geese are...   \n",
              "3        NaN      NaN           Apocalypse lighting. #Spokane #wildfires   \n",
              "4        NaN      NaN      Typhoon Soudelor kills 28 in China and Taiwan   \n",
              "...      ...      ...                                                ...   \n",
              "3258     NaN      NaN  EARTHQUAKE SAFETY LOS ANGELES ÛÒ SAFETY FASTE...   \n",
              "3259     NaN      NaN  Storm in RI worse than last hurricane. My city...   \n",
              "3260     NaN      NaN  Green Line derailment in Chicago http://t.co/U...   \n",
              "3261     NaN      NaN  MEG issues Hazardous Weather Outlook (HWO) htt...   \n",
              "3262     NaN      NaN  #CityofCalgary has activated its Municipal Eme...   \n",
              "\n",
              "      testing_prediction  \n",
              "0                      0  \n",
              "1                      1  \n",
              "2                      1  \n",
              "3                      1  \n",
              "4                      1  \n",
              "...                  ...  \n",
              "3258                   0  \n",
              "3259                   1  \n",
              "3260                   1  \n",
              "3261                   1  \n",
              "3262                   0  \n",
              "\n",
              "[3263 rows x 4 columns]"
            ],
            "text/html": [
              "\n",
              "  <div id=\"df-c9b573ab-8104-4316-8e9f-279f571f7ec6\">\n",
              "    <div class=\"colab-df-container\">\n",
              "      <div>\n",
              "<style scoped>\n",
              "    .dataframe tbody tr th:only-of-type {\n",
              "        vertical-align: middle;\n",
              "    }\n",
              "\n",
              "    .dataframe tbody tr th {\n",
              "        vertical-align: top;\n",
              "    }\n",
              "\n",
              "    .dataframe thead th {\n",
              "        text-align: right;\n",
              "    }\n",
              "</style>\n",
              "<table border=\"1\" class=\"dataframe\">\n",
              "  <thead>\n",
              "    <tr style=\"text-align: right;\">\n",
              "      <th></th>\n",
              "      <th>keyword</th>\n",
              "      <th>location</th>\n",
              "      <th>text</th>\n",
              "      <th>testing_prediction</th>\n",
              "    </tr>\n",
              "  </thead>\n",
              "  <tbody>\n",
              "    <tr>\n",
              "      <th>0</th>\n",
              "      <td>NaN</td>\n",
              "      <td>NaN</td>\n",
              "      <td>Just happened a terrible car crash</td>\n",
              "      <td>0</td>\n",
              "    </tr>\n",
              "    <tr>\n",
              "      <th>1</th>\n",
              "      <td>NaN</td>\n",
              "      <td>NaN</td>\n",
              "      <td>Heard about #earthquake is different cities, s...</td>\n",
              "      <td>1</td>\n",
              "    </tr>\n",
              "    <tr>\n",
              "      <th>2</th>\n",
              "      <td>NaN</td>\n",
              "      <td>NaN</td>\n",
              "      <td>there is a forest fire at spot pond, geese are...</td>\n",
              "      <td>1</td>\n",
              "    </tr>\n",
              "    <tr>\n",
              "      <th>3</th>\n",
              "      <td>NaN</td>\n",
              "      <td>NaN</td>\n",
              "      <td>Apocalypse lighting. #Spokane #wildfires</td>\n",
              "      <td>1</td>\n",
              "    </tr>\n",
              "    <tr>\n",
              "      <th>4</th>\n",
              "      <td>NaN</td>\n",
              "      <td>NaN</td>\n",
              "      <td>Typhoon Soudelor kills 28 in China and Taiwan</td>\n",
              "      <td>1</td>\n",
              "    </tr>\n",
              "    <tr>\n",
              "      <th>...</th>\n",
              "      <td>...</td>\n",
              "      <td>...</td>\n",
              "      <td>...</td>\n",
              "      <td>...</td>\n",
              "    </tr>\n",
              "    <tr>\n",
              "      <th>3258</th>\n",
              "      <td>NaN</td>\n",
              "      <td>NaN</td>\n",
              "      <td>EARTHQUAKE SAFETY LOS ANGELES ÛÒ SAFETY FASTE...</td>\n",
              "      <td>0</td>\n",
              "    </tr>\n",
              "    <tr>\n",
              "      <th>3259</th>\n",
              "      <td>NaN</td>\n",
              "      <td>NaN</td>\n",
              "      <td>Storm in RI worse than last hurricane. My city...</td>\n",
              "      <td>1</td>\n",
              "    </tr>\n",
              "    <tr>\n",
              "      <th>3260</th>\n",
              "      <td>NaN</td>\n",
              "      <td>NaN</td>\n",
              "      <td>Green Line derailment in Chicago http://t.co/U...</td>\n",
              "      <td>1</td>\n",
              "    </tr>\n",
              "    <tr>\n",
              "      <th>3261</th>\n",
              "      <td>NaN</td>\n",
              "      <td>NaN</td>\n",
              "      <td>MEG issues Hazardous Weather Outlook (HWO) htt...</td>\n",
              "      <td>1</td>\n",
              "    </tr>\n",
              "    <tr>\n",
              "      <th>3262</th>\n",
              "      <td>NaN</td>\n",
              "      <td>NaN</td>\n",
              "      <td>#CityofCalgary has activated its Municipal Eme...</td>\n",
              "      <td>0</td>\n",
              "    </tr>\n",
              "  </tbody>\n",
              "</table>\n",
              "<p>3263 rows × 4 columns</p>\n",
              "</div>\n",
              "      <button class=\"colab-df-convert\" onclick=\"convertToInteractive('df-c9b573ab-8104-4316-8e9f-279f571f7ec6')\"\n",
              "              title=\"Convert this dataframe to an interactive table.\"\n",
              "              style=\"display:none;\">\n",
              "        \n",
              "  <svg xmlns=\"http://www.w3.org/2000/svg\" height=\"24px\"viewBox=\"0 0 24 24\"\n",
              "       width=\"24px\">\n",
              "    <path d=\"M0 0h24v24H0V0z\" fill=\"none\"/>\n",
              "    <path d=\"M18.56 5.44l.94 2.06.94-2.06 2.06-.94-2.06-.94-.94-2.06-.94 2.06-2.06.94zm-11 1L8.5 8.5l.94-2.06 2.06-.94-2.06-.94L8.5 2.5l-.94 2.06-2.06.94zm10 10l.94 2.06.94-2.06 2.06-.94-2.06-.94-.94-2.06-.94 2.06-2.06.94z\"/><path d=\"M17.41 7.96l-1.37-1.37c-.4-.4-.92-.59-1.43-.59-.52 0-1.04.2-1.43.59L10.3 9.45l-7.72 7.72c-.78.78-.78 2.05 0 2.83L4 21.41c.39.39.9.59 1.41.59.51 0 1.02-.2 1.41-.59l7.78-7.78 2.81-2.81c.8-.78.8-2.07 0-2.86zM5.41 20L4 18.59l7.72-7.72 1.47 1.35L5.41 20z\"/>\n",
              "  </svg>\n",
              "      </button>\n",
              "      \n",
              "  <style>\n",
              "    .colab-df-container {\n",
              "      display:flex;\n",
              "      flex-wrap:wrap;\n",
              "      gap: 12px;\n",
              "    }\n",
              "\n",
              "    .colab-df-convert {\n",
              "      background-color: #E8F0FE;\n",
              "      border: none;\n",
              "      border-radius: 50%;\n",
              "      cursor: pointer;\n",
              "      display: none;\n",
              "      fill: #1967D2;\n",
              "      height: 32px;\n",
              "      padding: 0 0 0 0;\n",
              "      width: 32px;\n",
              "    }\n",
              "\n",
              "    .colab-df-convert:hover {\n",
              "      background-color: #E2EBFA;\n",
              "      box-shadow: 0px 1px 2px rgba(60, 64, 67, 0.3), 0px 1px 3px 1px rgba(60, 64, 67, 0.15);\n",
              "      fill: #174EA6;\n",
              "    }\n",
              "\n",
              "    [theme=dark] .colab-df-convert {\n",
              "      background-color: #3B4455;\n",
              "      fill: #D2E3FC;\n",
              "    }\n",
              "\n",
              "    [theme=dark] .colab-df-convert:hover {\n",
              "      background-color: #434B5C;\n",
              "      box-shadow: 0px 1px 3px 1px rgba(0, 0, 0, 0.15);\n",
              "      filter: drop-shadow(0px 1px 2px rgba(0, 0, 0, 0.3));\n",
              "      fill: #FFFFFF;\n",
              "    }\n",
              "  </style>\n",
              "\n",
              "      <script>\n",
              "        const buttonEl =\n",
              "          document.querySelector('#df-c9b573ab-8104-4316-8e9f-279f571f7ec6 button.colab-df-convert');\n",
              "        buttonEl.style.display =\n",
              "          google.colab.kernel.accessAllowed ? 'block' : 'none';\n",
              "\n",
              "        async function convertToInteractive(key) {\n",
              "          const element = document.querySelector('#df-c9b573ab-8104-4316-8e9f-279f571f7ec6');\n",
              "          const dataTable =\n",
              "            await google.colab.kernel.invokeFunction('convertToInteractive',\n",
              "                                                     [key], {});\n",
              "          if (!dataTable) return;\n",
              "\n",
              "          const docLinkHtml = 'Like what you see? Visit the ' +\n",
              "            '<a target=\"_blank\" href=https://colab.research.google.com/notebooks/data_table.ipynb>data table notebook</a>'\n",
              "            + ' to learn more about interactive tables.';\n",
              "          element.innerHTML = '';\n",
              "          dataTable['output_type'] = 'display_data';\n",
              "          await google.colab.output.renderOutput(dataTable, element);\n",
              "          const docLink = document.createElement('div');\n",
              "          docLink.innerHTML = docLinkHtml;\n",
              "          element.appendChild(docLink);\n",
              "        }\n",
              "      </script>\n",
              "    </div>\n",
              "  </div>\n",
              "  "
            ]
          },
          "metadata": {},
          "execution_count": 37
        }
      ]
    },
    {
      "cell_type": "markdown",
      "source": [
        "#References"
      ],
      "metadata": {
        "id": "9tHV8kSkXMrK"
      }
    },
    {
      "cell_type": "markdown",
      "source": [
        "http://education.abcom.com/fake-news-classifier/"
      ],
      "metadata": {
        "id": "0yYHtYT4XTwF"
      }
    }
  ]
}