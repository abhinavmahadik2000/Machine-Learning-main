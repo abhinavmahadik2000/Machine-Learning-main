{
 "cells": [
  {
   "cell_type": "markdown",
   "id": "9d96a5b1",
   "metadata": {},
   "source": [
    "Abhinav Mahadik"
   ]
  },
  {
   "cell_type": "code",
   "execution_count": 3,
   "id": "2a04d805",
   "metadata": {},
   "outputs": [],
   "source": [
    "import pandas as pd\n",
    "import numpy as np\n",
    "import matplotlib.pyplot as plt\n",
    "from sklearn import datasets\n",
    "from sklearn.model_selection import train_test_split\n",
    "from sklearn.metrics import accuracy_score\n",
    "from scipy.stats import multivariate_normal"
   ]
  },
  {
   "cell_type": "markdown",
   "id": "53928331",
   "metadata": {},
   "source": [
    "# 1. The Iris Dataset"
   ]
  },
  {
   "cell_type": "markdown",
   "id": "16b63cf5",
   "metadata": {},
   "source": [
    "## 1.1 Preparing the dataset"
   ]
  },
  {
   "cell_type": "code",
   "execution_count": 2,
   "id": "bcb01862",
   "metadata": {},
   "outputs": [],
   "source": [
    "# import the iris dataset\n",
    "data = datasets.load_iris()"
   ]
  },
  {
   "cell_type": "code",
   "execution_count": 5,
   "id": "6ac2fa67",
   "metadata": {},
   "outputs": [
    {
     "data": {
      "text/plain": [
       "{'data': array([[5.1, 3.5, 1.4, 0.2],\n",
       "        [4.9, 3. , 1.4, 0.2],\n",
       "        [4.7, 3.2, 1.3, 0.2],\n",
       "        [4.6, 3.1, 1.5, 0.2],\n",
       "        [5. , 3.6, 1.4, 0.2],\n",
       "        [5.4, 3.9, 1.7, 0.4],\n",
       "        [4.6, 3.4, 1.4, 0.3],\n",
       "        [5. , 3.4, 1.5, 0.2],\n",
       "        [4.4, 2.9, 1.4, 0.2],\n",
       "        [4.9, 3.1, 1.5, 0.1],\n",
       "        [5.4, 3.7, 1.5, 0.2],\n",
       "        [4.8, 3.4, 1.6, 0.2],\n",
       "        [4.8, 3. , 1.4, 0.1],\n",
       "        [4.3, 3. , 1.1, 0.1],\n",
       "        [5.8, 4. , 1.2, 0.2],\n",
       "        [5.7, 4.4, 1.5, 0.4],\n",
       "        [5.4, 3.9, 1.3, 0.4],\n",
       "        [5.1, 3.5, 1.4, 0.3],\n",
       "        [5.7, 3.8, 1.7, 0.3],\n",
       "        [5.1, 3.8, 1.5, 0.3],\n",
       "        [5.4, 3.4, 1.7, 0.2],\n",
       "        [5.1, 3.7, 1.5, 0.4],\n",
       "        [4.6, 3.6, 1. , 0.2],\n",
       "        [5.1, 3.3, 1.7, 0.5],\n",
       "        [4.8, 3.4, 1.9, 0.2],\n",
       "        [5. , 3. , 1.6, 0.2],\n",
       "        [5. , 3.4, 1.6, 0.4],\n",
       "        [5.2, 3.5, 1.5, 0.2],\n",
       "        [5.2, 3.4, 1.4, 0.2],\n",
       "        [4.7, 3.2, 1.6, 0.2],\n",
       "        [4.8, 3.1, 1.6, 0.2],\n",
       "        [5.4, 3.4, 1.5, 0.4],\n",
       "        [5.2, 4.1, 1.5, 0.1],\n",
       "        [5.5, 4.2, 1.4, 0.2],\n",
       "        [4.9, 3.1, 1.5, 0.2],\n",
       "        [5. , 3.2, 1.2, 0.2],\n",
       "        [5.5, 3.5, 1.3, 0.2],\n",
       "        [4.9, 3.6, 1.4, 0.1],\n",
       "        [4.4, 3. , 1.3, 0.2],\n",
       "        [5.1, 3.4, 1.5, 0.2],\n",
       "        [5. , 3.5, 1.3, 0.3],\n",
       "        [4.5, 2.3, 1.3, 0.3],\n",
       "        [4.4, 3.2, 1.3, 0.2],\n",
       "        [5. , 3.5, 1.6, 0.6],\n",
       "        [5.1, 3.8, 1.9, 0.4],\n",
       "        [4.8, 3. , 1.4, 0.3],\n",
       "        [5.1, 3.8, 1.6, 0.2],\n",
       "        [4.6, 3.2, 1.4, 0.2],\n",
       "        [5.3, 3.7, 1.5, 0.2],\n",
       "        [5. , 3.3, 1.4, 0.2],\n",
       "        [7. , 3.2, 4.7, 1.4],\n",
       "        [6.4, 3.2, 4.5, 1.5],\n",
       "        [6.9, 3.1, 4.9, 1.5],\n",
       "        [5.5, 2.3, 4. , 1.3],\n",
       "        [6.5, 2.8, 4.6, 1.5],\n",
       "        [5.7, 2.8, 4.5, 1.3],\n",
       "        [6.3, 3.3, 4.7, 1.6],\n",
       "        [4.9, 2.4, 3.3, 1. ],\n",
       "        [6.6, 2.9, 4.6, 1.3],\n",
       "        [5.2, 2.7, 3.9, 1.4],\n",
       "        [5. , 2. , 3.5, 1. ],\n",
       "        [5.9, 3. , 4.2, 1.5],\n",
       "        [6. , 2.2, 4. , 1. ],\n",
       "        [6.1, 2.9, 4.7, 1.4],\n",
       "        [5.6, 2.9, 3.6, 1.3],\n",
       "        [6.7, 3.1, 4.4, 1.4],\n",
       "        [5.6, 3. , 4.5, 1.5],\n",
       "        [5.8, 2.7, 4.1, 1. ],\n",
       "        [6.2, 2.2, 4.5, 1.5],\n",
       "        [5.6, 2.5, 3.9, 1.1],\n",
       "        [5.9, 3.2, 4.8, 1.8],\n",
       "        [6.1, 2.8, 4. , 1.3],\n",
       "        [6.3, 2.5, 4.9, 1.5],\n",
       "        [6.1, 2.8, 4.7, 1.2],\n",
       "        [6.4, 2.9, 4.3, 1.3],\n",
       "        [6.6, 3. , 4.4, 1.4],\n",
       "        [6.8, 2.8, 4.8, 1.4],\n",
       "        [6.7, 3. , 5. , 1.7],\n",
       "        [6. , 2.9, 4.5, 1.5],\n",
       "        [5.7, 2.6, 3.5, 1. ],\n",
       "        [5.5, 2.4, 3.8, 1.1],\n",
       "        [5.5, 2.4, 3.7, 1. ],\n",
       "        [5.8, 2.7, 3.9, 1.2],\n",
       "        [6. , 2.7, 5.1, 1.6],\n",
       "        [5.4, 3. , 4.5, 1.5],\n",
       "        [6. , 3.4, 4.5, 1.6],\n",
       "        [6.7, 3.1, 4.7, 1.5],\n",
       "        [6.3, 2.3, 4.4, 1.3],\n",
       "        [5.6, 3. , 4.1, 1.3],\n",
       "        [5.5, 2.5, 4. , 1.3],\n",
       "        [5.5, 2.6, 4.4, 1.2],\n",
       "        [6.1, 3. , 4.6, 1.4],\n",
       "        [5.8, 2.6, 4. , 1.2],\n",
       "        [5. , 2.3, 3.3, 1. ],\n",
       "        [5.6, 2.7, 4.2, 1.3],\n",
       "        [5.7, 3. , 4.2, 1.2],\n",
       "        [5.7, 2.9, 4.2, 1.3],\n",
       "        [6.2, 2.9, 4.3, 1.3],\n",
       "        [5.1, 2.5, 3. , 1.1],\n",
       "        [5.7, 2.8, 4.1, 1.3],\n",
       "        [6.3, 3.3, 6. , 2.5],\n",
       "        [5.8, 2.7, 5.1, 1.9],\n",
       "        [7.1, 3. , 5.9, 2.1],\n",
       "        [6.3, 2.9, 5.6, 1.8],\n",
       "        [6.5, 3. , 5.8, 2.2],\n",
       "        [7.6, 3. , 6.6, 2.1],\n",
       "        [4.9, 2.5, 4.5, 1.7],\n",
       "        [7.3, 2.9, 6.3, 1.8],\n",
       "        [6.7, 2.5, 5.8, 1.8],\n",
       "        [7.2, 3.6, 6.1, 2.5],\n",
       "        [6.5, 3.2, 5.1, 2. ],\n",
       "        [6.4, 2.7, 5.3, 1.9],\n",
       "        [6.8, 3. , 5.5, 2.1],\n",
       "        [5.7, 2.5, 5. , 2. ],\n",
       "        [5.8, 2.8, 5.1, 2.4],\n",
       "        [6.4, 3.2, 5.3, 2.3],\n",
       "        [6.5, 3. , 5.5, 1.8],\n",
       "        [7.7, 3.8, 6.7, 2.2],\n",
       "        [7.7, 2.6, 6.9, 2.3],\n",
       "        [6. , 2.2, 5. , 1.5],\n",
       "        [6.9, 3.2, 5.7, 2.3],\n",
       "        [5.6, 2.8, 4.9, 2. ],\n",
       "        [7.7, 2.8, 6.7, 2. ],\n",
       "        [6.3, 2.7, 4.9, 1.8],\n",
       "        [6.7, 3.3, 5.7, 2.1],\n",
       "        [7.2, 3.2, 6. , 1.8],\n",
       "        [6.2, 2.8, 4.8, 1.8],\n",
       "        [6.1, 3. , 4.9, 1.8],\n",
       "        [6.4, 2.8, 5.6, 2.1],\n",
       "        [7.2, 3. , 5.8, 1.6],\n",
       "        [7.4, 2.8, 6.1, 1.9],\n",
       "        [7.9, 3.8, 6.4, 2. ],\n",
       "        [6.4, 2.8, 5.6, 2.2],\n",
       "        [6.3, 2.8, 5.1, 1.5],\n",
       "        [6.1, 2.6, 5.6, 1.4],\n",
       "        [7.7, 3. , 6.1, 2.3],\n",
       "        [6.3, 3.4, 5.6, 2.4],\n",
       "        [6.4, 3.1, 5.5, 1.8],\n",
       "        [6. , 3. , 4.8, 1.8],\n",
       "        [6.9, 3.1, 5.4, 2.1],\n",
       "        [6.7, 3.1, 5.6, 2.4],\n",
       "        [6.9, 3.1, 5.1, 2.3],\n",
       "        [5.8, 2.7, 5.1, 1.9],\n",
       "        [6.8, 3.2, 5.9, 2.3],\n",
       "        [6.7, 3.3, 5.7, 2.5],\n",
       "        [6.7, 3. , 5.2, 2.3],\n",
       "        [6.3, 2.5, 5. , 1.9],\n",
       "        [6.5, 3. , 5.2, 2. ],\n",
       "        [6.2, 3.4, 5.4, 2.3],\n",
       "        [5.9, 3. , 5.1, 1.8]]),\n",
       " 'target': array([0, 0, 0, 0, 0, 0, 0, 0, 0, 0, 0, 0, 0, 0, 0, 0, 0, 0, 0, 0, 0, 0,\n",
       "        0, 0, 0, 0, 0, 0, 0, 0, 0, 0, 0, 0, 0, 0, 0, 0, 0, 0, 0, 0, 0, 0,\n",
       "        0, 0, 0, 0, 0, 0, 1, 1, 1, 1, 1, 1, 1, 1, 1, 1, 1, 1, 1, 1, 1, 1,\n",
       "        1, 1, 1, 1, 1, 1, 1, 1, 1, 1, 1, 1, 1, 1, 1, 1, 1, 1, 1, 1, 1, 1,\n",
       "        1, 1, 1, 1, 1, 1, 1, 1, 1, 1, 1, 1, 2, 2, 2, 2, 2, 2, 2, 2, 2, 2,\n",
       "        2, 2, 2, 2, 2, 2, 2, 2, 2, 2, 2, 2, 2, 2, 2, 2, 2, 2, 2, 2, 2, 2,\n",
       "        2, 2, 2, 2, 2, 2, 2, 2, 2, 2, 2, 2, 2, 2, 2, 2, 2, 2]),\n",
       " 'frame': None,\n",
       " 'target_names': array(['setosa', 'versicolor', 'virginica'], dtype='<U10'),\n",
       " 'DESCR': '.. _iris_dataset:\\n\\nIris plants dataset\\n--------------------\\n\\n**Data Set Characteristics:**\\n\\n    :Number of Instances: 150 (50 in each of three classes)\\n    :Number of Attributes: 4 numeric, predictive attributes and the class\\n    :Attribute Information:\\n        - sepal length in cm\\n        - sepal width in cm\\n        - petal length in cm\\n        - petal width in cm\\n        - class:\\n                - Iris-Setosa\\n                - Iris-Versicolour\\n                - Iris-Virginica\\n                \\n    :Summary Statistics:\\n\\n    ============== ==== ==== ======= ===== ====================\\n                    Min  Max   Mean    SD   Class Correlation\\n    ============== ==== ==== ======= ===== ====================\\n    sepal length:   4.3  7.9   5.84   0.83    0.7826\\n    sepal width:    2.0  4.4   3.05   0.43   -0.4194\\n    petal length:   1.0  6.9   3.76   1.76    0.9490  (high!)\\n    petal width:    0.1  2.5   1.20   0.76    0.9565  (high!)\\n    ============== ==== ==== ======= ===== ====================\\n\\n    :Missing Attribute Values: None\\n    :Class Distribution: 33.3% for each of 3 classes.\\n    :Creator: R.A. Fisher\\n    :Donor: Michael Marshall (MARSHALL%PLU@io.arc.nasa.gov)\\n    :Date: July, 1988\\n\\nThe famous Iris database, first used by Sir R.A. Fisher. The dataset is taken\\nfrom Fisher\\'s paper. Note that it\\'s the same as in R, but not as in the UCI\\nMachine Learning Repository, which has two wrong data points.\\n\\nThis is perhaps the best known database to be found in the\\npattern recognition literature.  Fisher\\'s paper is a classic in the field and\\nis referenced frequently to this day.  (See Duda & Hart, for example.)  The\\ndata set contains 3 classes of 50 instances each, where each class refers to a\\ntype of iris plant.  One class is linearly separable from the other 2; the\\nlatter are NOT linearly separable from each other.\\n\\n.. topic:: References\\n\\n   - Fisher, R.A. \"The use of multiple measurements in taxonomic problems\"\\n     Annual Eugenics, 7, Part II, 179-188 (1936); also in \"Contributions to\\n     Mathematical Statistics\" (John Wiley, NY, 1950).\\n   - Duda, R.O., & Hart, P.E. (1973) Pattern Classification and Scene Analysis.\\n     (Q327.D83) John Wiley & Sons.  ISBN 0-471-22361-1.  See page 218.\\n   - Dasarathy, B.V. (1980) \"Nosing Around the Neighborhood: A New System\\n     Structure and Classification Rule for Recognition in Partially Exposed\\n     Environments\".  IEEE Transactions on Pattern Analysis and Machine\\n     Intelligence, Vol. PAMI-2, No. 1, 67-71.\\n   - Gates, G.W. (1972) \"The Reduced Nearest Neighbor Rule\".  IEEE Transactions\\n     on Information Theory, May 1972, 431-433.\\n   - See also: 1988 MLC Proceedings, 54-64.  Cheeseman et al\"s AUTOCLASS II\\n     conceptual clustering system finds 3 classes in the data.\\n   - Many, many more ...',\n",
       " 'feature_names': ['sepal length (cm)',\n",
       "  'sepal width (cm)',\n",
       "  'petal length (cm)',\n",
       "  'petal width (cm)'],\n",
       " 'filename': 'iris.csv',\n",
       " 'data_module': 'sklearn.datasets.data'}"
      ]
     },
     "execution_count": 5,
     "metadata": {},
     "output_type": "execute_result"
    }
   ],
   "source": [
    "# examine the dataset\n",
    "data"
   ]
  },
  {
   "cell_type": "code",
   "execution_count": 4,
   "id": "c3597dc0",
   "metadata": {},
   "outputs": [
    {
     "data": {
      "text/plain": [
       "dict_keys(['data', 'target', 'frame', 'target_names', 'DESCR', 'feature_names', 'filename', 'data_module'])"
      ]
     },
     "execution_count": 4,
     "metadata": {},
     "output_type": "execute_result"
    }
   ],
   "source": [
    "data.keys()"
   ]
  },
  {
   "cell_type": "code",
   "execution_count": 5,
   "id": "96e4c9af",
   "metadata": {},
   "outputs": [
    {
     "data": {
      "text/plain": [
       "['sepal length (cm)',\n",
       " 'sepal width (cm)',\n",
       " 'petal length (cm)',\n",
       " 'petal width (cm)']"
      ]
     },
     "execution_count": 5,
     "metadata": {},
     "output_type": "execute_result"
    }
   ],
   "source": [
    "# get feature names\n",
    "features = data.feature_names\n",
    "features"
   ]
  },
  {
   "cell_type": "code",
   "execution_count": 6,
   "id": "6b0db2d4",
   "metadata": {},
   "outputs": [
    {
     "data": {
      "text/plain": [
       "array([[5.1, 3.5, 1.4, 0.2],\n",
       "       [4.9, 3. , 1.4, 0.2],\n",
       "       [4.7, 3.2, 1.3, 0.2],\n",
       "       [4.6, 3.1, 1.5, 0.2],\n",
       "       [5. , 3.6, 1.4, 0.2],\n",
       "       [5.4, 3.9, 1.7, 0.4],\n",
       "       [4.6, 3.4, 1.4, 0.3],\n",
       "       [5. , 3.4, 1.5, 0.2],\n",
       "       [4.4, 2.9, 1.4, 0.2],\n",
       "       [4.9, 3.1, 1.5, 0.1],\n",
       "       [5.4, 3.7, 1.5, 0.2],\n",
       "       [4.8, 3.4, 1.6, 0.2],\n",
       "       [4.8, 3. , 1.4, 0.1],\n",
       "       [4.3, 3. , 1.1, 0.1],\n",
       "       [5.8, 4. , 1.2, 0.2],\n",
       "       [5.7, 4.4, 1.5, 0.4],\n",
       "       [5.4, 3.9, 1.3, 0.4],\n",
       "       [5.1, 3.5, 1.4, 0.3],\n",
       "       [5.7, 3.8, 1.7, 0.3],\n",
       "       [5.1, 3.8, 1.5, 0.3],\n",
       "       [5.4, 3.4, 1.7, 0.2],\n",
       "       [5.1, 3.7, 1.5, 0.4],\n",
       "       [4.6, 3.6, 1. , 0.2],\n",
       "       [5.1, 3.3, 1.7, 0.5],\n",
       "       [4.8, 3.4, 1.9, 0.2],\n",
       "       [5. , 3. , 1.6, 0.2],\n",
       "       [5. , 3.4, 1.6, 0.4],\n",
       "       [5.2, 3.5, 1.5, 0.2],\n",
       "       [5.2, 3.4, 1.4, 0.2],\n",
       "       [4.7, 3.2, 1.6, 0.2],\n",
       "       [4.8, 3.1, 1.6, 0.2],\n",
       "       [5.4, 3.4, 1.5, 0.4],\n",
       "       [5.2, 4.1, 1.5, 0.1],\n",
       "       [5.5, 4.2, 1.4, 0.2],\n",
       "       [4.9, 3.1, 1.5, 0.2],\n",
       "       [5. , 3.2, 1.2, 0.2],\n",
       "       [5.5, 3.5, 1.3, 0.2],\n",
       "       [4.9, 3.6, 1.4, 0.1],\n",
       "       [4.4, 3. , 1.3, 0.2],\n",
       "       [5.1, 3.4, 1.5, 0.2],\n",
       "       [5. , 3.5, 1.3, 0.3],\n",
       "       [4.5, 2.3, 1.3, 0.3],\n",
       "       [4.4, 3.2, 1.3, 0.2],\n",
       "       [5. , 3.5, 1.6, 0.6],\n",
       "       [5.1, 3.8, 1.9, 0.4],\n",
       "       [4.8, 3. , 1.4, 0.3],\n",
       "       [5.1, 3.8, 1.6, 0.2],\n",
       "       [4.6, 3.2, 1.4, 0.2],\n",
       "       [5.3, 3.7, 1.5, 0.2],\n",
       "       [5. , 3.3, 1.4, 0.2],\n",
       "       [7. , 3.2, 4.7, 1.4],\n",
       "       [6.4, 3.2, 4.5, 1.5],\n",
       "       [6.9, 3.1, 4.9, 1.5],\n",
       "       [5.5, 2.3, 4. , 1.3],\n",
       "       [6.5, 2.8, 4.6, 1.5],\n",
       "       [5.7, 2.8, 4.5, 1.3],\n",
       "       [6.3, 3.3, 4.7, 1.6],\n",
       "       [4.9, 2.4, 3.3, 1. ],\n",
       "       [6.6, 2.9, 4.6, 1.3],\n",
       "       [5.2, 2.7, 3.9, 1.4],\n",
       "       [5. , 2. , 3.5, 1. ],\n",
       "       [5.9, 3. , 4.2, 1.5],\n",
       "       [6. , 2.2, 4. , 1. ],\n",
       "       [6.1, 2.9, 4.7, 1.4],\n",
       "       [5.6, 2.9, 3.6, 1.3],\n",
       "       [6.7, 3.1, 4.4, 1.4],\n",
       "       [5.6, 3. , 4.5, 1.5],\n",
       "       [5.8, 2.7, 4.1, 1. ],\n",
       "       [6.2, 2.2, 4.5, 1.5],\n",
       "       [5.6, 2.5, 3.9, 1.1],\n",
       "       [5.9, 3.2, 4.8, 1.8],\n",
       "       [6.1, 2.8, 4. , 1.3],\n",
       "       [6.3, 2.5, 4.9, 1.5],\n",
       "       [6.1, 2.8, 4.7, 1.2],\n",
       "       [6.4, 2.9, 4.3, 1.3],\n",
       "       [6.6, 3. , 4.4, 1.4],\n",
       "       [6.8, 2.8, 4.8, 1.4],\n",
       "       [6.7, 3. , 5. , 1.7],\n",
       "       [6. , 2.9, 4.5, 1.5],\n",
       "       [5.7, 2.6, 3.5, 1. ],\n",
       "       [5.5, 2.4, 3.8, 1.1],\n",
       "       [5.5, 2.4, 3.7, 1. ],\n",
       "       [5.8, 2.7, 3.9, 1.2],\n",
       "       [6. , 2.7, 5.1, 1.6],\n",
       "       [5.4, 3. , 4.5, 1.5],\n",
       "       [6. , 3.4, 4.5, 1.6],\n",
       "       [6.7, 3.1, 4.7, 1.5],\n",
       "       [6.3, 2.3, 4.4, 1.3],\n",
       "       [5.6, 3. , 4.1, 1.3],\n",
       "       [5.5, 2.5, 4. , 1.3],\n",
       "       [5.5, 2.6, 4.4, 1.2],\n",
       "       [6.1, 3. , 4.6, 1.4],\n",
       "       [5.8, 2.6, 4. , 1.2],\n",
       "       [5. , 2.3, 3.3, 1. ],\n",
       "       [5.6, 2.7, 4.2, 1.3],\n",
       "       [5.7, 3. , 4.2, 1.2],\n",
       "       [5.7, 2.9, 4.2, 1.3],\n",
       "       [6.2, 2.9, 4.3, 1.3],\n",
       "       [5.1, 2.5, 3. , 1.1],\n",
       "       [5.7, 2.8, 4.1, 1.3],\n",
       "       [6.3, 3.3, 6. , 2.5],\n",
       "       [5.8, 2.7, 5.1, 1.9],\n",
       "       [7.1, 3. , 5.9, 2.1],\n",
       "       [6.3, 2.9, 5.6, 1.8],\n",
       "       [6.5, 3. , 5.8, 2.2],\n",
       "       [7.6, 3. , 6.6, 2.1],\n",
       "       [4.9, 2.5, 4.5, 1.7],\n",
       "       [7.3, 2.9, 6.3, 1.8],\n",
       "       [6.7, 2.5, 5.8, 1.8],\n",
       "       [7.2, 3.6, 6.1, 2.5],\n",
       "       [6.5, 3.2, 5.1, 2. ],\n",
       "       [6.4, 2.7, 5.3, 1.9],\n",
       "       [6.8, 3. , 5.5, 2.1],\n",
       "       [5.7, 2.5, 5. , 2. ],\n",
       "       [5.8, 2.8, 5.1, 2.4],\n",
       "       [6.4, 3.2, 5.3, 2.3],\n",
       "       [6.5, 3. , 5.5, 1.8],\n",
       "       [7.7, 3.8, 6.7, 2.2],\n",
       "       [7.7, 2.6, 6.9, 2.3],\n",
       "       [6. , 2.2, 5. , 1.5],\n",
       "       [6.9, 3.2, 5.7, 2.3],\n",
       "       [5.6, 2.8, 4.9, 2. ],\n",
       "       [7.7, 2.8, 6.7, 2. ],\n",
       "       [6.3, 2.7, 4.9, 1.8],\n",
       "       [6.7, 3.3, 5.7, 2.1],\n",
       "       [7.2, 3.2, 6. , 1.8],\n",
       "       [6.2, 2.8, 4.8, 1.8],\n",
       "       [6.1, 3. , 4.9, 1.8],\n",
       "       [6.4, 2.8, 5.6, 2.1],\n",
       "       [7.2, 3. , 5.8, 1.6],\n",
       "       [7.4, 2.8, 6.1, 1.9],\n",
       "       [7.9, 3.8, 6.4, 2. ],\n",
       "       [6.4, 2.8, 5.6, 2.2],\n",
       "       [6.3, 2.8, 5.1, 1.5],\n",
       "       [6.1, 2.6, 5.6, 1.4],\n",
       "       [7.7, 3. , 6.1, 2.3],\n",
       "       [6.3, 3.4, 5.6, 2.4],\n",
       "       [6.4, 3.1, 5.5, 1.8],\n",
       "       [6. , 3. , 4.8, 1.8],\n",
       "       [6.9, 3.1, 5.4, 2.1],\n",
       "       [6.7, 3.1, 5.6, 2.4],\n",
       "       [6.9, 3.1, 5.1, 2.3],\n",
       "       [5.8, 2.7, 5.1, 1.9],\n",
       "       [6.8, 3.2, 5.9, 2.3],\n",
       "       [6.7, 3.3, 5.7, 2.5],\n",
       "       [6.7, 3. , 5.2, 2.3],\n",
       "       [6.3, 2.5, 5. , 1.9],\n",
       "       [6.5, 3. , 5.2, 2. ],\n",
       "       [6.2, 3.4, 5.4, 2.3],\n",
       "       [5.9, 3. , 5.1, 1.8]])"
      ]
     },
     "execution_count": 6,
     "metadata": {},
     "output_type": "execute_result"
    }
   ],
   "source": [
    "# get values of features which are saved as value for key \"data\" \n",
    "X = (data.data)\n",
    "X"
   ]
  },
  {
   "cell_type": "code",
   "execution_count": 7,
   "id": "e42062df",
   "metadata": {},
   "outputs": [
    {
     "data": {
      "text/plain": [
       "array([0, 0, 0, 0, 0, 0, 0, 0, 0, 0, 0, 0, 0, 0, 0, 0, 0, 0, 0, 0, 0, 0,\n",
       "       0, 0, 0, 0, 0, 0, 0, 0, 0, 0, 0, 0, 0, 0, 0, 0, 0, 0, 0, 0, 0, 0,\n",
       "       0, 0, 0, 0, 0, 0, 1, 1, 1, 1, 1, 1, 1, 1, 1, 1, 1, 1, 1, 1, 1, 1,\n",
       "       1, 1, 1, 1, 1, 1, 1, 1, 1, 1, 1, 1, 1, 1, 1, 1, 1, 1, 1, 1, 1, 1,\n",
       "       1, 1, 1, 1, 1, 1, 1, 1, 1, 1, 1, 1, 2, 2, 2, 2, 2, 2, 2, 2, 2, 2,\n",
       "       2, 2, 2, 2, 2, 2, 2, 2, 2, 2, 2, 2, 2, 2, 2, 2, 2, 2, 2, 2, 2, 2,\n",
       "       2, 2, 2, 2, 2, 2, 2, 2, 2, 2, 2, 2, 2, 2, 2, 2, 2, 2])"
      ]
     },
     "execution_count": 7,
     "metadata": {},
     "output_type": "execute_result"
    }
   ],
   "source": [
    "# get values of target which are saved as value for key \"target\" \n",
    "y = (data.target)\n",
    "y"
   ]
  },
  {
   "cell_type": "code",
   "execution_count": 8,
   "id": "79eda5cf",
   "metadata": {},
   "outputs": [],
   "source": [
    "# Split the data into training and testing sets\n",
    "X_train, X_test, y_train, y_test = train_test_split(X, y, random_state = 42, test_size=0.1)"
   ]
  },
  {
   "cell_type": "markdown",
   "id": "8da0b6df",
   "metadata": {},
   "source": [
    "# 3. Classification"
   ]
  },
  {
   "cell_type": "markdown",
   "id": "f59e801c",
   "metadata": {},
   "source": [
    "### Model Definition"
   ]
  },
  {
   "cell_type": "markdown",
   "id": "27ae1692",
   "metadata": {},
   "source": [
    "### LDA:"
   ]
  },
  {
   "cell_type": "code",
   "execution_count": 9,
   "id": "78ae9588",
   "metadata": {},
   "outputs": [
    {
     "data": {
      "text/plain": [
       "3"
      ]
     },
     "execution_count": 9,
     "metadata": {},
     "output_type": "execute_result"
    }
   ],
   "source": [
    "\n",
    "len(np.unique(y.reshape(-1)))"
   ]
  },
  {
   "cell_type": "code",
   "execution_count": 10,
   "id": "3c283e28",
   "metadata": {},
   "outputs": [],
   "source": [
    "class LDA:\n",
    "    def fit(X, y):\n",
    "        #total records\n",
    "        n = y.shape[0]\n",
    "        \n",
    "        #reshape the training set\n",
    "        X = X.reshape(n, -1)\n",
    "        \n",
    "        #No. of features in training set\n",
    "        num_features = X.shape[1] \n",
    "        \n",
    "        # Different class values in target variable\n",
    "        class_val = len(np.unique(y.reshape(-1))) \n",
    "        \n",
    "        #Initialize mean of all samples\n",
    "        m = np.zeros((class_val, num_features))\n",
    "        \n",
    "        #Initialize cov_mat of all samples\n",
    "        cov_mat = np.zeros((class_val, num_features, num_features))\n",
    "        \n",
    "        #Initialize prior of all samples\n",
    "        prior = np.zeros(class_val)\n",
    "\n",
    "        # for every class value\n",
    "        for val in range(class_val):\n",
    "            # Generate index for separating class\n",
    "            i = (y == val)\n",
    "            \n",
    "            #updating prior value\n",
    "            prior[val] = float(np.sum(i)) / n\n",
    "            #update mean\n",
    "            m[val] = np.mean(X[i, :], axis=0)\n",
    "            \n",
    "            #update cov\n",
    "            cov_mat[val] = np.cov(X[i, :], rowvar=0)\n",
    "    \n",
    "        return prior, m, cov_mat\n",
    "\n",
    "    def predict(X, prior, m , cov_mat):  \n",
    "        \n",
    "        # reshape the data\n",
    "        X = X.reshape(X.shape[0], -1)\n",
    "        \n",
    "        \n",
    "        class_val = m.shape[0] \n",
    "        # Set zero initially\n",
    "        weights = np.zeros((X.shape[0], class_val))\n",
    "        for val in range(class_val): \n",
    "            # Cal. prob\n",
    "            n_dist_prob = multivariate_normal(mean=m[val], cov=cov_mat[val])\n",
    "            # Cal. prob in X\n",
    "            for i, x in enumerate(X):\n",
    "                weights[i, val] = np.log(prior[val]) + n_dist_prob.logpdf(x)\n",
    "        pred = np.argmax(weights, axis=1)\n",
    "        return pred"
   ]
  },
  {
   "cell_type": "markdown",
   "id": "ef8f30ca",
   "metadata": {},
   "source": [
    "### Logistic Regression: "
   ]
  },
  {
   "cell_type": "code",
   "execution_count": 11,
   "id": "f3c20d71",
   "metadata": {},
   "outputs": [],
   "source": [
    "#Class definition\n",
    "class LogisticRegression():\n",
    "    def  __init__(self, lr = 0.001, epochs = 100):\n",
    "        self.lr = lr\n",
    "        self.epochs = epochs\n",
    "        self.weights = None\n",
    "        self.bias = None\n",
    "        \n",
    "    \n",
    "    def fit(self, X, y_actual):\n",
    "        \n",
    "        #No. of features will be 4 in training set\n",
    "        n_features = X.shape[1]\n",
    "        \n",
    "        #total records\n",
    "        n_records = X.shape[0]\n",
    "        \n",
    "        #initialize weight as 0 and bias as 0\n",
    "        self.weights = np.zeros(n_features)\n",
    "        self.bias = 0\n",
    "        \n",
    "        #lists to record the loss\n",
    "        mse_list = []\n",
    "        step_num_list = []\n",
    "\n",
    "        # In every itteration\n",
    "        for i in range(self.epochs):\n",
    "                    \n",
    "            # weight * x is done with matrices weight and X uisng dot product\n",
    "            # linear_pred = np.dot(X, self.weights) + self.bias   # wx + b\n",
    "            linear_pred = (X @ self.weights) + self.bias\n",
    "            \n",
    "            #Approximation of y\n",
    "            y_pred = self.sigmoid(linear_pred)\n",
    "            \n",
    "            # Calculate new values for weight and bias using derivate equations\n",
    "            # new_weight =  (1/n_records) * np.dot(X.T, (y_pred - y_actual))\n",
    "            new_weight =  (1/n_records) * (X.T @ (y_pred - y_actual))\n",
    "            new_bias = (1/n_records) * np.sum(y_pred - y_actual)\n",
    "            \n",
    "            # Update the weight and bias with the new values\n",
    "            self.weights = self.weights - self.lr * new_weight\n",
    "            self.bias = self.bias - self.lr * new_bias\n",
    "            \n",
    "            #Calculate mse\n",
    "            mse = np.mean((y_pred - y_actual)**2)\n",
    "        \n",
    "            # Save the mse and step number\n",
    "            mse_list.append(mse)\n",
    "            step_num_list.append(i)        \n",
    "        \n",
    "        return mse, mse_list, step_num_list\n",
    "    \n",
    "    def predict(self, X):\n",
    "        \n",
    "        # weight * x is done with matrices weight and X uisng dot product\n",
    "        # linear_pred = np.dot(X, self.weights) + self.bias   # wx + b\n",
    "        linear_pred = (X @ self.weights) + self.bias\n",
    "        \n",
    "        #Approximation of y\n",
    "        y_pred = self.sigmoid(linear_pred)\n",
    "        \n",
    "        predictions = [1 if i > 0.5 else 0 for i in y_pred]\n",
    "        \n",
    "        return predictions\n",
    "    \n",
    "    def sigmoid(self, x):\n",
    "        return 1/(1 + np.exp(-x))\n",
    "    \n",
    "    def plot_loss(self, mse_list, step_num_list):\n",
    "        plt.figure(figsize=(14,12))\n",
    "        plt.plot(step_num_list, mse_list)\n",
    "        plt.scatter(step_num_list, mse_list, marker=\"*\", c= '#bcbd22', cmap='Greens', edgecolors=\"Red\")\n",
    "        plt.xlabel(\"Step number\", fontsize = 12)\n",
    "        plt.ylabel(\"Loss\", fontsize = 12)\n",
    "        plt.show()\n",
    "        plt.show()\n",
    "        \n",
    "    def accuracy(self, pred, y):\n",
    "        accuracy = np.sum(y == pred)/len(y)\n",
    "        return accuracy"
   ]
  },
  {
   "cell_type": "markdown",
   "id": "52c8cfce",
   "metadata": {},
   "source": [
    "### Naive Bayes: "
   ]
  },
  {
   "cell_type": "code",
   "execution_count": 12,
   "id": "ed1fb300",
   "metadata": {},
   "outputs": [],
   "source": [
    "#class definition\n",
    "class NaiveBayes():\n",
    "\n",
    "    def fit(self, X, y):\n",
    "        #target types\n",
    "        self.t_types = np.unique(y)\n",
    "        \n",
    "        #No. of features will be 4 in training set\n",
    "        num_features = X.shape[1]\n",
    "        \n",
    "        #total records\n",
    "        n_records = X.shape[0]\n",
    "        \n",
    "        # No, of target values\n",
    "        num_types = len(self.t_types)\n",
    "        \n",
    "        #Initially define mean as 0\n",
    "        self.m = np.zeros((num_types, num_features), dtype = np.float64)\n",
    "        \n",
    "        #Initially define variance as 0\n",
    "        self.v = np.zeros((num_types, num_features), dtype = np.float64)\n",
    "        \n",
    "        #Initially define priors as 0\n",
    "        self.p = np.zeros(num_types, dtype = np.float64)\n",
    "        \n",
    "        for t_type in self.t_types:\n",
    "            X_t_type = X[t_type == y]\n",
    "            self.m[t_type,:] = X_t_type.mean(axis = 0)\n",
    "            self.v[t_type,:] = X_t_type.var(axis = 0)\n",
    "            self.p[t_type] = X_t_type.shape[0] / float(n_records)\n",
    "            \n",
    "    \n",
    "    def predict(self, X):\n",
    "        predictions = [self.s_predict(x) for x in X]\n",
    "        return predictions\n",
    "        \n",
    "        return predictions\n",
    "    \n",
    "    def s_predict(self, x):\n",
    "        post_list = []\n",
    "        \n",
    "        for i, t_type in enumerate(self.t_types):\n",
    "            p = np.log(self.p[i])\n",
    "            conditional_cls = np.sum(np.log(self.prob_density_func(i, x)))\n",
    "            post = p + conditional_cls\n",
    "            post_list.append(post)\n",
    "            \n",
    "        return self.t_types[np.argmax(post_list)]\n",
    "     \n",
    "    def prob_density_func(self, i_class, x):\n",
    "        m = self.m[i_class]\n",
    "        v = self.v[i_class]\n",
    "        num = np.exp(- np.square(x - m) / (2 * v))\n",
    "        den = np.sqrt(2 * np.pi * v)\n",
    "        return num/den"
   ]
  },
  {
   "cell_type": "markdown",
   "id": "5bc16cfc",
   "metadata": {},
   "source": [
    "## 3.1 Training"
   ]
  },
  {
   "cell_type": "markdown",
   "id": "f27001fa",
   "metadata": {},
   "source": [
    "### LDA:"
   ]
  },
  {
   "cell_type": "code",
   "execution_count": 13,
   "id": "1239c44a",
   "metadata": {},
   "outputs": [
    {
     "name": "stdout",
     "output_type": "stream",
     "text": [
      "[0.32592593 0.32592593 0.34814815]\n",
      "[[4.975      3.42727273 1.45909091 0.24772727]\n",
      " [5.91590909 2.77727273 4.25       1.32272727]\n",
      " [6.55957447 2.97446809 5.54255319 2.01489362]]\n",
      "[[[0.11866279 0.1027907  0.01593023 0.00889535]\n",
      "  [0.1027907  0.15040169 0.01090909 0.00727273]\n",
      "  [0.01593023 0.01090909 0.03224101 0.00618393]\n",
      "  [0.00889535 0.00727273 0.00618393 0.01092495]]\n",
      "\n",
      " [[0.28043869 0.10060254 0.18755814 0.06056025]\n",
      "  [0.10060254 0.10365751 0.09744186 0.04866808]\n",
      "  [0.18755814 0.09744186 0.2244186  0.08023256]\n",
      "  [0.06056025 0.04866808 0.08023256 0.04226216]]\n",
      "\n",
      " [[0.40072155 0.10851064 0.29240981 0.04344126]\n",
      "  [0.10851064 0.10629047 0.09045791 0.05234505]\n",
      "  [0.29240981 0.09045791 0.27597595 0.04630897]\n",
      "  [0.04344126 0.05234505 0.04630897 0.07694727]]]\n"
     ]
    }
   ],
   "source": [
    "#Model creation\n",
    "lda = LDA()\n",
    "\n",
    "# Model training\n",
    "prior, mean, cov_mat = LDA.fit(X_train, y_train)\n",
    "\n",
    "print(prior)\n",
    "print(mean)\n",
    "print(cov_mat)"
   ]
  },
  {
   "cell_type": "markdown",
   "id": "607b990f",
   "metadata": {},
   "source": [
    "### Logistic Regression:"
   ]
  },
  {
   "cell_type": "code",
   "execution_count": 14,
   "id": "527d8eac",
   "metadata": {},
   "outputs": [
    {
     "data": {
      "text/plain": [
       "array([0, 0, 0, 0, 0, 0, 0, 0, 0, 0, 0, 0, 0, 0, 0, 0, 0, 0, 0, 0, 0, 0,\n",
       "       0, 0, 0, 0, 0, 0, 0, 0, 0, 0, 0, 0, 0, 0, 0, 0, 0, 0, 0, 0, 0, 0,\n",
       "       0, 0, 0, 0, 0, 0, 1, 1, 1, 1, 1, 1, 1, 1, 1, 1, 1, 1, 1, 1, 1, 1,\n",
       "       1, 1, 1, 1, 1, 1, 1, 1, 1, 1, 1, 1, 1, 1, 1, 1, 1, 1, 1, 1, 1, 1,\n",
       "       1, 1, 1, 1, 1, 1, 1, 1, 1, 1, 1, 1, 2, 2, 2, 2, 2, 2, 2, 2, 2, 2,\n",
       "       2, 2, 2, 2, 2, 2, 2, 2, 2, 2, 2, 2, 2, 2, 2, 2, 2, 2, 2, 2, 2, 2,\n",
       "       2, 2, 2, 2, 2, 2, 2, 2, 2, 2, 2, 2, 2, 2, 2, 2, 2, 2])"
      ]
     },
     "execution_count": 14,
     "metadata": {},
     "output_type": "execute_result"
    }
   ],
   "source": [
    "y"
   ]
  },
  {
   "cell_type": "markdown",
   "id": "8f4f0f93",
   "metadata": {},
   "source": [
    "### Model 1: Type 0 vs (Type 1 and Type 2)"
   ]
  },
  {
   "cell_type": "code",
   "execution_count": 15,
   "id": "e9530bc6",
   "metadata": {},
   "outputs": [
    {
     "name": "stdout",
     "output_type": "stream",
     "text": [
      "[0 0 0 0 0 0 0 0 0 0 0 0 0 0 0 0 0 0 0 0 0 0 0 0 0 0 0 0 0 0 0 0 0 0 0 0 0\n",
      " 0 0 0 0 0 0 0 0 0 0 0 0 0 1 1 1 1 1 1 1 1 1 1 1 1 1 1 1 1 1 1 1 1 1 1 1 1\n",
      " 1 1 1 1 1 1 1 1 1 1 1 1 1 1 1 1 1 1 1 1 1 1 1 1 1 1 1 1 1 1 1 1 1 1 1 1 1\n",
      " 1 1 1 1 1 1 1 1 1 1 1 1 1 1 1 1 1 1 1 1 1 1 1 1 1 1 1 1 1 1 1 1 1 1 1 1 1\n",
      " 1 1]\n"
     ]
    }
   ],
   "source": [
    "# Redefine y for model 1\n",
    "y_for_model1 = []\n",
    "\n",
    "for i in range(len(y)):\n",
    "    if(y[i] != 0):\n",
    "        y_for_model1.append(1)\n",
    "    else:\n",
    "        y_for_model1.append(0)\n",
    "y_for_model1 = np.array(y_for_model1)\n",
    "print(y_for_model1)"
   ]
  },
  {
   "cell_type": "code",
   "execution_count": 16,
   "id": "27e98ddf",
   "metadata": {},
   "outputs": [
    {
     "name": "stdout",
     "output_type": "stream",
     "text": [
      "Training MSE =  0.17932187271675762\n"
     ]
    },
    {
     "data": {
      "image/png": "[encoded data removed]",
      "text/plain": [
       "<Figure size 1008x864 with 1 Axes>"
      ]
     },
     "metadata": {
      "needs_background": "light"
     },
     "output_type": "display_data"
    }
   ],
   "source": [
    "# Split the data into training and testing sets\n",
    "X_train_m1, X_test_m1, y_train_m1, y_test_m1 = train_test_split(X, y_for_model1, random_state = 42, test_size=0.1)\n",
    "\n",
    "#Model 1 creation\n",
    "lr_m1 = LogisticRegression()\n",
    "\n",
    "#Model 1 training\n",
    "mse_m1, mse_list_m1, step_num_list_m1 = lr_m1.fit(X_train_m1, y_train_m1)\n",
    "print(\"Training MSE = \", mse_m1)\n",
    "\n",
    "#Model 1 plot\n",
    "lr_m1.plot_loss(mse_list_m1, step_num_list_m1)"
   ]
  },
  {
   "cell_type": "markdown",
   "id": "045962e4",
   "metadata": {},
   "source": [
    "### Model 2: Type 1 vs (Type 0 and Type 2)"
   ]
  },
  {
   "cell_type": "code",
   "execution_count": 17,
   "id": "195ceb66",
   "metadata": {},
   "outputs": [
    {
     "name": "stdout",
     "output_type": "stream",
     "text": [
      "[1 1 1 1 1 1 1 1 1 1 1 1 1 1 1 1 1 1 1 1 1 1 1 1 1 1 1 1 1 1 1 1 1 1 1 1 1\n",
      " 1 1 1 1 1 1 1 1 1 1 1 1 1 0 0 0 0 0 0 0 0 0 0 0 0 0 0 0 0 0 0 0 0 0 0 0 0\n",
      " 0 0 0 0 0 0 0 0 0 0 0 0 0 0 0 0 0 0 0 0 0 0 0 0 0 0 1 1 1 1 1 1 1 1 1 1 1\n",
      " 1 1 1 1 1 1 1 1 1 1 1 1 1 1 1 1 1 1 1 1 1 1 1 1 1 1 1 1 1 1 1 1 1 1 1 1 1\n",
      " 1 1]\n"
     ]
    }
   ],
   "source": [
    "# Redefine y for model 2\n",
    "y_for_model2 = []\n",
    "\n",
    "for i in range(len(y)):\n",
    "    if(y[i] != 1):\n",
    "        y_for_model2.append(1)\n",
    "    else:\n",
    "        y_for_model2.append(0)\n",
    "y_for_model2 = np.array(y_for_model2)\n",
    "print(y_for_model2)"
   ]
  },
  {
   "cell_type": "code",
   "execution_count": 18,
   "id": "3870e0ce",
   "metadata": {},
   "outputs": [
    {
     "name": "stdout",
     "output_type": "stream",
     "text": [
      "Training MSE =  0.2229969719771789\n"
     ]
    },
    {
     "data": {
      "image/png": "[encoded data removed]",
      "text/plain": [
       "<Figure size 1008x864 with 1 Axes>"
      ]
     },
     "metadata": {
      "needs_background": "light"
     },
     "output_type": "display_data"
    }
   ],
   "source": [
    "# Split the data into training and testing sets\n",
    "X_train_m2, X_test_m2, y_train_m2, y_test_m2 = train_test_split(X, y_for_model2, random_state = 42, test_size=0.1)\n",
    "\n",
    "#Model 1 creation\n",
    "lr_m2 = LogisticRegression()\n",
    "\n",
    "#Model 1 training\n",
    "mse_m2, mse_list_m2, step_num_list_m2 = lr_m2.fit(X_train_m2, y_train_m2)\n",
    "print(\"Training MSE = \", mse_m2)\n",
    "\n",
    "#Model 1 plot\n",
    "lr_m2.plot_loss(mse_list_m2, step_num_list_m2)"
   ]
  },
  {
   "cell_type": "markdown",
   "id": "fa0d3f1e",
   "metadata": {},
   "source": [
    "### Model 3: Type 2 vs (Type 0 and Type 1)"
   ]
  },
  {
   "cell_type": "code",
   "execution_count": 19,
   "id": "5726be23",
   "metadata": {},
   "outputs": [
    {
     "name": "stdout",
     "output_type": "stream",
     "text": [
      "[1 1 1 1 1 1 1 1 1 1 1 1 1 1 1 1 1 1 1 1 1 1 1 1 1 1 1 1 1 1 1 1 1 1 1 1 1\n",
      " 1 1 1 1 1 1 1 1 1 1 1 1 1 1 1 1 1 1 1 1 1 1 1 1 1 1 1 1 1 1 1 1 1 1 1 1 1\n",
      " 1 1 1 1 1 1 1 1 1 1 1 1 1 1 1 1 1 1 1 1 1 1 1 1 1 1 0 0 0 0 0 0 0 0 0 0 0\n",
      " 0 0 0 0 0 0 0 0 0 0 0 0 0 0 0 0 0 0 0 0 0 0 0 0 0 0 0 0 0 0 0 0 0 0 0 0 0\n",
      " 0 0]\n"
     ]
    }
   ],
   "source": [
    "# Redefine y for model 3\n",
    "y_for_model3 = []\n",
    "\n",
    "for i in range(len(y)):\n",
    "    if(y[i] != 2):\n",
    "        y_for_model3.append(1)\n",
    "    else:\n",
    "        y_for_model3.append(0)\n",
    "y_for_model3 = np.array(y_for_model3)\n",
    "print(y_for_model3)"
   ]
  },
  {
   "cell_type": "code",
   "execution_count": 20,
   "id": "580bc19b",
   "metadata": {},
   "outputs": [
    {
     "name": "stdout",
     "output_type": "stream",
     "text": [
      "Training MSE =  0.23133419259149968\n"
     ]
    },
    {
     "data": {
      "image/png": "[encoded data removed]",
      "text/plain": [
       "<Figure size 1008x864 with 1 Axes>"
      ]
     },
     "metadata": {
      "needs_background": "light"
     },
     "output_type": "display_data"
    }
   ],
   "source": [
    "# Split the data into training and testing sets\n",
    "X_train_m3, X_test_m3, y_train_m3, y_test_m3 = train_test_split(X, y_for_model3, random_state = 42, test_size=0.1)\n",
    "\n",
    "#Model 1 creation\n",
    "lr_m3 = LogisticRegression()\n",
    "\n",
    "#Model 1 training\n",
    "mse_m3, mse_list_m3, step_num_list_m3 = lr_m3.fit(X_train_m3, y_train_m3)\n",
    "print(\"Training MSE = \", mse_m3)\n",
    "\n",
    "#Model 1 plot\n",
    "lr_m3.plot_loss(mse_list_m3, step_num_list_m3)"
   ]
  },
  {
   "cell_type": "markdown",
   "id": "5e946416",
   "metadata": {},
   "source": [
    "### Naive Bayes:"
   ]
  },
  {
   "cell_type": "code",
   "execution_count": 21,
   "id": "b933cf24",
   "metadata": {},
   "outputs": [],
   "source": [
    "nb_cls = NaiveBayes()\n",
    "nb_cls.fit(X_train, y_train)"
   ]
  },
  {
   "cell_type": "markdown",
   "id": "68605b47",
   "metadata": {},
   "source": [
    "## 3.2 Testing"
   ]
  },
  {
   "cell_type": "markdown",
   "id": "019015f1",
   "metadata": {},
   "source": [
    "### LDA:"
   ]
  },
  {
   "cell_type": "code",
   "execution_count": 22,
   "id": "bbd5aa1f",
   "metadata": {},
   "outputs": [
    {
     "name": "stdout",
     "output_type": "stream",
     "text": [
      "Accuracy of LDA =  0.9333333333333333\n"
     ]
    }
   ],
   "source": [
    "#Prediction for test data\n",
    "pred = LDA.predict(X_test, prior, mean, cov_mat)\n",
    "\n",
    "# Calculating accuracy\n",
    "acc = np.sum(y_test == pred) / len(y_test)\n",
    "\n",
    "print(\"Accuracy of LDA = \",acc)"
   ]
  },
  {
   "cell_type": "markdown",
   "id": "a4ab56c6",
   "metadata": {},
   "source": [
    "### Logistic Regression:"
   ]
  },
  {
   "cell_type": "code",
   "execution_count": 23,
   "id": "63ed7726",
   "metadata": {},
   "outputs": [
    {
     "name": "stdout",
     "output_type": "stream",
     "text": [
      "Accuracy =  0.6\n"
     ]
    }
   ],
   "source": [
    "# Accuracy for model 1\n",
    "pred_m1 = lr_m1.predict(X_test_m1)\n",
    "acc_m1 = lr_m1.accuracy(pred_m1, y_test_m1)\n",
    "print(\"Accuracy = \",acc_m1)"
   ]
  },
  {
   "cell_type": "code",
   "execution_count": 24,
   "id": "fa5a07d2",
   "metadata": {},
   "outputs": [
    {
     "name": "stdout",
     "output_type": "stream",
     "text": [
      "Accuracy =  0.6\n"
     ]
    }
   ],
   "source": [
    "# Accuracy for model 2\n",
    "pred_m2 = lr_m1.predict(X_test_m2)\n",
    "acc_m2 = lr_m2.accuracy(pred_m2, y_test_m2)\n",
    "print(\"Accuracy = \",acc_m2)"
   ]
  },
  {
   "cell_type": "code",
   "execution_count": 25,
   "id": "a1257650",
   "metadata": {},
   "outputs": [
    {
     "name": "stdout",
     "output_type": "stream",
     "text": [
      "Accuracy =  0.8\n"
     ]
    }
   ],
   "source": [
    "# Accuracy for model 3\n",
    "pred_m3 = lr_m3.predict(X_test_m3)\n",
    "acc_m3 = lr_m3.accuracy(pred_m3, y_test_m3)\n",
    "print(\"Accuracy = \",acc_m3)"
   ]
  },
  {
   "cell_type": "markdown",
   "id": "1e22a320",
   "metadata": {},
   "source": [
    "### Naive Bayes:"
   ]
  },
  {
   "cell_type": "code",
   "execution_count": 26,
   "id": "f42f06ff",
   "metadata": {},
   "outputs": [
    {
     "name": "stdout",
     "output_type": "stream",
     "text": [
      "Accuracy =  1.0\n"
     ]
    }
   ],
   "source": [
    "pred = nb_cls.predict(X_test)\n",
    "\n",
    "acc = np.sum(y_test == pred) / len(y_test)\n",
    "\n",
    "print(\"Accuracy = \", acc)"
   ]
  },
  {
   "cell_type": "markdown",
   "id": "655febd2",
   "metadata": {},
   "source": [
    "## According to the testing results, Naive Bayes has the greatest prediction accuracy on the test set which is 100%."
   ]
  }
 ],
 "metadata": {
  "kernelspec": {
   "display_name": "Python 3",
   "language": "python",
   "name": "python3"
  },
  "language_info": {
   "codemirror_mode": {
    "name": "ipython",
    "version": 3
   },
   "file_extension": ".py",
   "mimetype": "text/x-python",
   "name": "python",
   "nbconvert_exporter": "python",
   "pygments_lexer": "ipython3",
   "version": "3.8.9"
  }
 },
 "nbformat": 4,
 "nbformat_minor": 5
}
